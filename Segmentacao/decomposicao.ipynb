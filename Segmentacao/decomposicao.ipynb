{
 "cells": [
  {
   "cell_type": "markdown",
   "metadata": {},
   "source": [
    "## Decomposição da tarefa"
   ]
  },
  {
   "cell_type": "markdown",
   "metadata": {},
   "source": [
    "Segmente usuários com base em seus perfis de consumidor.\n",
    "\n",
    "- Realize a análise exploratória de dados.\n",
    "- Segmente os usuários com base no histórico de compras. Sinta-se à vontade para implementar suas próprias ideias para segmentar usuários. Pense em como a segmentação pode ajudar você a desenvolver ofertas mais personalizadas para diferentes usuários. Tente formar segmentos com base no que os usuários compram. Você pode analisar suas compras e segmentar as mercadorias de acordo com a categoria de produto a que pertencem.\n",
    "- Formule e teste hipóteses estatísticas."
   ]
  },
  {
   "cell_type": "markdown",
   "metadata": {},
   "source": [
    "#### Passo 1: Limpeza dos dados\n",
    "Etapa 1: Verificar a respeito de valores ausentes: como esses dados serão tratados?  \n",
    "\n",
    "Etapa 2: Excluir valores duplicados;  \n",
    "\n",
    "Etapa 3: Corrigir os tipos dos dados e padronização dos nomes das colunas;  \n",
    "\n",
    "Etapa 4: Corrigir possíveis erros nos dados, como informações inconsistentes ou incorretas;"
   ]
  },
  {
   "cell_type": "markdown",
   "metadata": {},
   "source": [
    "#### Passo 2: EDA\n",
    "Etapa 1: Analise as distribuições das compras:  \n",
    "- O volume de compras dos usuários;\n",
    "- A data da última compra de cada usuário;\n",
    "- As frequências de compra.  \n",
    "\n",
    "Etapa 2: Analise a coluna de data e crie novas colunas com datas mais específicas, se necessário;  \n",
    "\n",
    "Etapa 3: Busque identificar padrões nos dados, para auxiliar na identificação dos grupos;"
   ]
  },
  {
   "cell_type": "markdown",
   "metadata": {},
   "source": [
    "#### Passo 3: Segmentação dos usuários\n",
    "Etapa 1: Defina qual o tipo de segmentação de clientes que será realizada: por valor gasto nas compras, por data, ou ambos;    \n",
    "\n",
    "Etapa 2: A partir do que foi escolhido, defina como classificar os grupos de clientes: Qual a estratégia de divisão dos grupos?\n",
    "\n",
    "Etapa 3: Classifique cada cliente e analise os grupos separadamente:\n",
    "- Avalie a distribuição das categorias de produto por grupo;\n",
    "- Avalie a frequência de compra de cada grupo;\n",
    "- Avalie o gasto médio por transação em cada grupo.\n"
   ]
  },
  {
   "cell_type": "markdown",
   "metadata": {},
   "source": [
    "#### Passo 4: Formulando testes de hipóteses\n",
    "- Teste 1: Teste a hipótese de que há diferença significativa entre o gasto médio por transação entre os grupos; \n",
    "\n",
    "- Teste 2: Teste a hipótese de que há diferença significativa nas categorias de produtos entre os grupos;\n",
    "\n",
    "- Teste 3: Teste a hipótese de que a frequência de compras é significativamente igual entre os diferentes segmentos de clientes."
   ]
  },
  {
   "cell_type": "markdown",
   "metadata": {},
   "source": [
    "#### Escreva a conclusão final\n",
    "Detalhe a respeito da segmentação de clientes e os resultados dos testes de hipóteses. Além disso, discorra sobre como a segmentação realizada pode ajudar a desenvolver ofertas mais personalizadas para diferentes usuários."
   ]
  }
 ],
 "metadata": {
  "kernelspec": {
   "display_name": "myenv",
   "language": "python",
   "name": "python3"
  },
  "language_info": {
   "codemirror_mode": {
    "name": "ipython",
    "version": 3
   },
   "file_extension": ".py",
   "mimetype": "text/x-python",
   "name": "python",
   "nbconvert_exporter": "python",
   "pygments_lexer": "ipython3",
   "version": "3.12.2"
  }
 },
 "nbformat": 4,
 "nbformat_minor": 2
}
