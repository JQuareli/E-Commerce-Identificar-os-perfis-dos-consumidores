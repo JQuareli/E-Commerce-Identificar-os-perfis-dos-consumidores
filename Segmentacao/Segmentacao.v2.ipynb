{
 "cells": [
  {
   "cell_type": "markdown",
   "metadata": {},
   "source": [
    "# Projeto de Segmentação de Clientes - Everything Plus\n",
    "\n",
    "O presente projeto tem o objetivo de segmentar os usuários do nosso e-commerce com base no perfil dos clientes.\n",
    "\n",
    "Será detalhado ao longo do projeto os passos cumpridos e a metodologia utilizada para embasar a segmentação.\n",
    "\n",
    "Ao final, serão realizados alguns testes estatísticos para avaliar as diferenças entre os grupos."
   ]
  },
  {
   "cell_type": "markdown",
   "metadata": {},
   "source": [
    "##### Link para o Tableau: https://public.tableau.com/views/Livro1_17246100114020/PaineldeMKT?:language=pt-BR&publish=yes&:sid=&:redirect=auth&:display_count=n&:origin=viz_share_link\n",
    "\n",
    "##### Link para drive com apresentação e revisão bibliográfica: https://drive.google.com/drive/folders/1qCdN-RskWHqT_MaeNioo2l-mUBJskSkC?usp=drive_link"
   ]
  },
  {
   "cell_type": "markdown",
   "metadata": {},
   "source": [
    "## Importando os dados"
   ]
  },
  {
   "cell_type": "code",
   "execution_count": 215,
   "metadata": {},
   "outputs": [],
   "source": [
    "# Importing the libraries\n",
    "import pandas as pd\n",
    "import os\n",
    "from pathlib import Path\n",
    "import inflection\n",
    "import seaborn as sns\n",
    "from matplotlib import pyplot as plt\n",
    "from matplotlib.colors import to_hex\n",
    "\n",
    "# Defining a default color palette for the plots\n",
    "colors = sns.color_palette(\"Set2\", n_colors=6)\n",
    "my_palette = [to_hex(color) for color in colors]"
   ]
  },
  {
   "cell_type": "code",
   "execution_count": 216,
   "metadata": {},
   "outputs": [],
   "source": [
    "# Accessing the project directory\n",
    "os.chdir('C:/Users/joaoq/My_projects/Projeto Final/E-Commerce-Identificar-os-perfis-dos-consumidores')\n",
    "\n",
    "# Importing the data\n",
    "df_seg = pd.read_csv(Path('datasets/ecommerce_dataset_us.csv'), delimiter='\\t')"
   ]
  },
  {
   "cell_type": "markdown",
   "metadata": {},
   "source": [
    "### Limpeza e ajuste dos dados"
   ]
  },
  {
   "cell_type": "markdown",
   "metadata": {},
   "source": [
    "#### Visualizando os dados"
   ]
  },
  {
   "cell_type": "code",
   "execution_count": 217,
   "metadata": {},
   "outputs": [
    {
     "name": "stdout",
     "output_type": "stream",
     "text": [
      "<class 'pandas.core.frame.DataFrame'>\n",
      "RangeIndex: 541909 entries, 0 to 541908\n",
      "Data columns (total 7 columns):\n",
      " #   Column       Non-Null Count   Dtype  \n",
      "---  ------       --------------   -----  \n",
      " 0   InvoiceNo    541909 non-null  object \n",
      " 1   StockCode    541909 non-null  object \n",
      " 2   Description  540455 non-null  object \n",
      " 3   Quantity     541909 non-null  int64  \n",
      " 4   InvoiceDate  541909 non-null  object \n",
      " 5   UnitPrice    541909 non-null  float64\n",
      " 6   CustomerID   406829 non-null  float64\n",
      "dtypes: float64(2), int64(1), object(4)\n",
      "memory usage: 28.9+ MB\n"
     ]
    }
   ],
   "source": [
    "# Displaying a summary of the DataFrame\n",
    "df_seg.info()"
   ]
  },
  {
   "cell_type": "code",
   "execution_count": 218,
   "metadata": {},
   "outputs": [
    {
     "data": {
      "text/html": [
       "<div>\n",
       "<style scoped>\n",
       "    .dataframe tbody tr th:only-of-type {\n",
       "        vertical-align: middle;\n",
       "    }\n",
       "\n",
       "    .dataframe tbody tr th {\n",
       "        vertical-align: top;\n",
       "    }\n",
       "\n",
       "    .dataframe thead th {\n",
       "        text-align: right;\n",
       "    }\n",
       "</style>\n",
       "<table border=\"1\" class=\"dataframe\">\n",
       "  <thead>\n",
       "    <tr style=\"text-align: right;\">\n",
       "      <th></th>\n",
       "      <th>InvoiceNo</th>\n",
       "      <th>StockCode</th>\n",
       "      <th>Description</th>\n",
       "      <th>Quantity</th>\n",
       "      <th>InvoiceDate</th>\n",
       "      <th>UnitPrice</th>\n",
       "      <th>CustomerID</th>\n",
       "    </tr>\n",
       "  </thead>\n",
       "  <tbody>\n",
       "    <tr>\n",
       "      <th>378483</th>\n",
       "      <td>569651</td>\n",
       "      <td>23314</td>\n",
       "      <td>VINTAGE CHRISTMAS TABLECLOTH</td>\n",
       "      <td>4</td>\n",
       "      <td>10/03/2019 12:49</td>\n",
       "      <td>12.50</td>\n",
       "      <td>14534.0</td>\n",
       "    </tr>\n",
       "    <tr>\n",
       "      <th>243344</th>\n",
       "      <td>558450</td>\n",
       "      <td>21145</td>\n",
       "      <td>NaN</td>\n",
       "      <td>40</td>\n",
       "      <td>06/27/2019 13:41</td>\n",
       "      <td>0.00</td>\n",
       "      <td>NaN</td>\n",
       "    </tr>\n",
       "    <tr>\n",
       "      <th>317722</th>\n",
       "      <td>564817</td>\n",
       "      <td>21880</td>\n",
       "      <td>RED RETROSPOT TAPE</td>\n",
       "      <td>1</td>\n",
       "      <td>08/28/2019 12:02</td>\n",
       "      <td>0.42</td>\n",
       "      <td>NaN</td>\n",
       "    </tr>\n",
       "    <tr>\n",
       "      <th>513277</th>\n",
       "      <td>579541</td>\n",
       "      <td>23013</td>\n",
       "      <td>GLASS APOTHECARY BOTTLE TONIC</td>\n",
       "      <td>2</td>\n",
       "      <td>11/28/2019 10:12</td>\n",
       "      <td>3.95</td>\n",
       "      <td>14653.0</td>\n",
       "    </tr>\n",
       "    <tr>\n",
       "      <th>427728</th>\n",
       "      <td>573397</td>\n",
       "      <td>47504H</td>\n",
       "      <td>ENGLISH ROSE SPIRIT LEVEL</td>\n",
       "      <td>1</td>\n",
       "      <td>10/28/2019 15:19</td>\n",
       "      <td>0.79</td>\n",
       "      <td>15547.0</td>\n",
       "    </tr>\n",
       "    <tr>\n",
       "      <th>371700</th>\n",
       "      <td>569223</td>\n",
       "      <td>23281</td>\n",
       "      <td>FOLDING BUTTERFLY MIRROR RED</td>\n",
       "      <td>4</td>\n",
       "      <td>09/30/2019 13:49</td>\n",
       "      <td>0.83</td>\n",
       "      <td>16283.0</td>\n",
       "    </tr>\n",
       "    <tr>\n",
       "      <th>179894</th>\n",
       "      <td>552290</td>\n",
       "      <td>22083</td>\n",
       "      <td>PAPER CHAIN KIT RETROSPOT</td>\n",
       "      <td>3</td>\n",
       "      <td>05/06/2019 13:32</td>\n",
       "      <td>2.95</td>\n",
       "      <td>16007.0</td>\n",
       "    </tr>\n",
       "    <tr>\n",
       "      <th>193957</th>\n",
       "      <td>553546</td>\n",
       "      <td>23299</td>\n",
       "      <td>FOOD COVER WITH BEADS SET 2</td>\n",
       "      <td>50</td>\n",
       "      <td>05/15/2019 15:42</td>\n",
       "      <td>3.39</td>\n",
       "      <td>12415.0</td>\n",
       "    </tr>\n",
       "    <tr>\n",
       "      <th>34599</th>\n",
       "      <td>539411</td>\n",
       "      <td>21843</td>\n",
       "      <td>RED RETROSPOT CAKE STAND</td>\n",
       "      <td>1</td>\n",
       "      <td>12/15/2018 13:29</td>\n",
       "      <td>10.95</td>\n",
       "      <td>14243.0</td>\n",
       "    </tr>\n",
       "    <tr>\n",
       "      <th>82919</th>\n",
       "      <td>543275</td>\n",
       "      <td>22431</td>\n",
       "      <td>WATERING CAN BLUE ELEPHANT</td>\n",
       "      <td>1</td>\n",
       "      <td>02/04/2019 12:49</td>\n",
       "      <td>1.95</td>\n",
       "      <td>13584.0</td>\n",
       "    </tr>\n",
       "    <tr>\n",
       "      <th>152528</th>\n",
       "      <td>549646</td>\n",
       "      <td>84755</td>\n",
       "      <td>COLOUR GLASS T-LIGHT HOLDER HANGING</td>\n",
       "      <td>16</td>\n",
       "      <td>04/09/2019 11:51</td>\n",
       "      <td>0.65</td>\n",
       "      <td>12982.0</td>\n",
       "    </tr>\n",
       "    <tr>\n",
       "      <th>526381</th>\n",
       "      <td>580665</td>\n",
       "      <td>23166</td>\n",
       "      <td>MEDIUM CERAMIC TOP STORAGE JAR</td>\n",
       "      <td>96</td>\n",
       "      <td>12/03/2019 14:06</td>\n",
       "      <td>1.04</td>\n",
       "      <td>16684.0</td>\n",
       "    </tr>\n",
       "    <tr>\n",
       "      <th>276783</th>\n",
       "      <td>561077</td>\n",
       "      <td>22904</td>\n",
       "      <td>CALENDAR PAPER CUT DESIGN</td>\n",
       "      <td>6</td>\n",
       "      <td>07/22/2019 15:53</td>\n",
       "      <td>2.95</td>\n",
       "      <td>17649.0</td>\n",
       "    </tr>\n",
       "    <tr>\n",
       "      <th>237164</th>\n",
       "      <td>557803</td>\n",
       "      <td>23034</td>\n",
       "      <td>DRAWER KNOB CERAMIC BLACK</td>\n",
       "      <td>48</td>\n",
       "      <td>06/21/2019 10:20</td>\n",
       "      <td>1.45</td>\n",
       "      <td>12704.0</td>\n",
       "    </tr>\n",
       "    <tr>\n",
       "      <th>199777</th>\n",
       "      <td>554103</td>\n",
       "      <td>47559B</td>\n",
       "      <td>TEA TIME OVEN GLOVE</td>\n",
       "      <td>2</td>\n",
       "      <td>05/20/2019 13:51</td>\n",
       "      <td>1.25</td>\n",
       "      <td>15555.0</td>\n",
       "    </tr>\n",
       "    <tr>\n",
       "      <th>452757</th>\n",
       "      <td>575384</td>\n",
       "      <td>23318</td>\n",
       "      <td>BOX OF 6 MINI VINTAGE CRACKERS</td>\n",
       "      <td>6</td>\n",
       "      <td>11/07/2019 15:17</td>\n",
       "      <td>2.49</td>\n",
       "      <td>17690.0</td>\n",
       "    </tr>\n",
       "    <tr>\n",
       "      <th>231111</th>\n",
       "      <td>557233</td>\n",
       "      <td>23147</td>\n",
       "      <td>SINGLE ANTIQUE ROSE HOOK IVORY</td>\n",
       "      <td>3</td>\n",
       "      <td>06/15/2019 14:44</td>\n",
       "      <td>1.45</td>\n",
       "      <td>15356.0</td>\n",
       "    </tr>\n",
       "    <tr>\n",
       "      <th>219354</th>\n",
       "      <td>556092</td>\n",
       "      <td>22069</td>\n",
       "      <td>BROWN  PIRATE TREASURE CHEST</td>\n",
       "      <td>1</td>\n",
       "      <td>06/06/2019 15:25</td>\n",
       "      <td>4.13</td>\n",
       "      <td>NaN</td>\n",
       "    </tr>\n",
       "    <tr>\n",
       "      <th>390866</th>\n",
       "      <td>570601</td>\n",
       "      <td>22963</td>\n",
       "      <td>JAM JAR WITH GREEN LID</td>\n",
       "      <td>24</td>\n",
       "      <td>10/09/2019 12:08</td>\n",
       "      <td>0.85</td>\n",
       "      <td>17620.0</td>\n",
       "    </tr>\n",
       "    <tr>\n",
       "      <th>377908</th>\n",
       "      <td>569570</td>\n",
       "      <td>23206</td>\n",
       "      <td>LUNCH BAG APPLE DESIGN</td>\n",
       "      <td>250</td>\n",
       "      <td>10/03/2019 10:06</td>\n",
       "      <td>1.45</td>\n",
       "      <td>16684.0</td>\n",
       "    </tr>\n",
       "  </tbody>\n",
       "</table>\n",
       "</div>"
      ],
      "text/plain": [
       "       InvoiceNo StockCode                          Description  Quantity  \\\n",
       "378483    569651     23314         VINTAGE CHRISTMAS TABLECLOTH         4   \n",
       "243344    558450     21145                                  NaN        40   \n",
       "317722    564817     21880                   RED RETROSPOT TAPE         1   \n",
       "513277    579541     23013        GLASS APOTHECARY BOTTLE TONIC         2   \n",
       "427728    573397    47504H           ENGLISH ROSE SPIRIT LEVEL          1   \n",
       "371700    569223     23281       FOLDING BUTTERFLY MIRROR RED           4   \n",
       "179894    552290     22083            PAPER CHAIN KIT RETROSPOT         3   \n",
       "193957    553546     23299         FOOD COVER WITH BEADS SET 2         50   \n",
       "34599     539411     21843             RED RETROSPOT CAKE STAND         1   \n",
       "82919     543275     22431           WATERING CAN BLUE ELEPHANT         1   \n",
       "152528    549646     84755  COLOUR GLASS T-LIGHT HOLDER HANGING        16   \n",
       "526381    580665     23166       MEDIUM CERAMIC TOP STORAGE JAR        96   \n",
       "276783    561077     22904            CALENDAR PAPER CUT DESIGN         6   \n",
       "237164    557803     23034            DRAWER KNOB CERAMIC BLACK        48   \n",
       "199777    554103    47559B                  TEA TIME OVEN GLOVE         2   \n",
       "452757    575384     23318       BOX OF 6 MINI VINTAGE CRACKERS         6   \n",
       "231111    557233     23147       SINGLE ANTIQUE ROSE HOOK IVORY         3   \n",
       "219354    556092     22069        BROWN  PIRATE TREASURE CHEST          1   \n",
       "390866    570601     22963               JAM JAR WITH GREEN LID        24   \n",
       "377908    569570     23206               LUNCH BAG APPLE DESIGN       250   \n",
       "\n",
       "             InvoiceDate  UnitPrice  CustomerID  \n",
       "378483  10/03/2019 12:49      12.50     14534.0  \n",
       "243344  06/27/2019 13:41       0.00         NaN  \n",
       "317722  08/28/2019 12:02       0.42         NaN  \n",
       "513277  11/28/2019 10:12       3.95     14653.0  \n",
       "427728  10/28/2019 15:19       0.79     15547.0  \n",
       "371700  09/30/2019 13:49       0.83     16283.0  \n",
       "179894  05/06/2019 13:32       2.95     16007.0  \n",
       "193957  05/15/2019 15:42       3.39     12415.0  \n",
       "34599   12/15/2018 13:29      10.95     14243.0  \n",
       "82919   02/04/2019 12:49       1.95     13584.0  \n",
       "152528  04/09/2019 11:51       0.65     12982.0  \n",
       "526381  12/03/2019 14:06       1.04     16684.0  \n",
       "276783  07/22/2019 15:53       2.95     17649.0  \n",
       "237164  06/21/2019 10:20       1.45     12704.0  \n",
       "199777  05/20/2019 13:51       1.25     15555.0  \n",
       "452757  11/07/2019 15:17       2.49     17690.0  \n",
       "231111  06/15/2019 14:44       1.45     15356.0  \n",
       "219354  06/06/2019 15:25       4.13         NaN  \n",
       "390866  10/09/2019 12:08       0.85     17620.0  \n",
       "377908  10/03/2019 10:06       1.45     16684.0  "
      ]
     },
     "execution_count": 218,
     "metadata": {},
     "output_type": "execute_result"
    }
   ],
   "source": [
    "# Displaying a sample of the data\n",
    "df_seg.sample(20)"
   ]
  },
  {
   "cell_type": "code",
   "execution_count": 219,
   "metadata": {},
   "outputs": [
    {
     "data": {
      "text/plain": [
       "InvoiceNo      25900\n",
       "StockCode       4070\n",
       "Description     4223\n",
       "Quantity         722\n",
       "InvoiceDate    23260\n",
       "UnitPrice       1630\n",
       "CustomerID      4372\n",
       "dtype: int64"
      ]
     },
     "execution_count": 219,
     "metadata": {},
     "output_type": "execute_result"
    }
   ],
   "source": [
    "# Display the number of unique values in each column\n",
    "df_seg.nunique()"
   ]
  },
  {
   "cell_type": "code",
   "execution_count": 220,
   "metadata": {},
   "outputs": [
    {
     "data": {
      "text/html": [
       "<div>\n",
       "<style scoped>\n",
       "    .dataframe tbody tr th:only-of-type {\n",
       "        vertical-align: middle;\n",
       "    }\n",
       "\n",
       "    .dataframe tbody tr th {\n",
       "        vertical-align: top;\n",
       "    }\n",
       "\n",
       "    .dataframe thead th {\n",
       "        text-align: right;\n",
       "    }\n",
       "</style>\n",
       "<table border=\"1\" class=\"dataframe\">\n",
       "  <thead>\n",
       "    <tr style=\"text-align: right;\">\n",
       "      <th></th>\n",
       "      <th>Quantity</th>\n",
       "      <th>UnitPrice</th>\n",
       "      <th>CustomerID</th>\n",
       "    </tr>\n",
       "  </thead>\n",
       "  <tbody>\n",
       "    <tr>\n",
       "      <th>count</th>\n",
       "      <td>541909.000000</td>\n",
       "      <td>541909.000000</td>\n",
       "      <td>406829.000000</td>\n",
       "    </tr>\n",
       "    <tr>\n",
       "      <th>mean</th>\n",
       "      <td>9.552250</td>\n",
       "      <td>4.611114</td>\n",
       "      <td>15287.690570</td>\n",
       "    </tr>\n",
       "    <tr>\n",
       "      <th>std</th>\n",
       "      <td>218.081158</td>\n",
       "      <td>96.759853</td>\n",
       "      <td>1713.600303</td>\n",
       "    </tr>\n",
       "    <tr>\n",
       "      <th>min</th>\n",
       "      <td>-80995.000000</td>\n",
       "      <td>-11062.060000</td>\n",
       "      <td>12346.000000</td>\n",
       "    </tr>\n",
       "    <tr>\n",
       "      <th>25%</th>\n",
       "      <td>1.000000</td>\n",
       "      <td>1.250000</td>\n",
       "      <td>13953.000000</td>\n",
       "    </tr>\n",
       "    <tr>\n",
       "      <th>50%</th>\n",
       "      <td>3.000000</td>\n",
       "      <td>2.080000</td>\n",
       "      <td>15152.000000</td>\n",
       "    </tr>\n",
       "    <tr>\n",
       "      <th>75%</th>\n",
       "      <td>10.000000</td>\n",
       "      <td>4.130000</td>\n",
       "      <td>16791.000000</td>\n",
       "    </tr>\n",
       "    <tr>\n",
       "      <th>max</th>\n",
       "      <td>80995.000000</td>\n",
       "      <td>38970.000000</td>\n",
       "      <td>18287.000000</td>\n",
       "    </tr>\n",
       "  </tbody>\n",
       "</table>\n",
       "</div>"
      ],
      "text/plain": [
       "            Quantity      UnitPrice     CustomerID\n",
       "count  541909.000000  541909.000000  406829.000000\n",
       "mean        9.552250       4.611114   15287.690570\n",
       "std       218.081158      96.759853    1713.600303\n",
       "min    -80995.000000  -11062.060000   12346.000000\n",
       "25%         1.000000       1.250000   13953.000000\n",
       "50%         3.000000       2.080000   15152.000000\n",
       "75%        10.000000       4.130000   16791.000000\n",
       "max     80995.000000   38970.000000   18287.000000"
      ]
     },
     "execution_count": 220,
     "metadata": {},
     "output_type": "execute_result"
    }
   ],
   "source": [
    "#Generating summary statistics for each column in the DataFrame\n",
    "df_seg.describe()"
   ]
  },
  {
   "cell_type": "markdown",
   "metadata": {},
   "source": [
    "#### Ajustando os nomes das colunas"
   ]
  },
  {
   "cell_type": "code",
   "execution_count": 221,
   "metadata": {},
   "outputs": [
    {
     "data": {
      "text/plain": [
       "Index(['invoice_no', 'stock_code', 'description', 'quantity', 'invoice_date',\n",
       "       'unit_price', 'customer_id'],\n",
       "      dtype='object')"
      ]
     },
     "execution_count": 221,
     "metadata": {},
     "output_type": "execute_result"
    }
   ],
   "source": [
    "# Renaming columns to snake_case\n",
    "df_seg = df_seg.rename(columns= lambda x: inflection.underscore(x))\n",
    "df_seg.columns"
   ]
  },
  {
   "cell_type": "markdown",
   "metadata": {},
   "source": [
    "#### Removendo os duplicados"
   ]
  },
  {
   "cell_type": "code",
   "execution_count": 222,
   "metadata": {},
   "outputs": [
    {
     "data": {
      "text/plain": [
       "False    536641\n",
       "True       5268\n",
       "Name: count, dtype: int64"
      ]
     },
     "execution_count": 222,
     "metadata": {},
     "output_type": "execute_result"
    }
   ],
   "source": [
    "# Visualizing the number of duplicated values\n",
    "df_seg.duplicated().value_counts()"
   ]
  },
  {
   "cell_type": "code",
   "execution_count": 223,
   "metadata": {},
   "outputs": [],
   "source": [
    "# Removing duplicate entries\n",
    "df_seg=df_seg.drop_duplicates()"
   ]
  },
  {
   "cell_type": "markdown",
   "metadata": {},
   "source": [
    "#### Lidando com os valores ausentes\n",
    "\n",
    "A ideia aqui é buscar as descrições faltantes buscando pelo identificador de item e buscar o id do customer pelo identificador de pedido."
   ]
  },
  {
   "cell_type": "markdown",
   "metadata": {},
   "source": [
    "##### Lidando com quantidades negativas"
   ]
  },
  {
   "cell_type": "code",
   "execution_count": 224,
   "metadata": {},
   "outputs": [
    {
     "data": {
      "text/html": [
       "<div>\n",
       "<style scoped>\n",
       "    .dataframe tbody tr th:only-of-type {\n",
       "        vertical-align: middle;\n",
       "    }\n",
       "\n",
       "    .dataframe tbody tr th {\n",
       "        vertical-align: top;\n",
       "    }\n",
       "\n",
       "    .dataframe thead th {\n",
       "        text-align: right;\n",
       "    }\n",
       "</style>\n",
       "<table border=\"1\" class=\"dataframe\">\n",
       "  <thead>\n",
       "    <tr style=\"text-align: right;\">\n",
       "      <th></th>\n",
       "      <th>invoice_no</th>\n",
       "      <th>stock_code</th>\n",
       "      <th>quantity</th>\n",
       "      <th>customer_id</th>\n",
       "    </tr>\n",
       "  </thead>\n",
       "  <tbody>\n",
       "    <tr>\n",
       "      <th>141</th>\n",
       "      <td>C536379</td>\n",
       "      <td>D</td>\n",
       "      <td>-1</td>\n",
       "      <td>14527.0</td>\n",
       "    </tr>\n",
       "    <tr>\n",
       "      <th>154</th>\n",
       "      <td>C536383</td>\n",
       "      <td>35004C</td>\n",
       "      <td>-1</td>\n",
       "      <td>15311.0</td>\n",
       "    </tr>\n",
       "    <tr>\n",
       "      <th>235</th>\n",
       "      <td>C536391</td>\n",
       "      <td>22556</td>\n",
       "      <td>-12</td>\n",
       "      <td>17548.0</td>\n",
       "    </tr>\n",
       "    <tr>\n",
       "      <th>236</th>\n",
       "      <td>C536391</td>\n",
       "      <td>21984</td>\n",
       "      <td>-24</td>\n",
       "      <td>17548.0</td>\n",
       "    </tr>\n",
       "    <tr>\n",
       "      <th>237</th>\n",
       "      <td>C536391</td>\n",
       "      <td>21983</td>\n",
       "      <td>-24</td>\n",
       "      <td>17548.0</td>\n",
       "    </tr>\n",
       "    <tr>\n",
       "      <th>...</th>\n",
       "      <td>...</td>\n",
       "      <td>...</td>\n",
       "      <td>...</td>\n",
       "      <td>...</td>\n",
       "    </tr>\n",
       "    <tr>\n",
       "      <th>540449</th>\n",
       "      <td>C581490</td>\n",
       "      <td>23144</td>\n",
       "      <td>-11</td>\n",
       "      <td>14397.0</td>\n",
       "    </tr>\n",
       "    <tr>\n",
       "      <th>541541</th>\n",
       "      <td>C581499</td>\n",
       "      <td>M</td>\n",
       "      <td>-1</td>\n",
       "      <td>15498.0</td>\n",
       "    </tr>\n",
       "    <tr>\n",
       "      <th>541715</th>\n",
       "      <td>C581568</td>\n",
       "      <td>21258</td>\n",
       "      <td>-5</td>\n",
       "      <td>15311.0</td>\n",
       "    </tr>\n",
       "    <tr>\n",
       "      <th>541716</th>\n",
       "      <td>C581569</td>\n",
       "      <td>84978</td>\n",
       "      <td>-1</td>\n",
       "      <td>17315.0</td>\n",
       "    </tr>\n",
       "    <tr>\n",
       "      <th>541717</th>\n",
       "      <td>C581569</td>\n",
       "      <td>20979</td>\n",
       "      <td>-5</td>\n",
       "      <td>17315.0</td>\n",
       "    </tr>\n",
       "  </tbody>\n",
       "</table>\n",
       "<p>10513 rows × 4 columns</p>\n",
       "</div>"
      ],
      "text/plain": [
       "       invoice_no stock_code  quantity  customer_id\n",
       "141       C536379          D        -1      14527.0\n",
       "154       C536383     35004C        -1      15311.0\n",
       "235       C536391      22556       -12      17548.0\n",
       "236       C536391      21984       -24      17548.0\n",
       "237       C536391      21983       -24      17548.0\n",
       "...           ...        ...       ...          ...\n",
       "540449    C581490      23144       -11      14397.0\n",
       "541541    C581499          M        -1      15498.0\n",
       "541715    C581568      21258        -5      15311.0\n",
       "541716    C581569      84978        -1      17315.0\n",
       "541717    C581569      20979        -5      17315.0\n",
       "\n",
       "[10513 rows x 4 columns]"
      ]
     },
     "execution_count": 224,
     "metadata": {},
     "output_type": "execute_result"
    }
   ],
   "source": [
    "# Visualizing orders with negative quantities\n",
    "df_cancel = df_seg[df_seg['quantity'] < 0][['invoice_no','stock_code','quantity','customer_id']]\n",
    "df_cancel.drop_duplicates(inplace=True)\n",
    "df_cancel"
   ]
  },
  {
   "cell_type": "code",
   "execution_count": 225,
   "metadata": {},
   "outputs": [
    {
     "data": {
      "text/html": [
       "<div>\n",
       "<style scoped>\n",
       "    .dataframe tbody tr th:only-of-type {\n",
       "        vertical-align: middle;\n",
       "    }\n",
       "\n",
       "    .dataframe tbody tr th {\n",
       "        vertical-align: top;\n",
       "    }\n",
       "\n",
       "    .dataframe thead th {\n",
       "        text-align: right;\n",
       "    }\n",
       "</style>\n",
       "<table border=\"1\" class=\"dataframe\">\n",
       "  <thead>\n",
       "    <tr style=\"text-align: right;\">\n",
       "      <th></th>\n",
       "      <th>invoice_no</th>\n",
       "      <th>stock_code</th>\n",
       "      <th>description</th>\n",
       "      <th>quantity</th>\n",
       "      <th>invoice_date</th>\n",
       "      <th>unit_price</th>\n",
       "      <th>customer_id</th>\n",
       "    </tr>\n",
       "  </thead>\n",
       "  <tbody>\n",
       "    <tr>\n",
       "      <th>154</th>\n",
       "      <td>C536383</td>\n",
       "      <td>35004C</td>\n",
       "      <td>SET OF 3 COLOURED  FLYING DUCKS</td>\n",
       "      <td>-1</td>\n",
       "      <td>11/29/2018 09:49</td>\n",
       "      <td>4.65</td>\n",
       "      <td>15311.0</td>\n",
       "    </tr>\n",
       "    <tr>\n",
       "      <th>9200</th>\n",
       "      <td>537195</td>\n",
       "      <td>35004C</td>\n",
       "      <td>SET OF 3 COLOURED  FLYING DUCKS</td>\n",
       "      <td>12</td>\n",
       "      <td>12/03/2018 13:55</td>\n",
       "      <td>4.65</td>\n",
       "      <td>15311.0</td>\n",
       "    </tr>\n",
       "    <tr>\n",
       "      <th>18196</th>\n",
       "      <td>C537805</td>\n",
       "      <td>35004C</td>\n",
       "      <td>SET OF 3 COLOURED  FLYING DUCKS</td>\n",
       "      <td>-1</td>\n",
       "      <td>12/06/2018 13:18</td>\n",
       "      <td>4.65</td>\n",
       "      <td>15311.0</td>\n",
       "    </tr>\n",
       "    <tr>\n",
       "      <th>28630</th>\n",
       "      <td>538651</td>\n",
       "      <td>35004C</td>\n",
       "      <td>SET OF 3 COLOURED  FLYING DUCKS</td>\n",
       "      <td>12</td>\n",
       "      <td>12/11/2018 15:07</td>\n",
       "      <td>4.65</td>\n",
       "      <td>15311.0</td>\n",
       "    </tr>\n",
       "    <tr>\n",
       "      <th>39381</th>\n",
       "      <td>C539640</td>\n",
       "      <td>35004C</td>\n",
       "      <td>SET OF 3 COLOURED  FLYING DUCKS</td>\n",
       "      <td>-3</td>\n",
       "      <td>12/18/2018 15:27</td>\n",
       "      <td>4.65</td>\n",
       "      <td>15311.0</td>\n",
       "    </tr>\n",
       "    <tr>\n",
       "      <th>44157</th>\n",
       "      <td>540157</td>\n",
       "      <td>35004C</td>\n",
       "      <td>SET OF 3 COLOURED  FLYING DUCKS</td>\n",
       "      <td>12</td>\n",
       "      <td>01/03/2019 11:41</td>\n",
       "      <td>4.65</td>\n",
       "      <td>15311.0</td>\n",
       "    </tr>\n",
       "    <tr>\n",
       "      <th>59542</th>\n",
       "      <td>541293</td>\n",
       "      <td>35004C</td>\n",
       "      <td>SET OF 3 COLOURED  FLYING DUCKS</td>\n",
       "      <td>12</td>\n",
       "      <td>01/15/2019 13:39</td>\n",
       "      <td>4.65</td>\n",
       "      <td>15311.0</td>\n",
       "    </tr>\n",
       "    <tr>\n",
       "      <th>78333</th>\n",
       "      <td>C542866</td>\n",
       "      <td>35004C</td>\n",
       "      <td>SET OF 3 COLOURED  FLYING DUCKS</td>\n",
       "      <td>-2</td>\n",
       "      <td>01/30/2019 12:14</td>\n",
       "      <td>4.65</td>\n",
       "      <td>15311.0</td>\n",
       "    </tr>\n",
       "  </tbody>\n",
       "</table>\n",
       "</div>"
      ],
      "text/plain": [
       "      invoice_no stock_code                      description  quantity  \\\n",
       "154      C536383     35004C  SET OF 3 COLOURED  FLYING DUCKS        -1   \n",
       "9200      537195     35004C  SET OF 3 COLOURED  FLYING DUCKS        12   \n",
       "18196    C537805     35004C  SET OF 3 COLOURED  FLYING DUCKS        -1   \n",
       "28630     538651     35004C  SET OF 3 COLOURED  FLYING DUCKS        12   \n",
       "39381    C539640     35004C  SET OF 3 COLOURED  FLYING DUCKS        -3   \n",
       "44157     540157     35004C  SET OF 3 COLOURED  FLYING DUCKS        12   \n",
       "59542     541293     35004C  SET OF 3 COLOURED  FLYING DUCKS        12   \n",
       "78333    C542866     35004C  SET OF 3 COLOURED  FLYING DUCKS        -2   \n",
       "\n",
       "           invoice_date  unit_price  customer_id  \n",
       "154    11/29/2018 09:49        4.65      15311.0  \n",
       "9200   12/03/2018 13:55        4.65      15311.0  \n",
       "18196  12/06/2018 13:18        4.65      15311.0  \n",
       "28630  12/11/2018 15:07        4.65      15311.0  \n",
       "39381  12/18/2018 15:27        4.65      15311.0  \n",
       "44157  01/03/2019 11:41        4.65      15311.0  \n",
       "59542  01/15/2019 13:39        4.65      15311.0  \n",
       "78333  01/30/2019 12:14        4.65      15311.0  "
      ]
     },
     "execution_count": 225,
     "metadata": {},
     "output_type": "execute_result"
    }
   ],
   "source": [
    "# Visualizing an example of a user with canceled orders\n",
    "df_seg[(df_seg['stock_code']=='35004C') & (df_seg['customer_id']== 15311.0)]"
   ]
  },
  {
   "cell_type": "markdown",
   "metadata": {},
   "source": [
    "As quantidades negativas representam ordens canceladas, vimos que um cancelamento não tem o mesmo código da transação original, então esses lançamentos não serão retirados nem ajustados, eles vão abater as quantidades originais naturalmente conforme os dados são agrupados por usuário e por data."
   ]
  },
  {
   "cell_type": "markdown",
   "metadata": {},
   "source": [
    "##### Lidando com preços unitários negativos"
   ]
  },
  {
   "cell_type": "code",
   "execution_count": 226,
   "metadata": {},
   "outputs": [
    {
     "data": {
      "text/html": [
       "<div>\n",
       "<style scoped>\n",
       "    .dataframe tbody tr th:only-of-type {\n",
       "        vertical-align: middle;\n",
       "    }\n",
       "\n",
       "    .dataframe tbody tr th {\n",
       "        vertical-align: top;\n",
       "    }\n",
       "\n",
       "    .dataframe thead th {\n",
       "        text-align: right;\n",
       "    }\n",
       "</style>\n",
       "<table border=\"1\" class=\"dataframe\">\n",
       "  <thead>\n",
       "    <tr style=\"text-align: right;\">\n",
       "      <th></th>\n",
       "      <th>invoice_no</th>\n",
       "      <th>stock_code</th>\n",
       "      <th>description</th>\n",
       "      <th>quantity</th>\n",
       "      <th>invoice_date</th>\n",
       "      <th>unit_price</th>\n",
       "      <th>customer_id</th>\n",
       "    </tr>\n",
       "  </thead>\n",
       "  <tbody>\n",
       "    <tr>\n",
       "      <th>299983</th>\n",
       "      <td>A563186</td>\n",
       "      <td>B</td>\n",
       "      <td>Adjust bad debt</td>\n",
       "      <td>1</td>\n",
       "      <td>08/10/2019 14:51</td>\n",
       "      <td>-11062.06</td>\n",
       "      <td>NaN</td>\n",
       "    </tr>\n",
       "    <tr>\n",
       "      <th>299984</th>\n",
       "      <td>A563187</td>\n",
       "      <td>B</td>\n",
       "      <td>Adjust bad debt</td>\n",
       "      <td>1</td>\n",
       "      <td>08/10/2019 14:52</td>\n",
       "      <td>-11062.06</td>\n",
       "      <td>NaN</td>\n",
       "    </tr>\n",
       "  </tbody>\n",
       "</table>\n",
       "</div>"
      ],
      "text/plain": [
       "       invoice_no stock_code      description  quantity      invoice_date  \\\n",
       "299983    A563186          B  Adjust bad debt         1  08/10/2019 14:51   \n",
       "299984    A563187          B  Adjust bad debt         1  08/10/2019 14:52   \n",
       "\n",
       "        unit_price  customer_id  \n",
       "299983   -11062.06          NaN  \n",
       "299984   -11062.06          NaN  "
      ]
     },
     "execution_count": 226,
     "metadata": {},
     "output_type": "execute_result"
    }
   ],
   "source": [
    "# Visualizing orders with negative unit_price\n",
    "df_seg[df_seg['unit_price'] < 0]"
   ]
  },
  {
   "cell_type": "code",
   "execution_count": 227,
   "metadata": {},
   "outputs": [],
   "source": [
    "# Removing negative price data\n",
    "df_seg = df_seg[df_seg['unit_price'] >= 0]"
   ]
  },
  {
   "cell_type": "markdown",
   "metadata": {},
   "source": [
    "##### Coluna descripition"
   ]
  },
  {
   "cell_type": "code",
   "execution_count": 228,
   "metadata": {},
   "outputs": [
    {
     "data": {
      "text/plain": [
       "description\n",
       "WHITE HANGING HEART T-LIGHT HOLDER    2290\n",
       "CREAM HANGING HEART T-LIGHT HOLDER       9\n",
       "?                                        1\n",
       "wrongly marked carton 22804              1\n",
       "Name: count, dtype: int64"
      ]
     },
     "execution_count": 228,
     "metadata": {},
     "output_type": "execute_result"
    }
   ],
   "source": [
    "# Visualizing an example to study the case\n",
    "df_seg[df_seg['stock_code'] == '85123A']['description'].value_counts()"
   ]
  },
  {
   "cell_type": "code",
   "execution_count": 229,
   "metadata": {},
   "outputs": [
    {
     "data": {
      "text/html": [
       "<div>\n",
       "<style scoped>\n",
       "    .dataframe tbody tr th:only-of-type {\n",
       "        vertical-align: middle;\n",
       "    }\n",
       "\n",
       "    .dataframe tbody tr th {\n",
       "        vertical-align: top;\n",
       "    }\n",
       "\n",
       "    .dataframe thead th {\n",
       "        text-align: right;\n",
       "    }\n",
       "</style>\n",
       "<table border=\"1\" class=\"dataframe\">\n",
       "  <thead>\n",
       "    <tr style=\"text-align: right;\">\n",
       "      <th></th>\n",
       "      <th>invoice_no</th>\n",
       "      <th>stock_code</th>\n",
       "      <th>description</th>\n",
       "      <th>quantity</th>\n",
       "      <th>invoice_date</th>\n",
       "      <th>unit_price</th>\n",
       "      <th>customer_id</th>\n",
       "    </tr>\n",
       "  </thead>\n",
       "  <tbody>\n",
       "    <tr>\n",
       "      <th>1970</th>\n",
       "      <td>536545</td>\n",
       "      <td>21134</td>\n",
       "      <td>NaN</td>\n",
       "      <td>1</td>\n",
       "      <td>11/29/2018 14:32</td>\n",
       "      <td>0.0</td>\n",
       "      <td>NaN</td>\n",
       "    </tr>\n",
       "    <tr>\n",
       "      <th>1987</th>\n",
       "      <td>536549</td>\n",
       "      <td>85226A</td>\n",
       "      <td>NaN</td>\n",
       "      <td>1</td>\n",
       "      <td>11/29/2018 14:34</td>\n",
       "      <td>0.0</td>\n",
       "      <td>NaN</td>\n",
       "    </tr>\n",
       "    <tr>\n",
       "      <th>1988</th>\n",
       "      <td>536550</td>\n",
       "      <td>85044</td>\n",
       "      <td>NaN</td>\n",
       "      <td>1</td>\n",
       "      <td>11/29/2018 14:34</td>\n",
       "      <td>0.0</td>\n",
       "      <td>NaN</td>\n",
       "    </tr>\n",
       "    <tr>\n",
       "      <th>2024</th>\n",
       "      <td>536552</td>\n",
       "      <td>20950</td>\n",
       "      <td>NaN</td>\n",
       "      <td>1</td>\n",
       "      <td>11/29/2018 14:34</td>\n",
       "      <td>0.0</td>\n",
       "      <td>NaN</td>\n",
       "    </tr>\n",
       "    <tr>\n",
       "      <th>2026</th>\n",
       "      <td>536554</td>\n",
       "      <td>84670</td>\n",
       "      <td>NaN</td>\n",
       "      <td>23</td>\n",
       "      <td>11/29/2018 14:35</td>\n",
       "      <td>0.0</td>\n",
       "      <td>NaN</td>\n",
       "    </tr>\n",
       "    <tr>\n",
       "      <th>...</th>\n",
       "      <td>...</td>\n",
       "      <td>...</td>\n",
       "      <td>...</td>\n",
       "      <td>...</td>\n",
       "      <td>...</td>\n",
       "      <td>...</td>\n",
       "      <td>...</td>\n",
       "    </tr>\n",
       "    <tr>\n",
       "      <th>280754</th>\n",
       "      <td>561498</td>\n",
       "      <td>21610</td>\n",
       "      <td>NaN</td>\n",
       "      <td>-14</td>\n",
       "      <td>07/25/2019 14:10</td>\n",
       "      <td>0.0</td>\n",
       "      <td>NaN</td>\n",
       "    </tr>\n",
       "    <tr>\n",
       "      <th>281615</th>\n",
       "      <td>561555</td>\n",
       "      <td>37477B</td>\n",
       "      <td>NaN</td>\n",
       "      <td>-11</td>\n",
       "      <td>07/26/2019 10:21</td>\n",
       "      <td>0.0</td>\n",
       "      <td>NaN</td>\n",
       "    </tr>\n",
       "    <tr>\n",
       "      <th>281616</th>\n",
       "      <td>561557</td>\n",
       "      <td>37477C</td>\n",
       "      <td>NaN</td>\n",
       "      <td>-31</td>\n",
       "      <td>07/26/2019 10:21</td>\n",
       "      <td>0.0</td>\n",
       "      <td>NaN</td>\n",
       "    </tr>\n",
       "    <tr>\n",
       "      <th>346849</th>\n",
       "      <td>567207</td>\n",
       "      <td>35592T</td>\n",
       "      <td>NaN</td>\n",
       "      <td>4</td>\n",
       "      <td>09/17/2019 11:01</td>\n",
       "      <td>0.0</td>\n",
       "      <td>NaN</td>\n",
       "    </tr>\n",
       "    <tr>\n",
       "      <th>497301</th>\n",
       "      <td>578360</td>\n",
       "      <td>84971L</td>\n",
       "      <td>NaN</td>\n",
       "      <td>2</td>\n",
       "      <td>11/22/2019 10:36</td>\n",
       "      <td>0.0</td>\n",
       "      <td>NaN</td>\n",
       "    </tr>\n",
       "  </tbody>\n",
       "</table>\n",
       "<p>112 rows × 7 columns</p>\n",
       "</div>"
      ],
      "text/plain": [
       "       invoice_no stock_code description  quantity      invoice_date  \\\n",
       "1970       536545      21134         NaN         1  11/29/2018 14:32   \n",
       "1987       536549     85226A         NaN         1  11/29/2018 14:34   \n",
       "1988       536550      85044         NaN         1  11/29/2018 14:34   \n",
       "2024       536552      20950         NaN         1  11/29/2018 14:34   \n",
       "2026       536554      84670         NaN        23  11/29/2018 14:35   \n",
       "...           ...        ...         ...       ...               ...   \n",
       "280754     561498      21610         NaN       -14  07/25/2019 14:10   \n",
       "281615     561555     37477B         NaN       -11  07/26/2019 10:21   \n",
       "281616     561557     37477C         NaN       -31  07/26/2019 10:21   \n",
       "346849     567207     35592T         NaN         4  09/17/2019 11:01   \n",
       "497301     578360     84971L         NaN         2  11/22/2019 10:36   \n",
       "\n",
       "        unit_price  customer_id  \n",
       "1970           0.0          NaN  \n",
       "1987           0.0          NaN  \n",
       "1988           0.0          NaN  \n",
       "2024           0.0          NaN  \n",
       "2026           0.0          NaN  \n",
       "...            ...          ...  \n",
       "280754         0.0          NaN  \n",
       "281615         0.0          NaN  \n",
       "281616         0.0          NaN  \n",
       "346849         0.0          NaN  \n",
       "497301         0.0          NaN  \n",
       "\n",
       "[112 rows x 7 columns]"
      ]
     },
     "execution_count": 229,
     "metadata": {},
     "output_type": "execute_result"
    }
   ],
   "source": [
    "# Visualizing products without descriptions\n",
    "nunique_desc = df_seg.groupby(['stock_code'])['description'].nunique()==0\n",
    "df_filtered = df_seg[df_seg['stock_code'].isin(nunique_desc[nunique_desc].index)]\n",
    "df_filtered"
   ]
  },
  {
   "cell_type": "code",
   "execution_count": 230,
   "metadata": {},
   "outputs": [],
   "source": [
    "# Removing rows where there is no description\n",
    "df_seg = df_seg[~df_seg['stock_code'].isin(df_filtered['stock_code'])]"
   ]
  },
  {
   "cell_type": "code",
   "execution_count": 231,
   "metadata": {},
   "outputs": [
    {
     "data": {
      "text/plain": [
       "description\n",
       "False    3308\n",
       "True      650\n",
       "Name: count, dtype: int64"
      ]
     },
     "execution_count": 231,
     "metadata": {},
     "output_type": "execute_result"
    }
   ],
   "source": [
    "# Counting codes with multiple unique descriptions\n",
    "(df_seg.groupby(['stock_code'])['description'].nunique()>1).value_counts()"
   ]
  },
  {
   "cell_type": "code",
   "execution_count": 232,
   "metadata": {},
   "outputs": [],
   "source": [
    "# Mapping stock codes to their most frequently used description\n",
    "codes = df_seg['stock_code'].drop_duplicates().to_list()\n",
    "descriptions = {}\n",
    "for code in codes:\n",
    "    more_used_description = df_seg[df_seg['stock_code'] == code]['description'].value_counts().idxmax()\n",
    "    descriptions[code] = more_used_description"
   ]
  },
  {
   "cell_type": "code",
   "execution_count": 233,
   "metadata": {},
   "outputs": [],
   "source": [
    "# Updating descriptions with the most frequently used value for each code\n",
    "df_seg['description'] = df_seg['stock_code'].map(descriptions)"
   ]
  },
  {
   "cell_type": "markdown",
   "metadata": {},
   "source": [
    "##### Coluna customer_id"
   ]
  },
  {
   "cell_type": "code",
   "execution_count": 234,
   "metadata": {},
   "outputs": [
    {
     "name": "stderr",
     "output_type": "stream",
     "text": [
      "C:\\Users\\joaoq\\AppData\\Local\\Temp\\ipykernel_16224\\3426433794.py:3: FutureWarning: Series.fillna with 'method' is deprecated and will raise in a future version. Use obj.ffill() or obj.bfill() instead.\n",
      "  .transform(lambda x: x.fillna(method='ffill').fillna(method='bfill'))\n"
     ]
    }
   ],
   "source": [
    "# Filling missing customer IDs by forward or backward filling within stock codes\n",
    "df_seg['customer_id'] = (df_seg.groupby('stock_code')['customer_id']\n",
    "                         .transform(lambda x: x.fillna(method='ffill').fillna(method='bfill'))\n",
    "                         )"
   ]
  },
  {
   "cell_type": "code",
   "execution_count": 235,
   "metadata": {},
   "outputs": [
    {
     "name": "stderr",
     "output_type": "stream",
     "text": [
      "C:\\Users\\joaoq\\AppData\\Local\\Temp\\ipykernel_16224\\257113076.py:2: FutureWarning: A value is trying to be set on a copy of a DataFrame or Series through chained assignment using an inplace method.\n",
      "The behavior will change in pandas 3.0. This inplace method will never work because the intermediate object on which we are setting values always behaves as a copy.\n",
      "\n",
      "For example, when doing 'df[col].method(value, inplace=True)', try using 'df.method({col: value}, inplace=True)' or df[col] = df[col].method(value) instead, to perform the operation inplace on the original object.\n",
      "\n",
      "\n",
      "  df_seg['customer_id'].fillna(99999, inplace=True)\n"
     ]
    }
   ],
   "source": [
    "# Replacing remaining missing customer IDs with a default value\n",
    "df_seg['customer_id'].fillna(99999, inplace=True)"
   ]
  },
  {
   "cell_type": "markdown",
   "metadata": {},
   "source": [
    "Até aqui, tivemos de lidar com os dados faltantes de diferentes formas:  \n",
    "- Primeiro, removemos os dados de produtos com preço unitário negativo, isso não nos ajudará na nossa análise;\n",
    "- Removemos os dados de produtos que estavam sem descrição, e nem identificador de usuário, esses dados são erros;\n",
    "- Depois, verificamos que haviam produtos iguais com descrições erradas, corrigi as descrições inserindo a descrição mais comum para o item para melhorar a análise futura;\n",
    "- Na coluna 'customer_id', preenchemos alguns dados faltantes com o valor do usuário já havia aparecido em outro lançamento do mesmo pedido;\n",
    "- Por fim, os dados de 'customer_id' que não puderam ser encontrados foram substituidos pelo código númerico 99999."
   ]
  },
  {
   "cell_type": "markdown",
   "metadata": {},
   "source": [
    "#### Removendo valores atípicos para dados de quantidade de pedidos e valor do pedido"
   ]
  },
  {
   "cell_type": "code",
   "execution_count": 236,
   "metadata": {},
   "outputs": [
    {
     "data": {
      "text/plain": [
       "count    536527.000000\n",
       "mean          9.623780\n",
       "std         219.153162\n",
       "min      -80995.000000\n",
       "25%           1.000000\n",
       "50%           3.000000\n",
       "75%          10.000000\n",
       "max       80995.000000\n",
       "Name: quantity, dtype: float64"
      ]
     },
     "execution_count": 236,
     "metadata": {},
     "output_type": "execute_result"
    }
   ],
   "source": [
    "# Generating summary statistics for the quantity column\n",
    "df_seg['quantity'].describe()"
   ]
  },
  {
   "cell_type": "code",
   "execution_count": 237,
   "metadata": {},
   "outputs": [],
   "source": [
    "# Calculating the Interquartile Range (IQR) for the quantity column\n",
    "Q1 = df_seg['quantity'].quantile(0.25)\n",
    "Q3 = df_seg['quantity'].quantile(0.75)\n",
    "IQR = Q3 - Q1\n",
    "\n",
    "# Calculating the upper and lower bounds for outlier detection\n",
    "limite_superior = Q3 + 1.5 * IQR\n",
    "limite_inferior = Q1 - 1.5 * IQR\n",
    "\n",
    "# Calculating the mean of the quantity column\n",
    "mediana = df_seg['quantity'].mean()\n",
    "\n",
    "# Replacing outlier quantities with the median value\n",
    "df_seg['quantity'] = df_seg['quantity'].apply(lambda x: mediana if x < limite_inferior or x > limite_superior else x)"
   ]
  },
  {
   "cell_type": "code",
   "execution_count": 238,
   "metadata": {},
   "outputs": [
    {
     "data": {
      "image/png": "[encoded data removed]",
      "text/plain": [
       "<Figure size 1200x600 with 1 Axes>"
      ]
     },
     "metadata": {},
     "output_type": "display_data"
    }
   ],
   "source": [
    "# Plotting a histogram of the quantity distribution\n",
    "plt.figure(figsize=[12,6])\n",
    "sns.histplot(df_seg['quantity'], bins=100, color=my_palette[0])\n",
    "plt.title(\"Histograma da quantidade de cada pedido\")\n",
    "plt.xlabel(\"Quantidade\")\n",
    "plt.ylabel(\"Frequência\")\n",
    "plt.savefig(fname='hist_da_qtd.png')\n",
    "plt.show()"
   ]
  },
  {
   "cell_type": "code",
   "execution_count": 239,
   "metadata": {},
   "outputs": [
    {
     "data": {
      "text/plain": [
       "count    536527.000000\n",
       "mean          4.674876\n",
       "std          94.866990\n",
       "min           0.000000\n",
       "25%           1.250000\n",
       "50%           2.080000\n",
       "75%           4.130000\n",
       "max       38970.000000\n",
       "Name: unit_price, dtype: float64"
      ]
     },
     "execution_count": 239,
     "metadata": {},
     "output_type": "execute_result"
    }
   ],
   "source": [
    "# Generating summary statistics for the unit_price column\n",
    "df_seg['unit_price'].describe()"
   ]
  },
  {
   "cell_type": "code",
   "execution_count": 240,
   "metadata": {},
   "outputs": [],
   "source": [
    "# Calculating the Interquartile Range (IQR) for the unit_price column\n",
    "Q1 = df_seg['unit_price'].quantile(0.25)\n",
    "Q3 = df_seg['unit_price'].quantile(0.75)\n",
    "IQR = Q3 - Q1\n",
    "\n",
    "# Calculating the upper and lower bounds for outlier detection\n",
    "limite_superior = Q3 + 1.5 * IQR\n",
    "limite_inferior = Q1 - 1.5 * IQR\n",
    "\n",
    "# Calculating the mean of the unit_price column\n",
    "mediana = df_seg['unit_price'].mean()\n",
    "\n",
    "# Replacing outlier prices with the median value\n",
    "df_seg['unit_price'] = df_seg['unit_price'].apply(\n",
    "    lambda x: mediana if x < limite_inferior or x > limite_superior else x\n",
    "    )"
   ]
  },
  {
   "cell_type": "code",
   "execution_count": 241,
   "metadata": {},
   "outputs": [
    {
     "data": {
      "image/png": "[encoded data removed]",
      "text/plain": [
       "<Figure size 1200x600 with 1 Axes>"
      ]
     },
     "metadata": {},
     "output_type": "display_data"
    }
   ],
   "source": [
    "# Plotting a histogram of the unit price distribution\n",
    "plt.figure(figsize=[12,6])\n",
    "sns.histplot(df_seg['unit_price'], bins=100, color=my_palette[1])\n",
    "plt.title(\"Histograma dos valores de cada pedido\")\n",
    "plt.xlabel(\"Preço\")\n",
    "plt.ylabel(\"Frequência\")\n",
    "plt.show()"
   ]
  },
  {
   "cell_type": "markdown",
   "metadata": {},
   "source": [
    "Neste ponto, removemos os valores atípicos para quantidade pedida do produto, e do valor unitário. Para isso, foi utilizado o método do interquartil, que foi capaz de realizar uma boa limpeza dos outliers nos permitindo seguir com uma boa análise, como se pode observar nos histogramas gerados após a remoção desses dados."
   ]
  },
  {
   "cell_type": "markdown",
   "metadata": {},
   "source": [
    "#### Ajustando os tipos de dados"
   ]
  },
  {
   "cell_type": "code",
   "execution_count": 242,
   "metadata": {},
   "outputs": [],
   "source": [
    "# Converting the invoice_date column to datetime type\n",
    "df_seg['invoice_date'] = pd.to_datetime(df_seg['invoice_date'])\n",
    "\n",
    "# Converting the customer_id column to integer type\n",
    "df_seg['customer_id'] = df_seg['customer_id'].astype('int')"
   ]
  },
  {
   "cell_type": "markdown",
   "metadata": {},
   "source": [
    "Converemos a coluna do identificador do usuário para o tipo inteiro, e a coluna de data para date time, o que auxiliará nas futuras análises."
   ]
  },
  {
   "cell_type": "markdown",
   "metadata": {},
   "source": [
    "### Analisando os dados - EDA"
   ]
  },
  {
   "cell_type": "markdown",
   "metadata": {},
   "source": [
    "Como o objetivo é agrupar/segmentar os usuários, serão analisadas brevemente a distribuição dos dados:  \n",
    "- Valor total do pedido;  \n",
    "- Valor total das vendas por mês;  \n",
    "- Total de pedidos por mês e por dia da semana."
   ]
  },
  {
   "cell_type": "code",
   "execution_count": 244,
   "metadata": {},
   "outputs": [],
   "source": [
    "# Extracting the day and month from the invoice_date column\n",
    "df_seg['invoice_day'] = df_seg['invoice_date'].dt.to_period(\"D\")\n",
    "df_seg['invoice_month'] = df_seg['invoice_date'].dt.to_period(\"M\")"
   ]
  },
  {
   "cell_type": "code",
   "execution_count": 245,
   "metadata": {},
   "outputs": [],
   "source": [
    "# Calculating total value for each row\n",
    "df_seg['total'] = df_seg['quantity'] * df_seg['unit_price']"
   ]
  },
  {
   "cell_type": "code",
   "execution_count": 246,
   "metadata": {},
   "outputs": [
    {
     "data": {
      "text/plain": [
       "count    536527.000000\n",
       "mean         10.604111\n",
       "std          11.709334\n",
       "min         -97.800000\n",
       "25%           3.360000\n",
       "50%           7.380000\n",
       "75%          15.000000\n",
       "max         191.590000\n",
       "Name: total, dtype: float64"
      ]
     },
     "execution_count": 246,
     "metadata": {},
     "output_type": "execute_result"
    }
   ],
   "source": [
    "# Generating summary statistics for the total column\n",
    "df_seg['total'].describe()"
   ]
  },
  {
   "cell_type": "code",
   "execution_count": 247,
   "metadata": {},
   "outputs": [
    {
     "data": {
      "text/plain": [
       "Text(0, 0.5, 'Valor total do pedido')"
      ]
     },
     "execution_count": 247,
     "metadata": {},
     "output_type": "execute_result"
    },
    {
     "data": {
      "image/png": "[encoded data removed]",
      "text/plain": [
       "<Figure size 1200x600 with 1 Axes>"
      ]
     },
     "metadata": {},
     "output_type": "display_data"
    }
   ],
   "source": [
    "# Creating a scatter plot of total sales per customer\n",
    "plt.figure(figsize=[12,6])\n",
    "sns.scatterplot(data=df_seg.groupby(\n",
    "    ['customer_id'], as_index=False)['total']\n",
    "    .sum(), \n",
    "    x='customer_id', \n",
    "    y='total', \n",
    "    color= my_palette[1]\n",
    "    )\n",
    "plt.xlim([12000,19000])\n",
    "plt.ylim([0,20000])\n",
    "plt.title(\"Gráfico do Valor Total da Compra por Cliente\")\n",
    "plt.xlabel(\"ID do Cliente\")\n",
    "plt.ylabel(\"Valor total do pedido\")"
   ]
  },
  {
   "cell_type": "code",
   "execution_count": 248,
   "metadata": {},
   "outputs": [
    {
     "data": {
      "text/plain": [
       "Text(0.5, 1.0, 'Total das vendas por mês')"
      ]
     },
     "execution_count": 248,
     "metadata": {},
     "output_type": "execute_result"
    },
    {
     "data": {
      "image/png": "[encoded data removed]",
      "text/plain": [
       "<Figure size 1200x600 with 1 Axes>"
      ]
     },
     "metadata": {},
     "output_type": "display_data"
    }
   ],
   "source": [
    "# Aggregating total sales by customer and invoice month\n",
    "customer_puchase = df_seg.groupby(['invoice_month','customer_id'], as_index=False)['total'].sum()\n",
    "\n",
    "# Plotting the total sales by month\n",
    "plt.figure(figsize=[12,6])\n",
    "sns.barplot(data=customer_puchase, x='invoice_month', y='total', color=my_palette[1])\n",
    "plt.title(\"Total das vendas por mês\")"
   ]
  },
  {
   "cell_type": "code",
   "execution_count": 249,
   "metadata": {},
   "outputs": [
    {
     "data": {
      "text/plain": [
       "Text(0, 0.5, 'Número de Pedidos')"
      ]
     },
     "execution_count": 249,
     "metadata": {},
     "output_type": "execute_result"
    },
    {
     "data": {
      "image/png": "[encoded data removed]",
      "text/plain": [
       "<Figure size 1200x600 with 1 Axes>"
      ]
     },
     "metadata": {},
     "output_type": "display_data"
    }
   ],
   "source": [
    "# Plotting the number of orders by month\n",
    "plt.figure(figsize=[12,6])\n",
    "sns.barplot(data=df_seg.groupby(['invoice_month'],as_index=False)['invoice_no'].count(), \n",
    "            x='invoice_month', \n",
    "            y='invoice_no', \n",
    "            color=my_palette[0])\n",
    "plt.title(\"Total de pedidos por mês\")\n",
    "plt.xlabel('Mês')\n",
    "plt.ylabel('Número de Pedidos')"
   ]
  },
  {
   "cell_type": "code",
   "execution_count": 250,
   "metadata": {},
   "outputs": [
    {
     "data": {
      "text/plain": [
       "Text(0, 0.5, 'Número do Pedido')"
      ]
     },
     "execution_count": 250,
     "metadata": {},
     "output_type": "execute_result"
    },
    {
     "data": {
      "image/png": "[encoded data removed]",
      "text/plain": [
       "<Figure size 1200x600 with 1 Axes>"
      ]
     },
     "metadata": {},
     "output_type": "display_data"
    }
   ],
   "source": [
    "# Adding a column with the day of the week for each invoice date\n",
    "df_seg['invoice_dow'] = df_seg['invoice_date'].dt.day_name()\n",
    "\n",
    "# Plotting the number of orders by day of wek\n",
    "plt.figure(figsize=[12,6])\n",
    "sns.barplot(data=df_seg.groupby(['invoice_dow'],as_index=False)['invoice_no'].count(), \n",
    "            x='invoice_dow', \n",
    "            y='invoice_no', \n",
    "            color=my_palette[0])\n",
    "plt.title(\"Total de pedidos por dia da semana\")\n",
    "plt.xlabel('Dia da Semana')\n",
    "plt.ylabel('Número do Pedido')"
   ]
  },
  {
   "cell_type": "markdown",
   "metadata": {},
   "source": [
    "Plotamos alguns gráficos acima para poder visualizar melhor os dados:  \n",
    "\n",
    "Vemos que há uma certa sazonalidade nas vendas da empresa uma vez que há dois picos no valor total das vendas por mês e na quantidade de pedidos, um pico maior no final do ano, e outro um pouco menor no meio do ano, indicando que esses perídos são mais fortes para vendas. Também vemo que os dias preferidos de compra são nas sextas e quartas-feiras."
   ]
  },
  {
   "cell_type": "markdown",
   "metadata": {},
   "source": [
    "### Segmentação dos clientes"
   ]
  },
  {
   "cell_type": "markdown",
   "metadata": {},
   "source": [
    "A seguir, vamos utilizar a chamada análise RFM para segmentar os clientes. A análise RFM é uma estratégia de marketing amplamente utilizada que estima o valor de cada cliente com base em três varáveis: Recência (quão recentemente um cliente fez uma compra), Frequência (com que frequência ele compra) e Valor monetário (quanto dinheiro ele gasta em compras)."
   ]
  },
  {
   "cell_type": "markdown",
   "metadata": {},
   "source": [
    "Primeiro, vamos calcular cada tópico para cada um dos clientes, e depois realizar a segmentação deles."
   ]
  },
  {
   "cell_type": "markdown",
   "metadata": {},
   "source": [
    "##### Recência"
   ]
  },
  {
   "cell_type": "code",
   "execution_count": 251,
   "metadata": {},
   "outputs": [],
   "source": [
    "# Setting the most recent invoice date as 'reference_date'\n",
    "reference_date = df_seg['invoice_date'].max()\n",
    "\n",
    "# Calculating the recency for each customer\n",
    "recency = df_seg.groupby('customer_id')['invoice_date'].max().apply(lambda x: (reference_date - x).days)"
   ]
  },
  {
   "cell_type": "markdown",
   "metadata": {},
   "source": [
    "##### Frequência"
   ]
  },
  {
   "cell_type": "code",
   "execution_count": 252,
   "metadata": {},
   "outputs": [],
   "source": [
    "# Calculating the frequency for each customer\n",
    "frequency = df_seg.groupby('customer_id')['invoice_date'].nunique()"
   ]
  },
  {
   "cell_type": "markdown",
   "metadata": {},
   "source": [
    "##### Valor Monetário"
   ]
  },
  {
   "cell_type": "code",
   "execution_count": 253,
   "metadata": {},
   "outputs": [],
   "source": [
    "# Calculating the monetary for each customer\n",
    "monetary = df_seg.groupby('customer_id')['total'].sum()"
   ]
  },
  {
   "cell_type": "markdown",
   "metadata": {},
   "source": [
    "##### Combinação das scores"
   ]
  },
  {
   "cell_type": "code",
   "execution_count": 254,
   "metadata": {},
   "outputs": [
    {
     "name": "stdout",
     "output_type": "stream",
     "text": [
      "<class 'pandas.core.frame.DataFrame'>\n",
      "RangeIndex: 4373 entries, 0 to 4372\n",
      "Data columns (total 4 columns):\n",
      " #   Column       Non-Null Count  Dtype  \n",
      "---  ------       --------------  -----  \n",
      " 0   customer_id  4373 non-null   int32  \n",
      " 1   recency      4373 non-null   int64  \n",
      " 2   frequency    4373 non-null   int64  \n",
      " 3   monetary     4373 non-null   float64\n",
      "dtypes: float64(1), int32(1), int64(2)\n",
      "memory usage: 119.7 KB\n"
     ]
    }
   ],
   "source": [
    "# Creating a dataframe for RFM analisys\n",
    "df_RMF = pd.DataFrame()\n",
    "df_RMF['recency'] = recency\n",
    "df_RMF['frequency'] = frequency\n",
    "df_RMF['monetary'] = monetary\n",
    "df_RMF = df_RMF.reset_index()\n",
    "\n",
    "# Displaying the summary of the DataFrame\n",
    "df_RMF.info()"
   ]
  },
  {
   "cell_type": "markdown",
   "metadata": {},
   "source": [
    "#### Padronizando os dados"
   ]
  },
  {
   "cell_type": "code",
   "execution_count": 255,
   "metadata": {},
   "outputs": [
    {
     "data": {
      "text/html": [
       "<div>\n",
       "<style scoped>\n",
       "    .dataframe tbody tr th:only-of-type {\n",
       "        vertical-align: middle;\n",
       "    }\n",
       "\n",
       "    .dataframe tbody tr th {\n",
       "        vertical-align: top;\n",
       "    }\n",
       "\n",
       "    .dataframe thead th {\n",
       "        text-align: right;\n",
       "    }\n",
       "</style>\n",
       "<table border=\"1\" class=\"dataframe\">\n",
       "  <thead>\n",
       "    <tr style=\"text-align: right;\">\n",
       "      <th></th>\n",
       "      <th>customer_id</th>\n",
       "      <th>recency</th>\n",
       "      <th>frequency</th>\n",
       "      <th>monetary</th>\n",
       "      <th>R</th>\n",
       "      <th>F</th>\n",
       "      <th>M</th>\n",
       "      <th>RFM_score</th>\n",
       "    </tr>\n",
       "  </thead>\n",
       "  <tbody>\n",
       "    <tr>\n",
       "      <th>0</th>\n",
       "      <td>12346</td>\n",
       "      <td>325</td>\n",
       "      <td>2</td>\n",
       "      <td>20.017463</td>\n",
       "      <td>1</td>\n",
       "      <td>1</td>\n",
       "      <td>1</td>\n",
       "      <td>111</td>\n",
       "    </tr>\n",
       "    <tr>\n",
       "      <th>1</th>\n",
       "      <td>12347</td>\n",
       "      <td>1</td>\n",
       "      <td>49</td>\n",
       "      <td>4387.254811</td>\n",
       "      <td>5</td>\n",
       "      <td>5</td>\n",
       "      <td>5</td>\n",
       "      <td>555</td>\n",
       "    </tr>\n",
       "    <tr>\n",
       "      <th>2</th>\n",
       "      <td>12348</td>\n",
       "      <td>74</td>\n",
       "      <td>14</td>\n",
       "      <td>300.435416</td>\n",
       "      <td>2</td>\n",
       "      <td>4</td>\n",
       "      <td>2</td>\n",
       "      <td>242</td>\n",
       "    </tr>\n",
       "    <tr>\n",
       "      <th>3</th>\n",
       "      <td>12349</td>\n",
       "      <td>13</td>\n",
       "      <td>7</td>\n",
       "      <td>1325.307025</td>\n",
       "      <td>4</td>\n",
       "      <td>2</td>\n",
       "      <td>4</td>\n",
       "      <td>424</td>\n",
       "    </tr>\n",
       "    <tr>\n",
       "      <th>4</th>\n",
       "      <td>12350</td>\n",
       "      <td>283</td>\n",
       "      <td>37</td>\n",
       "      <td>509.955089</td>\n",
       "      <td>1</td>\n",
       "      <td>5</td>\n",
       "      <td>3</td>\n",
       "      <td>153</td>\n",
       "    </tr>\n",
       "    <tr>\n",
       "      <th>...</th>\n",
       "      <td>...</td>\n",
       "      <td>...</td>\n",
       "      <td>...</td>\n",
       "      <td>...</td>\n",
       "      <td>...</td>\n",
       "      <td>...</td>\n",
       "      <td>...</td>\n",
       "      <td>...</td>\n",
       "    </tr>\n",
       "    <tr>\n",
       "      <th>4368</th>\n",
       "      <td>18281</td>\n",
       "      <td>180</td>\n",
       "      <td>1</td>\n",
       "      <td>56.269752</td>\n",
       "      <td>1</td>\n",
       "      <td>1</td>\n",
       "      <td>1</td>\n",
       "      <td>111</td>\n",
       "    </tr>\n",
       "    <tr>\n",
       "      <th>4369</th>\n",
       "      <td>18282</td>\n",
       "      <td>6</td>\n",
       "      <td>9</td>\n",
       "      <td>206.449903</td>\n",
       "      <td>5</td>\n",
       "      <td>3</td>\n",
       "      <td>2</td>\n",
       "      <td>532</td>\n",
       "    </tr>\n",
       "    <tr>\n",
       "      <th>4370</th>\n",
       "      <td>18283</td>\n",
       "      <td>0</td>\n",
       "      <td>93</td>\n",
       "      <td>4102.217138</td>\n",
       "      <td>5</td>\n",
       "      <td>5</td>\n",
       "      <td>5</td>\n",
       "      <td>555</td>\n",
       "    </tr>\n",
       "    <tr>\n",
       "      <th>4371</th>\n",
       "      <td>18287</td>\n",
       "      <td>42</td>\n",
       "      <td>24</td>\n",
       "      <td>1074.009553</td>\n",
       "      <td>3</td>\n",
       "      <td>4</td>\n",
       "      <td>4</td>\n",
       "      <td>344</td>\n",
       "    </tr>\n",
       "    <tr>\n",
       "      <th>4372</th>\n",
       "      <td>99999</td>\n",
       "      <td>0</td>\n",
       "      <td>666</td>\n",
       "      <td>28403.306753</td>\n",
       "      <td>5</td>\n",
       "      <td>5</td>\n",
       "      <td>5</td>\n",
       "      <td>555</td>\n",
       "    </tr>\n",
       "  </tbody>\n",
       "</table>\n",
       "<p>4373 rows × 8 columns</p>\n",
       "</div>"
      ],
      "text/plain": [
       "      customer_id  recency  frequency      monetary  R  F  M RFM_score\n",
       "0           12346      325          2     20.017463  1  1  1       111\n",
       "1           12347        1         49   4387.254811  5  5  5       555\n",
       "2           12348       74         14    300.435416  2  4  2       242\n",
       "3           12349       13          7   1325.307025  4  2  4       424\n",
       "4           12350      283         37    509.955089  1  5  3       153\n",
       "...           ...      ...        ...           ... .. .. ..       ...\n",
       "4368        18281      180          1     56.269752  1  1  1       111\n",
       "4369        18282        6          9    206.449903  5  3  2       532\n",
       "4370        18283        0         93   4102.217138  5  5  5       555\n",
       "4371        18287       42         24   1074.009553  3  4  4       344\n",
       "4372        99999        0        666  28403.306753  5  5  5       555\n",
       "\n",
       "[4373 rows x 8 columns]"
      ]
     },
     "execution_count": 255,
     "metadata": {},
     "output_type": "execute_result"
    }
   ],
   "source": [
    "# Standardizing RFM data by quantile and creating RFM scores\n",
    "df_RMF['R'] = pd.qcut(df_RMF['recency'].rank(method='first'), 5, labels=[5,4,3,2,1])\n",
    "df_RMF['F'] = pd.qcut(df_RMF['frequency'].rank(method='first'), 5, labels=[1,2,3,4,5])\n",
    "df_RMF['M'] = pd.qcut(df_RMF['monetary'].rank(method='first'), 5, labels=[1,2,3,4,5])\n",
    "df_RMF['RFM_score'] = df_RMF['R'].astype(str) + df_RMF['F'].astype(str) + df_RMF['M'].astype(str)\n",
    "df_RMF"
   ]
  },
  {
   "cell_type": "markdown",
   "metadata": {},
   "source": [
    "### Criando o Modelo de Clusterização"
   ]
  },
  {
   "cell_type": "code",
   "execution_count": 256,
   "metadata": {},
   "outputs": [],
   "source": [
    "# Importing libralies for clustering analysis\n",
    "from sklearn.preprocessing import MinMaxScaler\n",
    "from sklearn.cluster import KMeans"
   ]
  },
  {
   "cell_type": "markdown",
   "metadata": {},
   "source": [
    "##### Escalonando e Ajustando os dados"
   ]
  },
  {
   "cell_type": "markdown",
   "metadata": {},
   "source": [
    "Para ajustar as características, optamos por utilizar o Escalonamento Min-Max pois não temos outliers nesses dados que serão ajustados e vamos preservar as proporções de cada tópico da análise RFM."
   ]
  },
  {
   "cell_type": "code",
   "execution_count": 257,
   "metadata": {},
   "outputs": [],
   "source": [
    "# Creating an instance of MinMaxScaler for feature scaling\n",
    "scaler = MinMaxScaler()\n",
    "rfm_scaled = df_RMF[['R', 'F', 'M']]\n",
    "\n",
    "# Normalizing data\n",
    "rfm_scaled = scaler.fit_transform(rfm_scaled)"
   ]
  },
  {
   "cell_type": "markdown",
   "metadata": {},
   "source": [
    "##### Definindo o número de Clusters"
   ]
  },
  {
   "cell_type": "code",
   "execution_count": 258,
   "metadata": {},
   "outputs": [
    {
     "data": {
      "image/png": "[encoded data removed]",
      "text/plain": [
       "<Figure size 1200x600 with 1 Axes>"
      ]
     },
     "metadata": {},
     "output_type": "display_data"
    }
   ],
   "source": [
    "# Testing different numbers of clusters for KMeans clustering\n",
    "wcss = []\n",
    "for k in range(1, 11):\n",
    "    kmeans = KMeans(n_clusters=k, random_state=42)\n",
    "    kmeans.fit(rfm_scaled)\n",
    "    wcss.append(kmeans.inertia_)\n",
    "\n",
    "# Plotting the WCSS (Within-Cluster Sum of Squares) graph to determine the \"elbow\" point\n",
    "plt.figure(figsize=(12,6))\n",
    "plt.plot(range(1, 11), wcss, marker='o')\n",
    "plt.title('Método Elbow')\n",
    "plt.xlabel('Número de Clusters')\n",
    "plt.ylabel('WCSS')\n",
    "plt.show()"
   ]
  },
  {
   "cell_type": "markdown",
   "metadata": {},
   "source": [
    "Para decidir sobre o número de clusters, utilizamos o método do cotovelo (ou Método Elbow), no qual identificamos qual o número de clusters ótimo, no qual a adição de mais um cluster não melhora significativamente a variabilidade dos clusters.    \n",
    "\n",
    "O \"cotovelo\" do gráfico é o ponto onde a taxa de diminuição da inércia começa a desacelerar significativamente. No caso acima, em 4 clusters."
   ]
  },
  {
   "cell_type": "markdown",
   "metadata": {},
   "source": [
    "##### Realizando a Clusterização"
   ]
  },
  {
   "cell_type": "code",
   "execution_count": 259,
   "metadata": {},
   "outputs": [],
   "source": [
    "# Applying KMeans clustering with the chosen number of clusters\n",
    "kmeans = KMeans(n_clusters=4, random_state=42)\n",
    "df_RMF['Cluster'] = kmeans.fit_predict(rfm_scaled)"
   ]
  },
  {
   "cell_type": "code",
   "execution_count": 260,
   "metadata": {},
   "outputs": [],
   "source": [
    "# Converting categorical columns to numeric values\n",
    "df_RMF['R'] = df_RMF['R'].astype(int)\n",
    "df_RMF['F'] = df_RMF['F'].astype(int)\n",
    "df_RMF['M'] = df_RMF['M'].astype(int)\n",
    "df_RMF['RFM_score'] = df_RMF['RFM_score'].astype(int)"
   ]
  },
  {
   "cell_type": "markdown",
   "metadata": {},
   "source": [
    "##### Visualizando as métricas"
   ]
  },
  {
   "cell_type": "code",
   "execution_count": 261,
   "metadata": {},
   "outputs": [
    {
     "data": {
      "text/html": [
       "<div>\n",
       "<style scoped>\n",
       "    .dataframe tbody tr th:only-of-type {\n",
       "        vertical-align: middle;\n",
       "    }\n",
       "\n",
       "    .dataframe tbody tr th {\n",
       "        vertical-align: top;\n",
       "    }\n",
       "\n",
       "    .dataframe thead th {\n",
       "        text-align: right;\n",
       "    }\n",
       "</style>\n",
       "<table border=\"1\" class=\"dataframe\">\n",
       "  <thead>\n",
       "    <tr style=\"text-align: right;\">\n",
       "      <th></th>\n",
       "      <th>Cluster</th>\n",
       "      <th>R_mean</th>\n",
       "      <th>R_median</th>\n",
       "      <th>R_std</th>\n",
       "      <th>F_mean</th>\n",
       "      <th>F_median</th>\n",
       "      <th>F_std</th>\n",
       "      <th>M_mean</th>\n",
       "      <th>M_median</th>\n",
       "      <th>M_std</th>\n",
       "      <th>Cluster_Size</th>\n",
       "    </tr>\n",
       "  </thead>\n",
       "  <tbody>\n",
       "    <tr>\n",
       "      <th>0</th>\n",
       "      <td>0</td>\n",
       "      <td>3.683531</td>\n",
       "      <td>4.0</td>\n",
       "      <td>0.709357</td>\n",
       "      <td>1.860065</td>\n",
       "      <td>2.0</td>\n",
       "      <td>0.765507</td>\n",
       "      <td>1.977395</td>\n",
       "      <td>2.0</td>\n",
       "      <td>0.830796</td>\n",
       "      <td>929</td>\n",
       "    </tr>\n",
       "    <tr>\n",
       "      <th>1</th>\n",
       "      <td>1</td>\n",
       "      <td>2.334372</td>\n",
       "      <td>2.0</td>\n",
       "      <td>0.696242</td>\n",
       "      <td>3.869159</td>\n",
       "      <td>4.0</td>\n",
       "      <td>0.844152</td>\n",
       "      <td>3.883697</td>\n",
       "      <td>4.0</td>\n",
       "      <td>0.817540</td>\n",
       "      <td>963</td>\n",
       "    </tr>\n",
       "    <tr>\n",
       "      <th>2</th>\n",
       "      <td>2</td>\n",
       "      <td>1.393031</td>\n",
       "      <td>1.0</td>\n",
       "      <td>0.488622</td>\n",
       "      <td>1.811994</td>\n",
       "      <td>2.0</td>\n",
       "      <td>0.835342</td>\n",
       "      <td>1.700972</td>\n",
       "      <td>2.0</td>\n",
       "      <td>0.728662</td>\n",
       "      <td>1234</td>\n",
       "    </tr>\n",
       "    <tr>\n",
       "      <th>3</th>\n",
       "      <td>3</td>\n",
       "      <td>4.595028</td>\n",
       "      <td>5.0</td>\n",
       "      <td>0.491084</td>\n",
       "      <td>4.353649</td>\n",
       "      <td>5.0</td>\n",
       "      <td>0.747946</td>\n",
       "      <td>4.364876</td>\n",
       "      <td>5.0</td>\n",
       "      <td>0.739279</td>\n",
       "      <td>1247</td>\n",
       "    </tr>\n",
       "  </tbody>\n",
       "</table>\n",
       "</div>"
      ],
      "text/plain": [
       "   Cluster    R_mean  R_median     R_std    F_mean  F_median     F_std  \\\n",
       "0        0  3.683531       4.0  0.709357  1.860065       2.0  0.765507   \n",
       "1        1  2.334372       2.0  0.696242  3.869159       4.0  0.844152   \n",
       "2        2  1.393031       1.0  0.488622  1.811994       2.0  0.835342   \n",
       "3        3  4.595028       5.0  0.491084  4.353649       5.0  0.747946   \n",
       "\n",
       "     M_mean  M_median     M_std  Cluster_Size  \n",
       "0  1.977395       2.0  0.830796           929  \n",
       "1  3.883697       4.0  0.817540           963  \n",
       "2  1.700972       2.0  0.728662          1234  \n",
       "3  4.364876       5.0  0.739279          1247  "
      ]
     },
     "execution_count": 261,
     "metadata": {},
     "output_type": "execute_result"
    }
   ],
   "source": [
    "# Aggregating RFM metrics and size by cluster\n",
    "cluster_analysis = df_RMF.groupby('Cluster').agg({\n",
    "    'R': ['mean', 'median', 'std'],\n",
    "    'F': ['mean', 'median', 'std'],\n",
    "    'M': ['mean', 'median', 'std'],\n",
    "    'customer_id': 'nunique'\n",
    "}).reset_index()\n",
    "\n",
    "# Renaming columns in the dataFrame\n",
    "cluster_analysis.columns = ['Cluster', \n",
    "                            'R_mean', \n",
    "                            'R_median', \n",
    "                            'R_std', \n",
    "                            'F_mean', \n",
    "                            'F_median', \n",
    "                            'F_std', \n",
    "                            'M_mean', \n",
    "                            'M_median', \n",
    "                            'M_std', \n",
    "                            'Cluster_Size']\n",
    "\n",
    "# Visualizing the dataframe\n",
    "cluster_analysis"
   ]
  },
  {
   "cell_type": "markdown",
   "metadata": {},
   "source": [
    "Dividimos os usuários entre os clusters, agrupamos os clusters e geramos as principais métricas que vão nos auxiliar a avaliar os grupos futuramente."
   ]
  },
  {
   "cell_type": "markdown",
   "metadata": {},
   "source": [
    "### Análisando os clusters"
   ]
  },
  {
   "cell_type": "code",
   "execution_count": 262,
   "metadata": {},
   "outputs": [
    {
     "name": "stderr",
     "output_type": "stream",
     "text": [
      "C:\\Users\\joaoq\\AppData\\Local\\Temp\\ipykernel_16224\\1837338657.py:3: UserWarning: The palette list has more values (6) than needed (4), which may not be intended.\n",
      "  sns.scatterplot(x=df_RMF['R'], y=df_RMF['F'], hue=df_RMF['Cluster'], palette=my_palette)\n"
     ]
    },
    {
     "data": {
      "image/png": "[encoded data removed]",
      "text/plain": [
       "<Figure size 1200x600 with 1 Axes>"
      ]
     },
     "metadata": {},
     "output_type": "display_data"
    }
   ],
   "source": [
    "# Creating a scatter plot of R and F scores, colored by cluster\n",
    "plt.figure(figsize=(12,6))\n",
    "sns.scatterplot(x=df_RMF['R'], y=df_RMF['F'], hue=df_RMF['Cluster'], palette=my_palette)\n",
    "plt.title('Clusters de Clientes com base em R e F Scores')\n",
    "plt.show()"
   ]
  },
  {
   "cell_type": "code",
   "execution_count": 263,
   "metadata": {},
   "outputs": [
    {
     "name": "stderr",
     "output_type": "stream",
     "text": [
      "C:\\Users\\joaoq\\AppData\\Local\\Temp\\ipykernel_16224\\1348304647.py:3: UserWarning: The palette list has more values (6) than needed (4), which may not be intended.\n",
      "  sns.boxplot(x='Cluster', y='R', data=df_RMF, ax=axes[0], hue='Cluster', palette=my_palette, legend=False)\n",
      "C:\\Users\\joaoq\\AppData\\Local\\Temp\\ipykernel_16224\\1348304647.py:4: UserWarning: The palette list has more values (6) than needed (4), which may not be intended.\n",
      "  sns.boxplot(x='Cluster', y='F', data=df_RMF, ax=axes[1], hue='Cluster', palette=my_palette, legend=False)\n",
      "C:\\Users\\joaoq\\AppData\\Local\\Temp\\ipykernel_16224\\1348304647.py:5: UserWarning: The palette list has more values (6) than needed (4), which may not be intended.\n",
      "  sns.boxplot(x='Cluster', y='M', data=df_RMF, ax=axes[2], hue='Cluster', palette=my_palette, legend=False)\n"
     ]
    },
    {
     "data": {
      "image/png": "[encoded data removed]",
      "text/plain": [
       "<Figure size 1800x600 with 3 Axes>"
      ]
     },
     "metadata": {},
     "output_type": "display_data"
    }
   ],
   "source": [
    "# Boxplot comparing Recency, Frequency, and Monetary values\n",
    "fig, axes = plt.subplots(1, 3, figsize=(18, 6))\n",
    "sns.boxplot(x='Cluster', y='R', data=df_RMF, ax=axes[0], hue='Cluster', palette=my_palette, legend=False)\n",
    "sns.boxplot(x='Cluster', y='F', data=df_RMF, ax=axes[1], hue='Cluster', palette=my_palette, legend=False)\n",
    "sns.boxplot(x='Cluster', y='M', data=df_RMF, ax=axes[2], hue='Cluster', palette=my_palette, legend=False)\n",
    "axes[0].set_title('Recência por Cluster')\n",
    "axes[1].set_title('Frequência por Cluster')\n",
    "axes[2].set_title('Valor monetário por Cluster')\n",
    "plt.show()"
   ]
  },
  {
   "cell_type": "code",
   "execution_count": 264,
   "metadata": {},
   "outputs": [
    {
     "name": "stderr",
     "output_type": "stream",
     "text": [
      "C:\\Users\\joaoq\\AppData\\Local\\Temp\\ipykernel_16224\\83567736.py:3: FutureWarning: \n",
      "\n",
      "Passing `palette` without assigning `hue` is deprecated and will be removed in v0.14.0. Assign the `x` variable to `hue` and set `legend=False` for the same effect.\n",
      "\n",
      "  sns.barplot(x='Cluster', y='Cluster_Size', data=cluster_analysis, palette=my_palette)\n",
      "C:\\Users\\joaoq\\AppData\\Local\\Temp\\ipykernel_16224\\83567736.py:3: UserWarning: The palette list has more values (6) than needed (4), which may not be intended.\n",
      "  sns.barplot(x='Cluster', y='Cluster_Size', data=cluster_analysis, palette=my_palette)\n"
     ]
    },
    {
     "data": {
      "image/png": "[encoded data removed]",
      "text/plain": [
       "<Figure size 1200x600 with 1 Axes>"
      ]
     },
     "metadata": {},
     "output_type": "display_data"
    }
   ],
   "source": [
    "# Plotting a barplot to visualize cluster sizes\n",
    "plt.figure(figsize=[12,6])\n",
    "sns.barplot(x='Cluster', y='Cluster_Size', data=cluster_analysis, palette=my_palette)\n",
    "plt.title('Tamanho dos Clusters')\n",
    "plt.xlabel('Cluster')\n",
    "plt.ylabel('Quantidade de usuários')\n",
    "plt.show()\n",
    "plt.show()"
   ]
  },
  {
   "cell_type": "code",
   "execution_count": 265,
   "metadata": {},
   "outputs": [],
   "source": [
    "# Merging the cluster assignments into the original DataFrame based on customer_id\n",
    "df_seg = df_seg.merge(df_RMF[['customer_id','Cluster']], how='right', on='customer_id')"
   ]
  },
  {
   "cell_type": "code",
   "execution_count": 266,
   "metadata": {},
   "outputs": [
    {
     "name": "stderr",
     "output_type": "stream",
     "text": [
      "C:\\Users\\joaoq\\AppData\\Local\\Temp\\ipykernel_16224\\3259916085.py:6: UserWarning: The palette list has more values (6) than needed (4), which may not be intended.\n",
      "  sns.barplot(data=customer_puchase, x='invoice_month', y='total', hue='Cluster', palette=my_palette)\n"
     ]
    },
    {
     "data": {
      "text/plain": [
       "Text(0.5, 1.0, 'Total das vendas por mês')"
      ]
     },
     "execution_count": 266,
     "metadata": {},
     "output_type": "execute_result"
    },
    {
     "data": {
      "image/png": "[encoded data removed]",
      "text/plain": [
       "<Figure size 1200x600 with 1 Axes>"
      ]
     },
     "metadata": {},
     "output_type": "display_data"
    }
   ],
   "source": [
    "# Aggregating total sales by customer and invoice month\n",
    "customer_puchase = df_seg.groupby(['invoice_month','Cluster'], as_index=False)['total'].sum()\n",
    "\n",
    "# Plotting the total sales by month\n",
    "plt.figure(figsize=[12,6])\n",
    "sns.barplot(data=customer_puchase, x='invoice_month', y='total', hue='Cluster', palette=my_palette)\n",
    "plt.title(\"Total das vendas por mês\")"
   ]
  },
  {
   "cell_type": "code",
   "execution_count": 267,
   "metadata": {},
   "outputs": [
    {
     "name": "stderr",
     "output_type": "stream",
     "text": [
      "C:\\Users\\joaoq\\AppData\\Local\\Temp\\ipykernel_16224\\3115404450.py:6: UserWarning: The palette list has more values (6) than needed (4), which may not be intended.\n",
      "  sns.barplot(data=monthly_orders, x='invoice_month', y='invoice_no', hue='Cluster', palette=my_palette)\n"
     ]
    },
    {
     "data": {
      "text/plain": [
       "Text(0.5, 1.0, 'Total de pedidos por mês')"
      ]
     },
     "execution_count": 267,
     "metadata": {},
     "output_type": "execute_result"
    },
    {
     "data": {
      "image/png": "[encoded data removed]",
      "text/plain": [
       "<Figure size 1200x600 with 1 Axes>"
      ]
     },
     "metadata": {},
     "output_type": "display_data"
    }
   ],
   "source": [
    "# Grouping the data by invoice month and cluster\n",
    "monthly_orders = df_seg.groupby(['invoice_month', 'Cluster'])['invoice_no'].count().reset_index()\n",
    "\n",
    "# Creating a bar plot of total orders per month\n",
    "plt.figure(figsize=[12,6])\n",
    "sns.barplot(data=monthly_orders, x='invoice_month', y='invoice_no', hue='Cluster', palette=my_palette)\n",
    "plt.title(\"Total de pedidos por mês\")"
   ]
  },
  {
   "cell_type": "markdown",
   "metadata": {},
   "source": [
    "#### Interpretação dos Clusters"
   ]
  },
  {
   "cell_type": "markdown",
   "metadata": {},
   "source": [
    "A partir das métricas visualizadas, os gráficos de caixa, e os gráficos de barras separados por clusters, ficou claro uma boa divisão entre todos os grupos de clientes, isso mostra um bom desempenho do nosso modelo de clusterização. O gráfico de caixa mostra muito bem cada cluster e suas características, isso vai ser destacado nos testes estatísticos que veremos a seguir."
   ]
  },
  {
   "cell_type": "markdown",
   "metadata": {},
   "source": [
    "Baseando-se na tabela de classificação da análise RFM, podemos classificar os clusters em:\n",
    "- Cluster 3 - Clientes Fiéis: Compram recentemente. Compram com frequência. Gastam mais. \n",
    "- Cluster 0 - Promissor: Compradores recentes, mas não gastaram muito.\n",
    "- Cluster 1 - Em risco:\tGastaram muito dinheiro e compraram com freqüência. Mas não tão recente.\n",
    "- Cluster 2 - Hibernando: A última compra foi feita a algum tempo. Pouco gasto e baixo número de pedidos."
   ]
  },
  {
   "cell_type": "markdown",
   "metadata": {},
   "source": [
    "### Formulando testes de hipóteses\n",
    "- Teste 1: Testar a hipótese de que há diferença significativa no valor monetário das compras entre os grupos; \n",
    "\n",
    "- Teste 2: Testar a hipótese de que há diferença significativa na frequência de compra dos grupos;\n",
    "\n",
    "- Teste 3: Testar a hipótese de que há diferença significativa na recencia entre os grupos."
   ]
  },
  {
   "cell_type": "code",
   "execution_count": 268,
   "metadata": {},
   "outputs": [],
   "source": [
    "# Importing libralies for for normality, Kruskal-Wallis, and post-hoc analysis\n",
    "from scipy.stats import shapiro\n",
    "from scipy.stats import kruskal\n",
    "import statsmodels.stats.multicomp as mc"
   ]
  },
  {
   "cell_type": "markdown",
   "metadata": {},
   "source": [
    "#### Teste 1 - Testando a hipótese de que há diferença significativa no valor monetário das compras entre os grupos"
   ]
  },
  {
   "cell_type": "markdown",
   "metadata": {},
   "source": [
    "##### Identificando se a distribuição é normal ou não, para decidir o tipo de teste estatístico será utilizado\n",
    "\n",
    "Aqui, vamos aplicar um teste estatístico que mede a normalidade dos dados, o teste escolhido foi o teste Shapiro-Wilk, pois é o mais utilizado e com maior poder estatístico."
   ]
  },
  {
   "cell_type": "code",
   "execution_count": 269,
   "metadata": {},
   "outputs": [],
   "source": [
    "# Creating function to perform Shapiro-Wilk normality test\n",
    "def shap_test(col, alpha=0.05):\n",
    "    for cluster in df_RMF['Cluster'].unique():\n",
    "        stat, p = shapiro(df_RMF[df_RMF['Cluster'] == cluster][col])\n",
    "        print(f'Cluster {cluster}: p-value = {p}')\n",
    "\n",
    "        if p < alpha:\n",
    "            print('A hipótese nula de que a distribuição dos dados é uma distribuição normal pode ser rejeitada.')\n",
    "            print()\n",
    "        else:\n",
    "            print('A hipótese nula de que a distribuição dos dados é uma distribuição normal não pode ser rejeitada.')\n",
    "            print()"
   ]
  },
  {
   "cell_type": "markdown",
   "metadata": {},
   "source": [
    "- Hipótese Nula (H0): A distribuição dos dados segue uma distribuição normal.  \n",
    "- Hipótese Alternativa (H1): A distribuição dos dados não segue uma distribuição normal.  \n",
    "- alpha 0.05"
   ]
  },
  {
   "cell_type": "code",
   "execution_count": 270,
   "metadata": {},
   "outputs": [
    {
     "name": "stdout",
     "output_type": "stream",
     "text": [
      "Cluster 2: p-value = 1.4376721401406053e-19\n",
      "A hipótese nula de que a distribuição dos dados é uma distribuição normal pode ser rejeitada.\n",
      "\n",
      "Cluster 3: p-value = 1.8753815266651188e-54\n",
      "A hipótese nula de que a distribuição dos dados é uma distribuição normal pode ser rejeitada.\n",
      "\n",
      "Cluster 1: p-value = 1.981293826212355e-34\n",
      "A hipótese nula de que a distribuição dos dados é uma distribuição normal pode ser rejeitada.\n",
      "\n",
      "Cluster 0: p-value = 7.319606685144611e-19\n",
      "A hipótese nula de que a distribuição dos dados é uma distribuição normal pode ser rejeitada.\n",
      "\n"
     ]
    }
   ],
   "source": [
    "# Performing Shapiro-Wilk normality test\n",
    "shap_test('monetary')"
   ]
  },
  {
   "cell_type": "markdown",
   "metadata": {},
   "source": [
    "A distribuição dos dados não é normal, será adotado o teste Kruskal-Wallis, que é a alternativa não paramética do teste ANOVA, e que quando é significante indica que ao menos uma amostra domina estocasticamente uma outra amostra."
   ]
  },
  {
   "cell_type": "code",
   "execution_count": 271,
   "metadata": {},
   "outputs": [],
   "source": [
    "# Function to perform Kruskal-Wallis test\n",
    "def kruskal_test(col,alpha=0.05):\n",
    "    kruskal_results = kruskal(*[df_RMF[df_RMF['Cluster'] == cluster][col] for cluster in df_RMF['Cluster'].unique()])\n",
    "    print(f'Kruskal-Wallis p-value = {kruskal_results.pvalue}')\n",
    "\n",
    "    if kruskal_results.pvalue < alpha:\n",
    "        print('A hipótese nula de que não há diferença estatística entre as amostras é rejeitada.')\n",
    "        print()\n",
    "    else:\n",
    "        print('A hipótese nula de que não há diferença estatística entre as amostras não pode ser rejeitada.')\n",
    "        print()"
   ]
  },
  {
   "cell_type": "markdown",
   "metadata": {},
   "source": [
    "- Hipótese Nula (H0): Não há diferença estatística entre as amostras.  \n",
    "- Hipótese Alternativa (H1): Pelo menos uma das amostras é estatisticamente diferente das outras.  \n",
    "- alpha 0.05"
   ]
  },
  {
   "cell_type": "code",
   "execution_count": 272,
   "metadata": {},
   "outputs": [
    {
     "name": "stdout",
     "output_type": "stream",
     "text": [
      "Kruskal-Wallis p-value = 0.0\n",
      "A hipótese nula de que não há diferença estatística entre as amostras é rejeitada.\n",
      "\n"
     ]
    }
   ],
   "source": [
    "# Performing Kruskal-Wallis test\n",
    "kruskal_test('monetary')"
   ]
  },
  {
   "cell_type": "markdown",
   "metadata": {},
   "source": [
    "Uma vez que há diferença entre as amostras, vamos realizar a análise Pós HOC para identificar quais grupos são significativamente diferentes entre si. Utilizaremos o teste de Tukey, pois nele conseguimos visualizar a comparação entre todos os grupos.\n",
    "\n",
    "Aplicamos o teste teste de Tukey HSD apenas após o teste Kruskal-Wallis pois ao realizar um único teste inicial para ver se há diferenças gerais, minimizamos o número total de testes que precisam ser realizados, o que ajuda a controlar erros do tipo I (falsos positivos)."
   ]
  },
  {
   "cell_type": "code",
   "execution_count": 273,
   "metadata": {},
   "outputs": [
    {
     "name": "stdout",
     "output_type": "stream",
     "text": [
      "    Multiple Comparison of Means - Tukey HSD, FWER=0.05    \n",
      "===========================================================\n",
      "group1 group2  meandiff  p-adj    lower      upper   reject\n",
      "-----------------------------------------------------------\n",
      "     0      1  1028.5882    0.0   690.7766 1366.3998   True\n",
      "     0      2   -76.7272 0.9264  -395.8059  242.3516  False\n",
      "     0      3  2699.0244    0.0  2380.6608 3017.3879   True\n",
      "     1      2 -1105.3154    0.0 -1421.1642 -789.4665   True\n",
      "     1      3  1670.4362    0.0  1355.3098 1985.5626   True\n",
      "     2      3  2775.7515    0.0  2480.7953 3070.7078   True\n",
      "-----------------------------------------------------------\n"
     ]
    }
   ],
   "source": [
    "# Tukey HSD (após ANOVA)\n",
    "tukey = mc.MultiComparison(df_RMF['monetary'], df_RMF['Cluster'])\n",
    "tukey_results = tukey.tukeyhsd()\n",
    "print(tukey_results)"
   ]
  },
  {
   "cell_type": "markdown",
   "metadata": {},
   "source": [
    "A tabela acima resume bem os resultados do teste de Tukey, em relação ao valor monetário das compras entre os grupos. Podemos observar a diferença média entre os dois grupos comparados na coluna meandiff, o p-valor de cada teste na coluna p-adj, o intervalor de confiança nas colunas lower e upper, e por fim, o resultado do teste.\n",
    "\n",
    "No caso do valor monetário, fica claro na tabela que a diferença entre as médias não é significativa apenas na comparação dos Clusters 0 (Clientes Promissores) 2 (CLientes Hibernando), enquanto que em todas as outras combinações, as médias são estatisticamente diferentes."
   ]
  },
  {
   "cell_type": "markdown",
   "metadata": {},
   "source": [
    "#### Teste 2: Testando a hipótese de que há diferença significativa na frequência de compra dos grupos"
   ]
  },
  {
   "cell_type": "markdown",
   "metadata": {},
   "source": [
    "##### Aplicando o teste Shapiro-Wilk"
   ]
  },
  {
   "cell_type": "markdown",
   "metadata": {},
   "source": [
    "- Hipótese Nula (H0): A distribuição dos dados segue uma distribuição normal.  \n",
    "- Hipótese Alternativa (H1): A distribuição dos dados não segue uma distribuição normal.  \n",
    "- alpha 0.05"
   ]
  },
  {
   "cell_type": "code",
   "execution_count": 274,
   "metadata": {},
   "outputs": [
    {
     "name": "stdout",
     "output_type": "stream",
     "text": [
      "Cluster 2: p-value = 4.084867588049476e-31\n",
      "A hipótese nula de que a distribuição dos dados é uma distribuição normal pode ser rejeitada.\n",
      "\n",
      "Cluster 3: p-value = 5.009542902577941e-52\n",
      "A hipótese nula de que a distribuição dos dados é uma distribuição normal pode ser rejeitada.\n",
      "\n",
      "Cluster 1: p-value = 4.20772632636994e-35\n",
      "A hipótese nula de que a distribuição dos dados é uma distribuição normal pode ser rejeitada.\n",
      "\n",
      "Cluster 0: p-value = 5.318872286068528e-22\n",
      "A hipótese nula de que a distribuição dos dados é uma distribuição normal pode ser rejeitada.\n",
      "\n"
     ]
    }
   ],
   "source": [
    "# Performing Shapiro-Wilk normality test\n",
    "shap_test('frequency')"
   ]
  },
  {
   "cell_type": "markdown",
   "metadata": {},
   "source": [
    "##### Aplicando o teste Kruskal-Wallis"
   ]
  },
  {
   "cell_type": "markdown",
   "metadata": {},
   "source": [
    "- Hipótese Nula (H0): Não há diferença estatística entre as amostras.  \n",
    "- Hipótese Alternativa (H1): Pelo menos uma das amostras é estatisticamente diferente das outras.  \n",
    "- alpha 0.05"
   ]
  },
  {
   "cell_type": "code",
   "execution_count": 275,
   "metadata": {},
   "outputs": [
    {
     "name": "stdout",
     "output_type": "stream",
     "text": [
      "Kruskal-Wallis p-value = 0.0\n",
      "A hipótese nula de que não há diferença estatística entre as amostras é rejeitada.\n",
      "\n"
     ]
    }
   ],
   "source": [
    "# Performing Kruskal-Wallis test\n",
    "kruskal_test('frequency')"
   ]
  },
  {
   "cell_type": "markdown",
   "metadata": {},
   "source": [
    "##### Realizando a análise Pós HOC para identificar quais grupos são significativamente diferentes entre si"
   ]
  },
  {
   "cell_type": "code",
   "execution_count": 276,
   "metadata": {},
   "outputs": [
    {
     "name": "stdout",
     "output_type": "stream",
     "text": [
      " Multiple Comparison of Means - Tukey HSD, FWER=0.05 \n",
      "=====================================================\n",
      "group1 group2 meandiff p-adj   lower    upper  reject\n",
      "-----------------------------------------------------\n",
      "     0      1   17.383    0.0  13.3074 21.4586   True\n",
      "     0      2  -0.1576 0.9996  -4.0072   3.692  False\n",
      "     0      3  39.5622    0.0  35.7212 43.4031   True\n",
      "     1      2 -17.5406    0.0 -21.3512  -13.73   True\n",
      "     1      3  22.1792    0.0  18.3773 25.9811   True\n",
      "     2      3  39.7198    0.0  36.1612 43.2784   True\n",
      "-----------------------------------------------------\n"
     ]
    }
   ],
   "source": [
    "# Tukey HSD (após ANOVA)\n",
    "tukey = mc.MultiComparison(df_RMF['frequency'], df_RMF['Cluster'])\n",
    "tukey_results = tukey.tukeyhsd()\n",
    "print(tukey_results)"
   ]
  },
  {
   "cell_type": "markdown",
   "metadata": {},
   "source": [
    "Novamente tivemos resultados do teste de Tukey retornando uma diferença estatisticamente significativa em todas as combinações de clusters, com exceção apenas entre os clusters 0 e 2, para os dados das médias de frequência de compras dos usuários de cada cluster."
   ]
  },
  {
   "cell_type": "markdown",
   "metadata": {},
   "source": [
    "#### Teste 3: Testando a hipótese de que há diferença significativa na recência entre os grupos"
   ]
  },
  {
   "cell_type": "markdown",
   "metadata": {},
   "source": [
    "##### Aplicando o teste de normalidade: Shapiro-Wilk"
   ]
  },
  {
   "cell_type": "markdown",
   "metadata": {},
   "source": [
    "- Hipótese Nula (H0): A distribuição dos dados segue uma distribuição normal.  \n",
    "- Hipótese Alternativa (H1): A distribuição dos dados não segue uma distribuição normal.  \n",
    "- alpha 0.05"
   ]
  },
  {
   "cell_type": "code",
   "execution_count": 277,
   "metadata": {},
   "outputs": [
    {
     "name": "stdout",
     "output_type": "stream",
     "text": [
      "Cluster 2: p-value = 4.55955895772183e-20\n",
      "A hipótese nula de que a distribuição dos dados é uma distribuição normal pode ser rejeitada.\n",
      "\n",
      "Cluster 3: p-value = 2.9981078808151415e-31\n",
      "A hipótese nula de que a distribuição dos dados é uma distribuição normal pode ser rejeitada.\n",
      "\n",
      "Cluster 1: p-value = 4.251146815626926e-32\n",
      "A hipótese nula de que a distribuição dos dados é uma distribuição normal pode ser rejeitada.\n",
      "\n",
      "Cluster 0: p-value = 5.3704903757942396e-18\n",
      "A hipótese nula de que a distribuição dos dados é uma distribuição normal pode ser rejeitada.\n",
      "\n"
     ]
    }
   ],
   "source": [
    "# Performing Shapiro-Wilk normality test\n",
    "shap_test('recency')"
   ]
  },
  {
   "cell_type": "markdown",
   "metadata": {},
   "source": [
    "As amostras de dados da recência dos usuários não são distribuídas de forma normal, vamos prosseguir com o teste não paramético."
   ]
  },
  {
   "cell_type": "markdown",
   "metadata": {},
   "source": [
    "##### Aplicando o teste Kruskal-Wallis"
   ]
  },
  {
   "cell_type": "markdown",
   "metadata": {},
   "source": [
    "- Hipótese Nula (H0): Não há diferença estatística entre as amostras.  \n",
    "- Hipótese Alternativa (H1): Pelo menos uma das amostras é estatisticamente diferente das outras.  \n",
    "- alpha 0.05"
   ]
  },
  {
   "cell_type": "code",
   "execution_count": 278,
   "metadata": {},
   "outputs": [
    {
     "name": "stdout",
     "output_type": "stream",
     "text": [
      "Kruskal-Wallis p-value = 0.0\n",
      "A hipótese nula de que não há diferença estatística entre as amostras é rejeitada.\n",
      "\n"
     ]
    }
   ],
   "source": [
    "# Performing Kruskal-Wallis test\n",
    "kruskal_test('recency')"
   ]
  },
  {
   "cell_type": "markdown",
   "metadata": {},
   "source": [
    "##### Realizando a análise Pós HOC para identificar quais grupos são significativamente diferentes entre si"
   ]
  },
  {
   "cell_type": "code",
   "execution_count": 279,
   "metadata": {},
   "outputs": [
    {
     "name": "stdout",
     "output_type": "stream",
     "text": [
      "  Multiple Comparison of Means - Tukey HSD, FWER=0.05   \n",
      "========================================================\n",
      "group1 group2  meandiff p-adj   lower     upper   reject\n",
      "--------------------------------------------------------\n",
      "     0      1   63.8992   0.0    56.953   70.8454   True\n",
      "     0      2  171.5809   0.0  165.0199  178.1419   True\n",
      "     0      3   -20.285   0.0  -26.8313  -13.7387   True\n",
      "     1      2  107.6817   0.0  101.1871  114.1763   True\n",
      "     1      3  -84.1842   0.0  -90.6639  -77.7045   True\n",
      "     2      3 -191.8659   0.0 -197.9309 -185.8009   True\n",
      "--------------------------------------------------------\n"
     ]
    }
   ],
   "source": [
    "# Tukey HSD (após ANOVA)\n",
    "tukey = mc.MultiComparison(df_RMF['recency'], df_RMF['Cluster'])\n",
    "tukey_results = tukey.tukeyhsd()\n",
    "print(tukey_results)"
   ]
  },
  {
   "cell_type": "markdown",
   "metadata": {},
   "source": [
    "Por fim, visualizamos todas as combinações dos clusters em relação a recência de compras. Podemos observar que todos os p-valores foram inferiores ao nível de significância de 0,05, o que indica que todas as amostras são estatísticamente diferentes umas das outras em relação a este tópico da análise."
   ]
  },
  {
   "cell_type": "markdown",
   "metadata": {},
   "source": [
    "### Conclusões Finais do Projeto"
   ]
  },
  {
   "cell_type": "markdown",
   "metadata": {},
   "source": [
    "##### Vendas da Everything Plus  \n",
    "Vimos que as vendas da empresa se concentram principalmente no final do ano, principalmente nos meses de outubro, novembro e dezembro.  \n",
    "\n",
    "##### Segmentação dos clientes  \n",
    "Utilizamos a Análise RFM para segmentar os clientes com base na Recência (tempo passado desde a última compra), Frequência (frequência em que os usuários realizam a compra) e Monetariedade (valor das compras realizadas pelo cliente). Após calculadas os dados por cada cliente, padronizamos as métricas e aplicamos um modelo de Machine Learning para identificar o número ótimo de clusters, que foi decidida em 4, e realizar a segmentação de todos os clientes. Com os grupos definidos, fomos capazes de gerar métricas (média, mediana e desvio padrão) para cada critério e geramos gráficos que nos permitiram classificar os clientes nos seguintes grupos:  \n",
    "- Cluster 3 - Clientes Fiéis: Compram recentemente. Compram com frequência. Gastam mais. \n",
    "- Cluster 0 - Promissor: Compradores recentes, mas não gastaram muito.\n",
    "- Cluster 1 - Em risco:\tGastaram muito dinheiro e compraram com freqüência. Mas há muito tempo.\n",
    "- Cluster 2 - Hibernando: A última compra foi feita a algum tempo. Pouco gasto e baixo número de pedidos.  \n",
    "  \n",
    "##### Testes estatísticos para comprovar as diferenças entre os clusters  \n",
    "Aqui foram realizados três testes para comprovar a diferença estatística entre os três critérios da análise RFM (recência, frequência e monetariedade).  \n",
    "Primeiro, aplicamos um teste de normalidade para definir se iríamos utilizar, ou não, um teste paramético, depois realizamos o teste estatístico e depois a análise pós HOC para identificar exatamente quais grupos diferiam entre si.  \n",
    "\n",
    "O resultado final foi muito semelhante ao que já havíamos visualizado anteriormente no gráfico de caixa por cluster: houve uma diferença estatisticamente significativa em todas as combinações de clusters no critério de recência, enquanto que na frequência e monetariedade houve diferença significativa em todos os clusters com exceção apenas entre os clusters 0 (cliente promissor) e 2 (cliente hibernando).\n",
    "\n",
    "##### Recomendações à equipe de marketing  \n",
    "A partir dos resultados, é possível identificar que a equipe de marketing deve seguir as seguintes estratégias:\n",
    "- Clientes Fiéis: Esses são os clientes mais valiosos da empresa, devemos investir pra que fidelizemos eles de forma que se sintam mais dispostos a manter uma relação próxima da empresa, e continuem comprando com frequência e altos valores.\n",
    "- Clientes Promissores: Investir em campanhas de marketing que induzam os clientes a continuar comprando, e ao mesmo tempo, passar a gastar mais por compra, até que eles se tornem Clientes Fiéis.\n",
    "- Clientes Em risco: Realizar pesquisas para identificar o motivo pelo qual esses clientes pararam de comprar e enviar campanhas personalizadas para reavivar o interesse do clientes em comprar com a empresa.\n",
    "- Clientes Hibernando: Investir em esforços de marketing para lembrá-los de que já faz um tempo desde a última transação, oferecendo-lhes um incentivo para reavivar os seus investimentos e voltarem a ser clientes recentes."
   ]
  },
  {
   "cell_type": "code",
   "execution_count": 281,
   "metadata": {},
   "outputs": [],
   "source": [
    "df_seg.to_csv('seg.csv')"
   ]
  }
 ],
 "metadata": {
  "kernelspec": {
   "display_name": "myenv",
   "language": "python",
   "name": "python3"
  },
  "language_info": {
   "codemirror_mode": {
    "name": "ipython",
    "version": 3
   },
   "file_extension": ".py",
   "mimetype": "text/x-python",
   "name": "python",
   "nbconvert_exporter": "python",
   "pygments_lexer": "ipython3",
   "version": "3.12.2"
  }
 },
 "nbformat": 4,
 "nbformat_minor": 2
}
