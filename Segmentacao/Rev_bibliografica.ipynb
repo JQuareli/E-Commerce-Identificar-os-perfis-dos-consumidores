{
 "cells": [
  {
   "cell_type": "markdown",
   "metadata": {},
   "source": [
    "## Revisão Bibliográfica"
   ]
  },
  {
   "cell_type": "markdown",
   "metadata": {},
   "source": [
    "#### O que é Segmentação de Clientes\n",
    "A aquisição de novos clientes é significativamente mais cara que a conversão de clientes antigos.\n",
    "além disso, cada cliente tem suas peculiaridades, e por isso devemos ter diferentes abordagens para suprir suas necessidades, tratar melhor os seus problemas e atingir melhores resultados. Tendo tudo em vista, para garantir diferentes abordagens para cada um dos clientes, devemos primeiro dividir os clientes entre grupos com perfis semelhantes. Então, a segmentação de clientes nada mais é do que quando agrupamos os clientes com base em diferentes parâmetros que vão nos auxiliar a entender as melhores formas de lidar com eles e ainda propor campanhas esécificas para cada grupo, que vão otimizar os gastos e aumentar a receita."
   ]
  },
  {
   "cell_type": "markdown",
   "metadata": {},
   "source": [
    "#### Tipos de Segmentação de Clientes\n",
    "Temos alguns tipos específicos de segmentação de clientes, esses tipos determinam quais os critérios que serão utilizados para agrupar os clientes, dentre eles os principais são:\n",
    "\n",
    "- Segmentação Demográfica: divide os clientes de uma determinada empresa com base em características como idade, faixa etária, grau de escolaridade, renda, profissão, área de atuação e entre outras questões a depender de quem é o seu cliente.\n",
    "\n",
    "- Segmentação Geográfica: essa segmentação é responsável por usar critérios geográficos como língua e localização, que por sua vez pode incluir páis, região, cidade, clima e até meio de transporte.\n",
    "\n",
    "- Segmentação Psicográfica: leva em consideração aspectos psicológicos como personalidade, valores, estilo de vida, interesses e opiniões dos seus clientes.\n",
    "\n",
    "- Segmentação Technográfica: segmenta os clientes com base nos seus aplicativos, softwares ou aplicações. Essa segmentação é útil em canais online e é utilizada principalmente segmentando entre disponivitos, navegadores e websites diversos. Uma aplicação útil aqui é a segmentação por canal, que dividiria os clientes entre aqueles que acessaram o seu site por e-mail, whatsapp e etc.\n",
    "\n",
    "- Segmentação Comportamental: Agrupa os clientes com base no comportamento de compra, padrões de consumo e nas suas respostas em relação a campanhas de marketing, aumento de preços. Para realizar uma boa segmentação comportamental podemos utilizar dados diversos, como histórico de compras, frequência de compras, data exata das compras, e vários outros."
   ]
  },
  {
   "cell_type": "markdown",
   "metadata": {},
   "source": [
    "#### Análise RFM\n",
    "Partindo da segmentação comportamental, citada anteriormente, existe uma estratégia de marketing amplamente utilizada que estima o valor de cada cliente e prevê quais clientes têm maior probabilidade de realizar novas compras, com base em três varáveis: Recência (quão recentemente um cliente fez uma compra), Frequência (com que frequência ele compra) e Valor monetário (quanto dinheiro ele gasta em compras), é a chamada análise de RFM.\n",
    "\n",
    "A Recência é definida pelo quanto mais recente os clientes compram, e usa importancia está ligada a probabilidade de que este cliente volte a comprar, clientes que compraram dentro do mês atual têm maior probabilidade de comprar novamente do que aqueles que não compram há alguns meses. A Frequência corrobora com o ponto anterior, determina o volume comprado em um período de tempo, e ainda pode ser usada para poder prever quando o cliente costuma comprar, para que a equipe direcione esforços para auxiliar o retorno desse cliente. Por fim, a Monetaridade que diz respeito ao retorno financeiro que o cliente trouxe em suas transações.\n",
    "\n",
    "A análise classifica numericamente um cliente em uma escala que vai de 1 a 5, sendo o melhor cliente aquele que recebe 5 em todas as 3 categorias. Depois dessa pontuação, os clientes são segmentados em grupos que receberão diferentes abordagens, como explicado anteriormente. Essa maneira simples, intuitiva e que utiliza escalas númericas na classificação dos clientes faz da análise RFM extremamente popular atualmente. As classificações não definem clientes necessariamente bons ou ruins, apenas servem para dividir esses clientes entre alguns segmentos que comumente são divididos como: Campeões, Clientes Fiéis, Lealdade Potencial, Clientes Recentes, Promissor, Clientes que Precisam de Atenção, Prestes a \"hibernar\", Em Risco, Não Posso Perdê-los, Hibernando e Perdido.\n",
    "\n",
    "A definição dos pontos pode ser feita por inferência, que seria a decisão da pontuação de cada cliente com base em estratégias definidas pela equipe, é definido um intervalo para cada pontuação, e os limites do intervalo são baseados na natureza dos negócios. Essa definição é bastante fácil de realizar, mas pode não ser vantajosa em relação ao enviesamento das pontuações.\n",
    "\n",
    "Também podemos definir os pontos utilizando a métrica de quintis, o conceito é bem simples: todos os dados de cada uma das letras são separados e ordenados do menor para o maior; eles são divididos em cinco partes iguais; para cada uma dessas partes, é atribuido um score de 1 a 5 para aqueles que estiverem dentro daquele quintil, sendo 5 a maior pontuação. No caso da Recência (quanto menor a recência, melhor), ordenamos por ordem crescente, e decrescente na Frequência (quanto mais compras em um período especificado de tempo, melhor) e Valor Monetário (quanto maior o valor financeiro, melhor).\n",
    "\n",
    "Depois de definir as faixas de pontuação  de cada quintil e em cada letra do RFM, ordenam-se os clientes pelos seus pontos, classificam-se os clientes."
   ]
  },
  {
   "cell_type": "markdown",
   "metadata": {},
   "source": [
    "#### Como segmentar clientes\n",
    "Para realizar uma boa segmentação de clientes é necessário concluir algumas etapas importantes, iniciando pela identificação das necessidades da sua empresa, ou seja, a motivação pela qual a empresa está investindo em uma boa segmentação de clientes, seja para definir estratégias de marketing, ou identificar pontos de melhoria no contato com os clientes ou até mesmo lançar um novo produto. A partir disso, o tipo de segmentação que será utilizada deverá ser escolhido, isso definirá o rumo dos próximos passos. \n",
    "\n",
    "Depois de ter escolhido o tipo, é o momento de preparar o projeto de segmentação de clientes, isso inclui definir o objetivo central da empresa ou da equipe em realizar a segmentação, ou seja, definir quais questões estão tentando resolver, e qual o resultado final é pretendido. Depois, é necessário envolver todos os stakeholders da equipe que serão impactados pelo projeto, essa etapa também é importante para alinhar as expectativas.\n",
    "\n",
    "Em seguida, os dados são coletados e organizados. Nesta etapa os dados são extraídos da ferramenta, processados, e explorados para garantir que a segmentação futura não será impactada pela má qualidade dos dados. Na etapa seguinte, os dados são segmentados com base nos critérios definidos anteriormente, ou seja, o tipo de segmentação e quaisquer estratégias definidas para uma boa divisão.\n",
    "\n",
    "Depois de ter passado por todas as etapas e agrupado os clientes da melhor forma, devemos aplicar as estratégias definidas no objetivo inicial do projeto. Por fim, é necessário manter uma análise frequente da segmentação realizada, uma vez que o mercado está em constante alteração e os clientes podem sempre estar migrando de um grupo para outro e realizar essas constantes reavaliações vai permitir que a equipe esteja sempre preparada para lidar sempre da melhor forma com cada um dos clientes. Nesta última etapa é interessante utilizar de feedbacks para avaliar a qualidade dos agrupamentos."
   ]
  },
  {
   "cell_type": "markdown",
   "metadata": {},
   "source": [
    "1- Customer Segmentation: The Ultimate Guide\n",
    "https://www.forbes.com/advisor/business/customer-segmentation/#customer_segmentation_tools_section\n",
    "\n",
    "2- A análise RFM para segmentação de clientes\n",
    "https://vidadeproduto.com.br/analise-rfm/\n",
    "\n",
    "3- Segmentação de clientes: o que é, qual a importância, os tipos e como fazer?\n",
    "https://blog.omie.com.br/segmentacao-de-clientes-o-que-e-qual-a-importancia-os-tipos-e-como-fazer/\n",
    "\n",
    "4- O que é segmentação de mercado, para que serve e por que devemos fazê-la?\n",
    "https://mindminers.com/blog/o-que-e-segmentacao-de-mercado/\n",
    "\n",
    "5- Quais os tipos de segmentação de cliente e como fazer?\n",
    "https://www.docusign.com/pt-br/blog/segmentacao-cliente?utm_source=google&utm_medium=cpc&utm_campaign=GBL_XX_PRF_NEW_2401_SEMNonBranded&utm_term=&campaignid=13557794767&adgroupid=123274965506&location=9100434&device=c&matchtype=&extensionid=&creative=696332069410&keyword=&placement=&network=g&gclid=CjwKCAjwnqK1BhBvEiwAi7o0XxXi_rMNlKZ17o6ksJnMt3FC-OdafctUFwk7WDKCjThRnl7aeRkM8BoC9GQQAvD_BwE&gad_source=1\n",
    "\n",
    "6- Segmentação de clientes: o que é e como executar com maestria para alcançar resultados comerciais!\n",
    "https://www.agendor.com.br/blog/segmentacao-de-clientes/\n",
    "\n",
    "7- Segmentação comportamental: como aplicar?\n",
    "https://www.minu.co/blog/vantagens-de-usar-marketing-de-comportamento\n",
    "\n",
    "8- Segmentação Comportamental: Exemplos e 3 Dicas de Como Fazer\n",
    "https://geofusion.com.br/blog/segmentacao-comportamental/"
   ]
  }
 ],
 "metadata": {
  "language_info": {
   "name": "python"
  }
 },
 "nbformat": 4,
 "nbformat_minor": 2
}
