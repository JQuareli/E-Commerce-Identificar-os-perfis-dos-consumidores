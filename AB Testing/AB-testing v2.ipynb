{
 "cells": [
  {
   "cell_type": "markdown",
   "metadata": {},
   "source": [
    "## Projeto Teste A/B\n",
    "\n",
    "### Objetivo do Estudo:\n",
    "O presente projeto visa analisar um teste A/B já iniciado. Será realizada uma análise exploratória dos dados e todo o teste será reavaliado para verificar a qualidade dos dados e a confiabilidade do teste. Ao final do projeto, serão descritas as conclusões e os principais resultados.\n",
    "\n",
    "### Objetivo do experimento:\n",
    "Testando mudanças relacionadas à introdução de uma recomendação do sistema melhorada\n",
    "\n",
    "### Resultado esperado: \n",
    "Em até 14 dias após o cadastro, usuários mostram uma conversão melhor nas visualizações de página do produto (o evento `product_page` event), ao adicionar itens ao carrinho (`product_cart`), e compras (`purchase`). A cada etapa do funil `product_page → product_cart → purchase`, terá ao menos 10% de aumento."
   ]
  },
  {
   "cell_type": "markdown",
   "metadata": {},
   "source": [
    "### Importando as tabelas"
   ]
  },
  {
   "cell_type": "code",
   "execution_count": 292,
   "metadata": {},
   "outputs": [],
   "source": [
    "# Importing the libraries\n",
    "import pandas as pd\n",
    "import os\n",
    "from pathlib import Path\n",
    "import plotly.graph_objects as go\n",
    "import seaborn as sns\n",
    "from matplotlib import pyplot as plt\n",
    "from matplotlib.colors import to_hex\n",
    "import numpy as np\n",
    "import scipy.stats as st\n",
    "from statsmodels.stats.proportion import proportions_ztest\n",
    "from scipy.stats import shapiro\n",
    "\n",
    "# Defining a default color palette for the plots\n",
    "colors = sns.color_palette(\"Set2\", n_colors=6)\n",
    "my_palette = [to_hex(color) for color in colors]"
   ]
  },
  {
   "cell_type": "markdown",
   "metadata": {},
   "source": [
    "`ab_project_marketing_events_us.csv`: o calendário de eventos de marketing para 2020  \n",
    "`final_ab_new_users_upd_us.csv`: todos os usuários que se cadastraram na loja online de 7 a 21 de dezembro de 2020  \n",
    "`final_ab_events_upd_us.csv`: todos os eventos dos novos usuários dentro do período de 7 de dezembro de 2020 até 1 de janeiro de 2021  \n",
    "`final_ab_participants_upd_us.csv`: tabela contendo os participantes do teste"
   ]
  },
  {
   "cell_type": "code",
   "execution_count": 293,
   "metadata": {},
   "outputs": [],
   "source": [
    "# Accessing the project directory\n",
    "os.chdir('C:/Users/joaoq/My_projects/Projeto Final/E-Commerce-Identificar-os-perfis-dos-consumidores')\n",
    "\n",
    "# Importing the data\n",
    "df_mkt_events = pd.read_csv(Path('datasets/ab_project_marketing_events_us.txt'))\n",
    "df_new_users = pd.read_csv(Path('datasets/final_ab_new_users_upd_us.txt'))\n",
    "df_group_test = pd.read_csv(Path('datasets/final_ab_participants_upd_us.txt'))\n",
    "df_new_events = pd.read_csv(Path('datasets/final_ab_events_upd_us.txt'))"
   ]
  },
  {
   "cell_type": "markdown",
   "metadata": {},
   "source": [
    "### Analisando os dados - EDA"
   ]
  },
  {
   "cell_type": "markdown",
   "metadata": {},
   "source": [
    "#### df_mkt_events"
   ]
  },
  {
   "cell_type": "code",
   "execution_count": 294,
   "metadata": {},
   "outputs": [
    {
     "name": "stdout",
     "output_type": "stream",
     "text": [
      "<class 'pandas.core.frame.DataFrame'>\n",
      "RangeIndex: 14 entries, 0 to 13\n",
      "Data columns (total 4 columns):\n",
      " #   Column     Non-Null Count  Dtype \n",
      "---  ------     --------------  ----- \n",
      " 0   name       14 non-null     object\n",
      " 1   regions    14 non-null     object\n",
      " 2   start_dt   14 non-null     object\n",
      " 3   finish_dt  14 non-null     object\n",
      "dtypes: object(4)\n",
      "memory usage: 580.0+ bytes\n"
     ]
    }
   ],
   "source": [
    "# Displays a summary of the DataFrame\n",
    "df_mkt_events.info()"
   ]
  },
  {
   "cell_type": "code",
   "execution_count": 295,
   "metadata": {},
   "outputs": [
    {
     "data": {
      "text/html": [
       "<div>\n",
       "<style scoped>\n",
       "    .dataframe tbody tr th:only-of-type {\n",
       "        vertical-align: middle;\n",
       "    }\n",
       "\n",
       "    .dataframe tbody tr th {\n",
       "        vertical-align: top;\n",
       "    }\n",
       "\n",
       "    .dataframe thead th {\n",
       "        text-align: right;\n",
       "    }\n",
       "</style>\n",
       "<table border=\"1\" class=\"dataframe\">\n",
       "  <thead>\n",
       "    <tr style=\"text-align: right;\">\n",
       "      <th></th>\n",
       "      <th>name</th>\n",
       "      <th>regions</th>\n",
       "      <th>start_dt</th>\n",
       "      <th>finish_dt</th>\n",
       "    </tr>\n",
       "  </thead>\n",
       "  <tbody>\n",
       "    <tr>\n",
       "      <th>0</th>\n",
       "      <td>Christmas&amp;New Year Promo</td>\n",
       "      <td>EU, N.America</td>\n",
       "      <td>2020-12-25</td>\n",
       "      <td>2021-01-03</td>\n",
       "    </tr>\n",
       "    <tr>\n",
       "      <th>1</th>\n",
       "      <td>St. Valentine's Day Giveaway</td>\n",
       "      <td>EU, CIS, APAC, N.America</td>\n",
       "      <td>2020-02-14</td>\n",
       "      <td>2020-02-16</td>\n",
       "    </tr>\n",
       "    <tr>\n",
       "      <th>2</th>\n",
       "      <td>St. Patric's Day Promo</td>\n",
       "      <td>EU, N.America</td>\n",
       "      <td>2020-03-17</td>\n",
       "      <td>2020-03-19</td>\n",
       "    </tr>\n",
       "    <tr>\n",
       "      <th>3</th>\n",
       "      <td>Easter Promo</td>\n",
       "      <td>EU, CIS, APAC, N.America</td>\n",
       "      <td>2020-04-12</td>\n",
       "      <td>2020-04-19</td>\n",
       "    </tr>\n",
       "    <tr>\n",
       "      <th>4</th>\n",
       "      <td>4th of July Promo</td>\n",
       "      <td>N.America</td>\n",
       "      <td>2020-07-04</td>\n",
       "      <td>2020-07-11</td>\n",
       "    </tr>\n",
       "  </tbody>\n",
       "</table>\n",
       "</div>"
      ],
      "text/plain": [
       "                           name                   regions    start_dt  \\\n",
       "0      Christmas&New Year Promo             EU, N.America  2020-12-25   \n",
       "1  St. Valentine's Day Giveaway  EU, CIS, APAC, N.America  2020-02-14   \n",
       "2        St. Patric's Day Promo             EU, N.America  2020-03-17   \n",
       "3                  Easter Promo  EU, CIS, APAC, N.America  2020-04-12   \n",
       "4             4th of July Promo                 N.America  2020-07-04   \n",
       "\n",
       "    finish_dt  \n",
       "0  2021-01-03  \n",
       "1  2020-02-16  \n",
       "2  2020-03-19  \n",
       "3  2020-04-19  \n",
       "4  2020-07-11  "
      ]
     },
     "execution_count": 295,
     "metadata": {},
     "output_type": "execute_result"
    }
   ],
   "source": [
    "# Display the first rows of the DataFrame\n",
    "df_mkt_events.head()"
   ]
  },
  {
   "cell_type": "code",
   "execution_count": 296,
   "metadata": {},
   "outputs": [],
   "source": [
    "# Converting data types\n",
    "df_mkt_events['start_dt'] = pd.to_datetime(df_mkt_events['start_dt'])\n",
    "df_mkt_events['finish_dt'] = pd.to_datetime(df_mkt_events['finish_dt'])"
   ]
  },
  {
   "cell_type": "code",
   "execution_count": 297,
   "metadata": {},
   "outputs": [],
   "source": [
    "# Removing duplicates\n",
    "df_mkt_events.drop_duplicates(inplace=True)"
   ]
  },
  {
   "cell_type": "markdown",
   "metadata": {},
   "source": [
    "Os dados do dataframe df_mkt_events foram limpos e convertidos. Não haviam dados faltantes para serem corrigidos."
   ]
  },
  {
   "cell_type": "markdown",
   "metadata": {},
   "source": [
    "#### df_new_users"
   ]
  },
  {
   "cell_type": "code",
   "execution_count": 298,
   "metadata": {},
   "outputs": [
    {
     "name": "stdout",
     "output_type": "stream",
     "text": [
      "<class 'pandas.core.frame.DataFrame'>\n",
      "RangeIndex: 58703 entries, 0 to 58702\n",
      "Data columns (total 4 columns):\n",
      " #   Column      Non-Null Count  Dtype \n",
      "---  ------      --------------  ----- \n",
      " 0   user_id     58703 non-null  object\n",
      " 1   first_date  58703 non-null  object\n",
      " 2   region      58703 non-null  object\n",
      " 3   device      58703 non-null  object\n",
      "dtypes: object(4)\n",
      "memory usage: 1.8+ MB\n"
     ]
    }
   ],
   "source": [
    "# Displays a summary of the DataFrame\n",
    "df_new_users.info()"
   ]
  },
  {
   "cell_type": "code",
   "execution_count": 299,
   "metadata": {},
   "outputs": [
    {
     "data": {
      "text/html": [
       "<div>\n",
       "<style scoped>\n",
       "    .dataframe tbody tr th:only-of-type {\n",
       "        vertical-align: middle;\n",
       "    }\n",
       "\n",
       "    .dataframe tbody tr th {\n",
       "        vertical-align: top;\n",
       "    }\n",
       "\n",
       "    .dataframe thead th {\n",
       "        text-align: right;\n",
       "    }\n",
       "</style>\n",
       "<table border=\"1\" class=\"dataframe\">\n",
       "  <thead>\n",
       "    <tr style=\"text-align: right;\">\n",
       "      <th></th>\n",
       "      <th>user_id</th>\n",
       "      <th>first_date</th>\n",
       "      <th>region</th>\n",
       "      <th>device</th>\n",
       "    </tr>\n",
       "  </thead>\n",
       "  <tbody>\n",
       "    <tr>\n",
       "      <th>0</th>\n",
       "      <td>D72A72121175D8BE</td>\n",
       "      <td>2020-12-07</td>\n",
       "      <td>EU</td>\n",
       "      <td>PC</td>\n",
       "    </tr>\n",
       "    <tr>\n",
       "      <th>1</th>\n",
       "      <td>F1C668619DFE6E65</td>\n",
       "      <td>2020-12-07</td>\n",
       "      <td>N.America</td>\n",
       "      <td>Android</td>\n",
       "    </tr>\n",
       "    <tr>\n",
       "      <th>2</th>\n",
       "      <td>2E1BF1D4C37EA01F</td>\n",
       "      <td>2020-12-07</td>\n",
       "      <td>EU</td>\n",
       "      <td>PC</td>\n",
       "    </tr>\n",
       "    <tr>\n",
       "      <th>3</th>\n",
       "      <td>50734A22C0C63768</td>\n",
       "      <td>2020-12-07</td>\n",
       "      <td>EU</td>\n",
       "      <td>iPhone</td>\n",
       "    </tr>\n",
       "    <tr>\n",
       "      <th>4</th>\n",
       "      <td>E1BDDCE0DAFA2679</td>\n",
       "      <td>2020-12-07</td>\n",
       "      <td>N.America</td>\n",
       "      <td>iPhone</td>\n",
       "    </tr>\n",
       "  </tbody>\n",
       "</table>\n",
       "</div>"
      ],
      "text/plain": [
       "            user_id  first_date     region   device\n",
       "0  D72A72121175D8BE  2020-12-07         EU       PC\n",
       "1  F1C668619DFE6E65  2020-12-07  N.America  Android\n",
       "2  2E1BF1D4C37EA01F  2020-12-07         EU       PC\n",
       "3  50734A22C0C63768  2020-12-07         EU   iPhone\n",
       "4  E1BDDCE0DAFA2679  2020-12-07  N.America   iPhone"
      ]
     },
     "execution_count": 299,
     "metadata": {},
     "output_type": "execute_result"
    }
   ],
   "source": [
    "# Display the first rows of the DataFrame\n",
    "df_new_users.head()"
   ]
  },
  {
   "cell_type": "code",
   "execution_count": 300,
   "metadata": {},
   "outputs": [
    {
     "data": {
      "text/plain": [
       "user_id       58703\n",
       "first_date       17\n",
       "region            4\n",
       "device            4\n",
       "dtype: int64"
      ]
     },
     "execution_count": 300,
     "metadata": {},
     "output_type": "execute_result"
    }
   ],
   "source": [
    "# Counting the number of unique values in each column\n",
    "df_new_users.nunique()"
   ]
  },
  {
   "cell_type": "code",
   "execution_count": 301,
   "metadata": {},
   "outputs": [],
   "source": [
    "# Changing the data type\n",
    "df_new_users['first_date'] = pd.to_datetime(df_new_users['first_date'])\n",
    "df_new_users['region'] = df_new_users['region'].astype('category')\n",
    "df_new_users['device'] = df_new_users['device'].astype('category')"
   ]
  },
  {
   "cell_type": "code",
   "execution_count": 302,
   "metadata": {},
   "outputs": [],
   "source": [
    "# Removing the duplicated data\n",
    "df_new_users.drop_duplicates(inplace=True)"
   ]
  },
  {
   "cell_type": "markdown",
   "metadata": {},
   "source": [
    "Os dados do dataframe df_new_users foram limpos e convertidos. Não haviam dados faltantes para serem corrigidos."
   ]
  },
  {
   "cell_type": "markdown",
   "metadata": {},
   "source": [
    "#### df_group_test"
   ]
  },
  {
   "cell_type": "code",
   "execution_count": 303,
   "metadata": {},
   "outputs": [
    {
     "name": "stdout",
     "output_type": "stream",
     "text": [
      "<class 'pandas.core.frame.DataFrame'>\n",
      "RangeIndex: 14525 entries, 0 to 14524\n",
      "Data columns (total 3 columns):\n",
      " #   Column   Non-Null Count  Dtype \n",
      "---  ------   --------------  ----- \n",
      " 0   user_id  14525 non-null  object\n",
      " 1   group    14525 non-null  object\n",
      " 2   ab_test  14525 non-null  object\n",
      "dtypes: object(3)\n",
      "memory usage: 340.6+ KB\n"
     ]
    }
   ],
   "source": [
    "# Displays a summary of the DataFrame\n",
    "df_group_test.info()"
   ]
  },
  {
   "cell_type": "code",
   "execution_count": 304,
   "metadata": {},
   "outputs": [
    {
     "data": {
      "text/html": [
       "<div>\n",
       "<style scoped>\n",
       "    .dataframe tbody tr th:only-of-type {\n",
       "        vertical-align: middle;\n",
       "    }\n",
       "\n",
       "    .dataframe tbody tr th {\n",
       "        vertical-align: top;\n",
       "    }\n",
       "\n",
       "    .dataframe thead th {\n",
       "        text-align: right;\n",
       "    }\n",
       "</style>\n",
       "<table border=\"1\" class=\"dataframe\">\n",
       "  <thead>\n",
       "    <tr style=\"text-align: right;\">\n",
       "      <th></th>\n",
       "      <th>user_id</th>\n",
       "      <th>group</th>\n",
       "      <th>ab_test</th>\n",
       "    </tr>\n",
       "  </thead>\n",
       "  <tbody>\n",
       "    <tr>\n",
       "      <th>3799</th>\n",
       "      <td>4CF87C02B6E60013</td>\n",
       "      <td>B</td>\n",
       "      <td>interface_eu_test</td>\n",
       "    </tr>\n",
       "    <tr>\n",
       "      <th>13663</th>\n",
       "      <td>198FEF39910DCF76</td>\n",
       "      <td>B</td>\n",
       "      <td>interface_eu_test</td>\n",
       "    </tr>\n",
       "    <tr>\n",
       "      <th>7840</th>\n",
       "      <td>68624A9EC6B80373</td>\n",
       "      <td>B</td>\n",
       "      <td>interface_eu_test</td>\n",
       "    </tr>\n",
       "    <tr>\n",
       "      <th>6832</th>\n",
       "      <td>157B002B6AF06B2F</td>\n",
       "      <td>A</td>\n",
       "      <td>interface_eu_test</td>\n",
       "    </tr>\n",
       "    <tr>\n",
       "      <th>11987</th>\n",
       "      <td>69F2A9AA6DAEBF77</td>\n",
       "      <td>A</td>\n",
       "      <td>interface_eu_test</td>\n",
       "    </tr>\n",
       "  </tbody>\n",
       "</table>\n",
       "</div>"
      ],
      "text/plain": [
       "                user_id group            ab_test\n",
       "3799   4CF87C02B6E60013     B  interface_eu_test\n",
       "13663  198FEF39910DCF76     B  interface_eu_test\n",
       "7840   68624A9EC6B80373     B  interface_eu_test\n",
       "6832   157B002B6AF06B2F     A  interface_eu_test\n",
       "11987  69F2A9AA6DAEBF77     A  interface_eu_test"
      ]
     },
     "execution_count": 304,
     "metadata": {},
     "output_type": "execute_result"
    }
   ],
   "source": [
    "# Randomly sampling 5 rows from the dataframe\n",
    "df_group_test.sample(5)"
   ]
  },
  {
   "cell_type": "code",
   "execution_count": 305,
   "metadata": {},
   "outputs": [
    {
     "data": {
      "text/plain": [
       "user_id    13638\n",
       "group          2\n",
       "ab_test        2\n",
       "dtype: int64"
      ]
     },
     "execution_count": 305,
     "metadata": {},
     "output_type": "execute_result"
    }
   ],
   "source": [
    "# Counting the number of unique values in each column\n",
    "df_group_test.nunique()"
   ]
  },
  {
   "cell_type": "code",
   "execution_count": 306,
   "metadata": {},
   "outputs": [],
   "source": [
    "# Converting the columns to categorical data types\n",
    "df_group_test['group'] = df_group_test['group'].astype('category')\n",
    "df_group_test['ab_test'] = df_group_test['ab_test'].astype('category')"
   ]
  },
  {
   "cell_type": "code",
   "execution_count": 307,
   "metadata": {},
   "outputs": [],
   "source": [
    "# Removing duplicated rows\n",
    "df_group_test.drop_duplicates(inplace=True)"
   ]
  },
  {
   "cell_type": "markdown",
   "metadata": {},
   "source": [
    "Os dados do dataframe df_group_test foram limpos e convertidos. Não haviam dados faltantes para serem corrigidos."
   ]
  },
  {
   "cell_type": "markdown",
   "metadata": {},
   "source": [
    "#### df_new_events"
   ]
  },
  {
   "cell_type": "code",
   "execution_count": 308,
   "metadata": {},
   "outputs": [
    {
     "name": "stdout",
     "output_type": "stream",
     "text": [
      "<class 'pandas.core.frame.DataFrame'>\n",
      "RangeIndex: 423761 entries, 0 to 423760\n",
      "Data columns (total 4 columns):\n",
      " #   Column      Non-Null Count   Dtype  \n",
      "---  ------      --------------   -----  \n",
      " 0   user_id     423761 non-null  object \n",
      " 1   event_dt    423761 non-null  object \n",
      " 2   event_name  423761 non-null  object \n",
      " 3   details     60314 non-null   float64\n",
      "dtypes: float64(1), object(3)\n",
      "memory usage: 12.9+ MB\n"
     ]
    }
   ],
   "source": [
    "# Displays a summary of the DataFrame\n",
    "df_new_events.info()"
   ]
  },
  {
   "cell_type": "code",
   "execution_count": 309,
   "metadata": {},
   "outputs": [
    {
     "data": {
      "text/html": [
       "<div>\n",
       "<style scoped>\n",
       "    .dataframe tbody tr th:only-of-type {\n",
       "        vertical-align: middle;\n",
       "    }\n",
       "\n",
       "    .dataframe tbody tr th {\n",
       "        vertical-align: top;\n",
       "    }\n",
       "\n",
       "    .dataframe thead th {\n",
       "        text-align: right;\n",
       "    }\n",
       "</style>\n",
       "<table border=\"1\" class=\"dataframe\">\n",
       "  <thead>\n",
       "    <tr style=\"text-align: right;\">\n",
       "      <th></th>\n",
       "      <th>user_id</th>\n",
       "      <th>event_dt</th>\n",
       "      <th>event_name</th>\n",
       "      <th>details</th>\n",
       "    </tr>\n",
       "  </thead>\n",
       "  <tbody>\n",
       "    <tr>\n",
       "      <th>292141</th>\n",
       "      <td>18D75308A1E687F0</td>\n",
       "      <td>2020-12-14 20:08:00</td>\n",
       "      <td>login</td>\n",
       "      <td>NaN</td>\n",
       "    </tr>\n",
       "    <tr>\n",
       "      <th>118418</th>\n",
       "      <td>A614BECBF35BC31C</td>\n",
       "      <td>2020-12-28 05:24:49</td>\n",
       "      <td>product_cart</td>\n",
       "      <td>NaN</td>\n",
       "    </tr>\n",
       "    <tr>\n",
       "      <th>292429</th>\n",
       "      <td>5DE1EE099A7261E4</td>\n",
       "      <td>2020-12-14 12:06:37</td>\n",
       "      <td>login</td>\n",
       "      <td>NaN</td>\n",
       "    </tr>\n",
       "    <tr>\n",
       "      <th>362390</th>\n",
       "      <td>7120241F086C338A</td>\n",
       "      <td>2020-12-21 05:07:18</td>\n",
       "      <td>login</td>\n",
       "      <td>NaN</td>\n",
       "    </tr>\n",
       "    <tr>\n",
       "      <th>12964</th>\n",
       "      <td>4CAAFB96E7DD55DB</td>\n",
       "      <td>2020-12-13 08:17:14</td>\n",
       "      <td>purchase</td>\n",
       "      <td>9.99</td>\n",
       "    </tr>\n",
       "  </tbody>\n",
       "</table>\n",
       "</div>"
      ],
      "text/plain": [
       "                 user_id             event_dt    event_name  details\n",
       "292141  18D75308A1E687F0  2020-12-14 20:08:00         login      NaN\n",
       "118418  A614BECBF35BC31C  2020-12-28 05:24:49  product_cart      NaN\n",
       "292429  5DE1EE099A7261E4  2020-12-14 12:06:37         login      NaN\n",
       "362390  7120241F086C338A  2020-12-21 05:07:18         login      NaN\n",
       "12964   4CAAFB96E7DD55DB  2020-12-13 08:17:14      purchase     9.99"
      ]
     },
     "execution_count": 309,
     "metadata": {},
     "output_type": "execute_result"
    }
   ],
   "source": [
    "# Randomly sampling 5 rows from the dataframe\n",
    "df_new_events.sample(5)"
   ]
  },
  {
   "cell_type": "code",
   "execution_count": 310,
   "metadata": {},
   "outputs": [
    {
     "data": {
      "text/plain": [
       "user_id        58703\n",
       "event_dt      257138\n",
       "event_name         4\n",
       "details            4\n",
       "dtype: int64"
      ]
     },
     "execution_count": 310,
     "metadata": {},
     "output_type": "execute_result"
    }
   ],
   "source": [
    "# Counting the number of unique values in each column\n",
    "df_new_events.nunique()"
   ]
  },
  {
   "cell_type": "code",
   "execution_count": 311,
   "metadata": {},
   "outputs": [],
   "source": [
    "# Converting the data types of the columns\n",
    "df_new_events['event_dt'] = pd.to_datetime(df_new_events['event_dt'])\n",
    "df_new_events['event_name'] = df_new_events['event_name'].astype('category')"
   ]
  },
  {
   "cell_type": "code",
   "execution_count": 312,
   "metadata": {},
   "outputs": [],
   "source": [
    "# Removing the duplicated data\n",
    "df_new_events.drop_duplicates(inplace=True)"
   ]
  },
  {
   "cell_type": "code",
   "execution_count": 313,
   "metadata": {},
   "outputs": [
    {
     "name": "stderr",
     "output_type": "stream",
     "text": [
      "C:\\Users\\joaoq\\AppData\\Local\\Temp\\ipykernel_13624\\614268240.py:2: FutureWarning:\n",
      "\n",
      "The default of observed=False is deprecated and will be changed to True in a future version of pandas. Pass observed=False to retain current behavior or observed=True to adopt the future default and silence this warning.\n",
      "\n"
     ]
    },
    {
     "data": {
      "text/plain": [
       "event_name\n",
       "login           0\n",
       "product_cart    0\n",
       "product_page    0\n",
       "purchase        4\n",
       "Name: details, dtype: int64"
      ]
     },
     "execution_count": 313,
     "metadata": {},
     "output_type": "execute_result"
    }
   ],
   "source": [
    "# Counting the number of unique values for each event\n",
    "df_new_events.groupby('event_name')['details'].nunique()"
   ]
  },
  {
   "cell_type": "code",
   "execution_count": 314,
   "metadata": {},
   "outputs": [
    {
     "data": {
      "text/plain": [
       "details\n",
       "4.99       44579\n",
       "9.99        9158\n",
       "99.99       5405\n",
       "499.99      1172\n",
       "Name: count, dtype: int64"
      ]
     },
     "execution_count": 314,
     "metadata": {},
     "output_type": "execute_result"
    }
   ],
   "source": [
    "# Counting the occurrences of each unique value in the 'details' column for 'purchase' events\n",
    "df_new_events[df_new_events['event_name'] == 'purchase'][['details']].value_counts()"
   ]
  },
  {
   "cell_type": "code",
   "execution_count": 315,
   "metadata": {},
   "outputs": [],
   "source": [
    "# Creating a column for the date only\n",
    "df_new_events['event_day'] = df_new_events['event_dt'].dt.date\n",
    "\n",
    "# Converting to datetime\n",
    "df_new_events['event_day'] = pd.to_datetime(df_new_events['event_day'])"
   ]
  },
  {
   "cell_type": "code",
   "execution_count": 316,
   "metadata": {},
   "outputs": [
    {
     "data": {
      "text/plain": [
       "user_id               object\n",
       "event_dt      datetime64[ns]\n",
       "event_name          category\n",
       "details              float64\n",
       "event_day     datetime64[ns]\n",
       "dtype: object"
      ]
     },
     "execution_count": 316,
     "metadata": {},
     "output_type": "execute_result"
    }
   ],
   "source": [
    "# Viewing the data types\n",
    "df_new_events.dtypes"
   ]
  },
  {
   "cell_type": "markdown",
   "metadata": {},
   "source": [
    "No dataframe 'df_new_events' eliminamos os dados duplicados e convertemos os tipos de dados de cada coluna. Em relação aos dados faltantes da coluna 'details', ao visualizar os dados por evento, foi verificado que apenas os eventos de compra tinham dados, e que todas as linhas desse evento possui a informação, neste caso faz sentido não alterar nada, pois não teria o que preencher aqui."
   ]
  },
  {
   "cell_type": "markdown",
   "metadata": {},
   "source": [
    "#### Análise Exploratória dos dados"
   ]
  },
  {
   "cell_type": "markdown",
   "metadata": {},
   "source": [
    "#### Analisando as premissas"
   ]
  },
  {
   "cell_type": "markdown",
   "metadata": {},
   "source": [
    "- Possíveis registros de usuários criados após a data limite.\n",
    "- Possíveis registros de eventos ocorridos após a data limite estabelecida.\n",
    "- Público: 15% de novos usuários da região da UE\n",
    "- Número esperado de participantes do teste: 6000"
   ]
  },
  {
   "cell_type": "code",
   "execution_count": 317,
   "metadata": {},
   "outputs": [],
   "source": [
    "# Merging the experiment data table with the event data table\n",
    "df_event_group = df_new_events.merge(df_group_test, on='user_id', how='left')\n",
    "df_event_group = df_event_group.query(\"~group.isnull()\")"
   ]
  },
  {
   "cell_type": "code",
   "execution_count": 318,
   "metadata": {},
   "outputs": [
    {
     "name": "stdout",
     "output_type": "stream",
     "text": [
      "2020-12-07 00:02:48\n",
      "2020-12-30 18:28:55\n"
     ]
    }
   ],
   "source": [
    "# Analyzing event dates for test users\n",
    "print(df_event_group['event_dt'].min())\n",
    "print(df_event_group['event_dt'].max())"
   ]
  },
  {
   "cell_type": "code",
   "execution_count": 319,
   "metadata": {},
   "outputs": [
    {
     "name": "stdout",
     "output_type": "stream",
     "text": [
      "2020-12-07 00:00:00\n",
      "2020-12-23 00:00:00\n"
     ]
    }
   ],
   "source": [
    "# Analyzing the first date of the new users\n",
    "print(df_new_users['first_date'].min())\n",
    "print(df_new_users['first_date'].max())"
   ]
  },
  {
   "cell_type": "code",
   "execution_count": 320,
   "metadata": {},
   "outputs": [],
   "source": [
    "# Filter only data from the 'interface_eu_test' experiment\n",
    "interface_eu_test = df_event_group[df_event_group['ab_test'] == 'interface_eu_test']\n",
    "\n",
    "# Creating a set for users of this experiment\n",
    "users_interface_eu_test = set(interface_eu_test['user_id'])\n",
    "\n",
    "# Filter only data from the 'recommender_system_test' experiment\n",
    "recommender_system_test = df_event_group[df_event_group['ab_test'] == 'recommender_system_test']\n",
    "\n",
    "# Creating a set for users of this experiment\n",
    "users_recommender_system_test = set(recommender_system_test['user_id'])\n",
    "\n",
    "# Find users who are exclusive to 'interface_eu_test'\n",
    "exclusive_interface_eu_test = users_interface_eu_test - users_recommender_system_test"
   ]
  },
  {
   "cell_type": "code",
   "execution_count": 321,
   "metadata": {},
   "outputs": [],
   "source": [
    "# Extracting data exclusive to the second test\n",
    "df_event_group = df_event_group[~df_event_group['user_id'].isin(exclusive_interface_eu_test)]"
   ]
  },
  {
   "cell_type": "code",
   "execution_count": 322,
   "metadata": {},
   "outputs": [],
   "source": [
    "# Merging the events data with user information\n",
    "df_event_group_user = df_event_group.merge(df_new_users, on='user_id', how='left')"
   ]
  },
  {
   "cell_type": "code",
   "execution_count": 323,
   "metadata": {},
   "outputs": [
    {
     "data": {
      "text/plain": [
       "region\n",
       "EU           28389\n",
       "N.America      804\n",
       "APAC           225\n",
       "CIS            206\n",
       "Name: count, dtype: int64"
      ]
     },
     "execution_count": 323,
     "metadata": {},
     "output_type": "execute_result"
    }
   ],
   "source": [
    "# Visualizing data by region\n",
    "df_event_group_user['region'].value_counts()"
   ]
  },
  {
   "cell_type": "code",
   "execution_count": 324,
   "metadata": {},
   "outputs": [
    {
     "data": {
      "text/plain": [
       "3675"
      ]
     },
     "execution_count": 324,
     "metadata": {},
     "output_type": "execute_result"
    }
   ],
   "source": [
    "# Counting unique users from dataset\n",
    "df_event_group_user['user_id'].nunique()"
   ]
  },
  {
   "cell_type": "markdown",
   "metadata": {},
   "source": [
    "Após uma primeira análise das premissas do teste, é possível tirar as seguintes conclusões para cada premissa:  \n",
    "\n",
    "|                Premissa                 |Atendimento ou Não Atendimento|\n",
    "|-----------------------------------------|----------------------|\n",
    "| Data final de novos usuários: 21-12-2020| Premissa não atendida|\n",
    "| Data de início: 07-12-2020              | Premissa atendida    |\n",
    "| Data de término: 01-01-2021             | Premissa atendida    |\n",
    "| Público: usuários da região da UE       | Premissa não atendida|\n",
    "| Número esperado de participantes: 6000  | Premissa não atendida|\n",
    "\n",
    "\n",
    "Ao não respeitar as premissas originais do teste, os resultados podem não se enquadrar perfeitamente nos objetivos que fizeram a equipe investir no teste, por exemplo: como o teste tinha a premissa de ser realizado com um público específico, utilizar participantes de outras regiões pode gerar um resultado que não corresponderá ao esperado para aquela região, ou ainda fazer com que decisões sejam tomadas a partir de resultados não representativos; outro exemplo seria o caso da quantidade de participantes, que por estarmos trabalhando com uma quantidade menor, pode comprometer a confiabilidade do experimento."
   ]
  },
  {
   "cell_type": "markdown",
   "metadata": {},
   "source": [
    "##### Conversão nas diferentes etapas do funil"
   ]
  },
  {
   "cell_type": "code",
   "execution_count": 325,
   "metadata": {},
   "outputs": [
    {
     "name": "stderr",
     "output_type": "stream",
     "text": [
      "C:\\Users\\joaoq\\AppData\\Local\\Temp\\ipykernel_13624\\1822441127.py:2: FutureWarning:\n",
      "\n",
      "The default of observed=False is deprecated and will be changed to True in a future version of pandas. Pass observed=False to retain current behavior or observed=True to adopt the future default and silence this warning.\n",
      "\n"
     ]
    },
    {
     "data": {
      "text/html": [
       "<div>\n",
       "<style scoped>\n",
       "    .dataframe tbody tr th:only-of-type {\n",
       "        vertical-align: middle;\n",
       "    }\n",
       "\n",
       "    .dataframe tbody tr th {\n",
       "        vertical-align: top;\n",
       "    }\n",
       "\n",
       "    .dataframe thead th {\n",
       "        text-align: right;\n",
       "    }\n",
       "</style>\n",
       "<table border=\"1\" class=\"dataframe\">\n",
       "  <thead>\n",
       "    <tr style=\"text-align: right;\">\n",
       "      <th></th>\n",
       "      <th>event_name</th>\n",
       "      <th>user_id</th>\n",
       "      <th>users_in_previous_step</th>\n",
       "      <th>conversion_previous_step</th>\n",
       "    </tr>\n",
       "  </thead>\n",
       "  <tbody>\n",
       "    <tr>\n",
       "      <th>0</th>\n",
       "      <td>login</td>\n",
       "      <td>182465</td>\n",
       "      <td>NaN</td>\n",
       "      <td>NaN</td>\n",
       "    </tr>\n",
       "    <tr>\n",
       "      <th>2</th>\n",
       "      <td>product_page</td>\n",
       "      <td>120862</td>\n",
       "      <td>182465.0</td>\n",
       "      <td>0.662385</td>\n",
       "    </tr>\n",
       "    <tr>\n",
       "      <th>3</th>\n",
       "      <td>purchase</td>\n",
       "      <td>60314</td>\n",
       "      <td>120862.0</td>\n",
       "      <td>0.499032</td>\n",
       "    </tr>\n",
       "    <tr>\n",
       "      <th>1</th>\n",
       "      <td>product_cart</td>\n",
       "      <td>60120</td>\n",
       "      <td>60314.0</td>\n",
       "      <td>0.996783</td>\n",
       "    </tr>\n",
       "  </tbody>\n",
       "</table>\n",
       "</div>"
      ],
      "text/plain": [
       "     event_name  user_id  users_in_previous_step  conversion_previous_step\n",
       "0         login   182465                     NaN                       NaN\n",
       "2  product_page   120862                182465.0                  0.662385\n",
       "3      purchase    60314                120862.0                  0.499032\n",
       "1  product_cart    60120                 60314.0                  0.996783"
      ]
     },
     "execution_count": 325,
     "metadata": {},
     "output_type": "execute_result"
    }
   ],
   "source": [
    "# Grouping by event name and counting the number of users\n",
    "events_grouped = df_new_events.groupby('event_name', as_index=False)['user_id'].count().sort_values('user_id', ascending=False)\n",
    "\n",
    "# Creating a column for the previous step's user count\n",
    "events_grouped[\"users_in_previous_step\"] = events_grouped[\"user_id\"].shift(1)\n",
    "\n",
    "# Calculating the retention percentage from the previous step\n",
    "events_grouped[\"conversion_previous_step\"] = events_grouped[\"user_id\"] / events_grouped[\"users_in_previous_step\"]\n",
    "\n",
    "# Viewing the table\n",
    "events_grouped"
   ]
  },
  {
   "cell_type": "code",
   "execution_count": 326,
   "metadata": {},
   "outputs": [
    {
     "data": {
      "application/vnd.plotly.v1+json": {
       "config": {
        "plotlyServerURL": "https://plot.ly"
       },
       "data": [
        {
         "marker": {
          "color": [
           "#66c2a5",
           "#fc8d62",
           "#8da0cb",
           "#e78ac3",
           "#a6d854",
           "#ffd92f"
          ]
         },
         "textinfo": "value+percent initial",
         "type": "funnel",
         "x": [
          182465,
          120862,
          60314,
          60120
         ],
         "y": [
          "login",
          "product_page",
          "purchase",
          "product_cart"
         ]
        }
       ],
       "layout": {
        "template": {
         "data": {
          "bar": [
           {
            "error_x": {
             "color": "#2a3f5f"
            },
            "error_y": {
             "color": "#2a3f5f"
            },
            "marker": {
             "line": {
              "color": "#E5ECF6",
              "width": 0.5
             },
             "pattern": {
              "fillmode": "overlay",
              "size": 10,
              "solidity": 0.2
             }
            },
            "type": "bar"
           }
          ],
          "barpolar": [
           {
            "marker": {
             "line": {
              "color": "#E5ECF6",
              "width": 0.5
             },
             "pattern": {
              "fillmode": "overlay",
              "size": 10,
              "solidity": 0.2
             }
            },
            "type": "barpolar"
           }
          ],
          "carpet": [
           {
            "aaxis": {
             "endlinecolor": "#2a3f5f",
             "gridcolor": "white",
             "linecolor": "white",
             "minorgridcolor": "white",
             "startlinecolor": "#2a3f5f"
            },
            "baxis": {
             "endlinecolor": "#2a3f5f",
             "gridcolor": "white",
             "linecolor": "white",
             "minorgridcolor": "white",
             "startlinecolor": "#2a3f5f"
            },
            "type": "carpet"
           }
          ],
          "choropleth": [
           {
            "colorbar": {
             "outlinewidth": 0,
             "ticks": ""
            },
            "type": "choropleth"
           }
          ],
          "contour": [
           {
            "colorbar": {
             "outlinewidth": 0,
             "ticks": ""
            },
            "colorscale": [
             [
              0,
              "#0d0887"
             ],
             [
              0.1111111111111111,
              "#46039f"
             ],
             [
              0.2222222222222222,
              "#7201a8"
             ],
             [
              0.3333333333333333,
              "#9c179e"
             ],
             [
              0.4444444444444444,
              "#bd3786"
             ],
             [
              0.5555555555555556,
              "#d8576b"
             ],
             [
              0.6666666666666666,
              "#ed7953"
             ],
             [
              0.7777777777777778,
              "#fb9f3a"
             ],
             [
              0.8888888888888888,
              "#fdca26"
             ],
             [
              1,
              "#f0f921"
             ]
            ],
            "type": "contour"
           }
          ],
          "contourcarpet": [
           {
            "colorbar": {
             "outlinewidth": 0,
             "ticks": ""
            },
            "type": "contourcarpet"
           }
          ],
          "heatmap": [
           {
            "colorbar": {
             "outlinewidth": 0,
             "ticks": ""
            },
            "colorscale": [
             [
              0,
              "#0d0887"
             ],
             [
              0.1111111111111111,
              "#46039f"
             ],
             [
              0.2222222222222222,
              "#7201a8"
             ],
             [
              0.3333333333333333,
              "#9c179e"
             ],
             [
              0.4444444444444444,
              "#bd3786"
             ],
             [
              0.5555555555555556,
              "#d8576b"
             ],
             [
              0.6666666666666666,
              "#ed7953"
             ],
             [
              0.7777777777777778,
              "#fb9f3a"
             ],
             [
              0.8888888888888888,
              "#fdca26"
             ],
             [
              1,
              "#f0f921"
             ]
            ],
            "type": "heatmap"
           }
          ],
          "heatmapgl": [
           {
            "colorbar": {
             "outlinewidth": 0,
             "ticks": ""
            },
            "colorscale": [
             [
              0,
              "#0d0887"
             ],
             [
              0.1111111111111111,
              "#46039f"
             ],
             [
              0.2222222222222222,
              "#7201a8"
             ],
             [
              0.3333333333333333,
              "#9c179e"
             ],
             [
              0.4444444444444444,
              "#bd3786"
             ],
             [
              0.5555555555555556,
              "#d8576b"
             ],
             [
              0.6666666666666666,
              "#ed7953"
             ],
             [
              0.7777777777777778,
              "#fb9f3a"
             ],
             [
              0.8888888888888888,
              "#fdca26"
             ],
             [
              1,
              "#f0f921"
             ]
            ],
            "type": "heatmapgl"
           }
          ],
          "histogram": [
           {
            "marker": {
             "pattern": {
              "fillmode": "overlay",
              "size": 10,
              "solidity": 0.2
             }
            },
            "type": "histogram"
           }
          ],
          "histogram2d": [
           {
            "colorbar": {
             "outlinewidth": 0,
             "ticks": ""
            },
            "colorscale": [
             [
              0,
              "#0d0887"
             ],
             [
              0.1111111111111111,
              "#46039f"
             ],
             [
              0.2222222222222222,
              "#7201a8"
             ],
             [
              0.3333333333333333,
              "#9c179e"
             ],
             [
              0.4444444444444444,
              "#bd3786"
             ],
             [
              0.5555555555555556,
              "#d8576b"
             ],
             [
              0.6666666666666666,
              "#ed7953"
             ],
             [
              0.7777777777777778,
              "#fb9f3a"
             ],
             [
              0.8888888888888888,
              "#fdca26"
             ],
             [
              1,
              "#f0f921"
             ]
            ],
            "type": "histogram2d"
           }
          ],
          "histogram2dcontour": [
           {
            "colorbar": {
             "outlinewidth": 0,
             "ticks": ""
            },
            "colorscale": [
             [
              0,
              "#0d0887"
             ],
             [
              0.1111111111111111,
              "#46039f"
             ],
             [
              0.2222222222222222,
              "#7201a8"
             ],
             [
              0.3333333333333333,
              "#9c179e"
             ],
             [
              0.4444444444444444,
              "#bd3786"
             ],
             [
              0.5555555555555556,
              "#d8576b"
             ],
             [
              0.6666666666666666,
              "#ed7953"
             ],
             [
              0.7777777777777778,
              "#fb9f3a"
             ],
             [
              0.8888888888888888,
              "#fdca26"
             ],
             [
              1,
              "#f0f921"
             ]
            ],
            "type": "histogram2dcontour"
           }
          ],
          "mesh3d": [
           {
            "colorbar": {
             "outlinewidth": 0,
             "ticks": ""
            },
            "type": "mesh3d"
           }
          ],
          "parcoords": [
           {
            "line": {
             "colorbar": {
              "outlinewidth": 0,
              "ticks": ""
             }
            },
            "type": "parcoords"
           }
          ],
          "pie": [
           {
            "automargin": true,
            "type": "pie"
           }
          ],
          "scatter": [
           {
            "fillpattern": {
             "fillmode": "overlay",
             "size": 10,
             "solidity": 0.2
            },
            "type": "scatter"
           }
          ],
          "scatter3d": [
           {
            "line": {
             "colorbar": {
              "outlinewidth": 0,
              "ticks": ""
             }
            },
            "marker": {
             "colorbar": {
              "outlinewidth": 0,
              "ticks": ""
             }
            },
            "type": "scatter3d"
           }
          ],
          "scattercarpet": [
           {
            "marker": {
             "colorbar": {
              "outlinewidth": 0,
              "ticks": ""
             }
            },
            "type": "scattercarpet"
           }
          ],
          "scattergeo": [
           {
            "marker": {
             "colorbar": {
              "outlinewidth": 0,
              "ticks": ""
             }
            },
            "type": "scattergeo"
           }
          ],
          "scattergl": [
           {
            "marker": {
             "colorbar": {
              "outlinewidth": 0,
              "ticks": ""
             }
            },
            "type": "scattergl"
           }
          ],
          "scattermapbox": [
           {
            "marker": {
             "colorbar": {
              "outlinewidth": 0,
              "ticks": ""
             }
            },
            "type": "scattermapbox"
           }
          ],
          "scatterpolar": [
           {
            "marker": {
             "colorbar": {
              "outlinewidth": 0,
              "ticks": ""
             }
            },
            "type": "scatterpolar"
           }
          ],
          "scatterpolargl": [
           {
            "marker": {
             "colorbar": {
              "outlinewidth": 0,
              "ticks": ""
             }
            },
            "type": "scatterpolargl"
           }
          ],
          "scatterternary": [
           {
            "marker": {
             "colorbar": {
              "outlinewidth": 0,
              "ticks": ""
             }
            },
            "type": "scatterternary"
           }
          ],
          "surface": [
           {
            "colorbar": {
             "outlinewidth": 0,
             "ticks": ""
            },
            "colorscale": [
             [
              0,
              "#0d0887"
             ],
             [
              0.1111111111111111,
              "#46039f"
             ],
             [
              0.2222222222222222,
              "#7201a8"
             ],
             [
              0.3333333333333333,
              "#9c179e"
             ],
             [
              0.4444444444444444,
              "#bd3786"
             ],
             [
              0.5555555555555556,
              "#d8576b"
             ],
             [
              0.6666666666666666,
              "#ed7953"
             ],
             [
              0.7777777777777778,
              "#fb9f3a"
             ],
             [
              0.8888888888888888,
              "#fdca26"
             ],
             [
              1,
              "#f0f921"
             ]
            ],
            "type": "surface"
           }
          ],
          "table": [
           {
            "cells": {
             "fill": {
              "color": "#EBF0F8"
             },
             "line": {
              "color": "white"
             }
            },
            "header": {
             "fill": {
              "color": "#C8D4E3"
             },
             "line": {
              "color": "white"
             }
            },
            "type": "table"
           }
          ]
         },
         "layout": {
          "annotationdefaults": {
           "arrowcolor": "#2a3f5f",
           "arrowhead": 0,
           "arrowwidth": 1
          },
          "autotypenumbers": "strict",
          "coloraxis": {
           "colorbar": {
            "outlinewidth": 0,
            "ticks": ""
           }
          },
          "colorscale": {
           "diverging": [
            [
             0,
             "#8e0152"
            ],
            [
             0.1,
             "#c51b7d"
            ],
            [
             0.2,
             "#de77ae"
            ],
            [
             0.3,
             "#f1b6da"
            ],
            [
             0.4,
             "#fde0ef"
            ],
            [
             0.5,
             "#f7f7f7"
            ],
            [
             0.6,
             "#e6f5d0"
            ],
            [
             0.7,
             "#b8e186"
            ],
            [
             0.8,
             "#7fbc41"
            ],
            [
             0.9,
             "#4d9221"
            ],
            [
             1,
             "#276419"
            ]
           ],
           "sequential": [
            [
             0,
             "#0d0887"
            ],
            [
             0.1111111111111111,
             "#46039f"
            ],
            [
             0.2222222222222222,
             "#7201a8"
            ],
            [
             0.3333333333333333,
             "#9c179e"
            ],
            [
             0.4444444444444444,
             "#bd3786"
            ],
            [
             0.5555555555555556,
             "#d8576b"
            ],
            [
             0.6666666666666666,
             "#ed7953"
            ],
            [
             0.7777777777777778,
             "#fb9f3a"
            ],
            [
             0.8888888888888888,
             "#fdca26"
            ],
            [
             1,
             "#f0f921"
            ]
           ],
           "sequentialminus": [
            [
             0,
             "#0d0887"
            ],
            [
             0.1111111111111111,
             "#46039f"
            ],
            [
             0.2222222222222222,
             "#7201a8"
            ],
            [
             0.3333333333333333,
             "#9c179e"
            ],
            [
             0.4444444444444444,
             "#bd3786"
            ],
            [
             0.5555555555555556,
             "#d8576b"
            ],
            [
             0.6666666666666666,
             "#ed7953"
            ],
            [
             0.7777777777777778,
             "#fb9f3a"
            ],
            [
             0.8888888888888888,
             "#fdca26"
            ],
            [
             1,
             "#f0f921"
            ]
           ]
          },
          "colorway": [
           "#636efa",
           "#EF553B",
           "#00cc96",
           "#ab63fa",
           "#FFA15A",
           "#19d3f3",
           "#FF6692",
           "#B6E880",
           "#FF97FF",
           "#FECB52"
          ],
          "font": {
           "color": "#2a3f5f"
          },
          "geo": {
           "bgcolor": "white",
           "lakecolor": "white",
           "landcolor": "#E5ECF6",
           "showlakes": true,
           "showland": true,
           "subunitcolor": "white"
          },
          "hoverlabel": {
           "align": "left"
          },
          "hovermode": "closest",
          "mapbox": {
           "style": "light"
          },
          "paper_bgcolor": "white",
          "plot_bgcolor": "#E5ECF6",
          "polar": {
           "angularaxis": {
            "gridcolor": "white",
            "linecolor": "white",
            "ticks": ""
           },
           "bgcolor": "#E5ECF6",
           "radialaxis": {
            "gridcolor": "white",
            "linecolor": "white",
            "ticks": ""
           }
          },
          "scene": {
           "xaxis": {
            "backgroundcolor": "#E5ECF6",
            "gridcolor": "white",
            "gridwidth": 2,
            "linecolor": "white",
            "showbackground": true,
            "ticks": "",
            "zerolinecolor": "white"
           },
           "yaxis": {
            "backgroundcolor": "#E5ECF6",
            "gridcolor": "white",
            "gridwidth": 2,
            "linecolor": "white",
            "showbackground": true,
            "ticks": "",
            "zerolinecolor": "white"
           },
           "zaxis": {
            "backgroundcolor": "#E5ECF6",
            "gridcolor": "white",
            "gridwidth": 2,
            "linecolor": "white",
            "showbackground": true,
            "ticks": "",
            "zerolinecolor": "white"
           }
          },
          "shapedefaults": {
           "line": {
            "color": "#2a3f5f"
           }
          },
          "ternary": {
           "aaxis": {
            "gridcolor": "white",
            "linecolor": "white",
            "ticks": ""
           },
           "baxis": {
            "gridcolor": "white",
            "linecolor": "white",
            "ticks": ""
           },
           "bgcolor": "#E5ECF6",
           "caxis": {
            "gridcolor": "white",
            "linecolor": "white",
            "ticks": ""
           }
          },
          "title": {
           "x": 0.05
          },
          "xaxis": {
           "automargin": true,
           "gridcolor": "white",
           "linecolor": "white",
           "ticks": "",
           "title": {
            "standoff": 15
           },
           "zerolinecolor": "white",
           "zerolinewidth": 2
          },
          "yaxis": {
           "automargin": true,
           "gridcolor": "white",
           "linecolor": "white",
           "ticks": "",
           "title": {
            "standoff": 15
           },
           "zerolinecolor": "white",
           "zerolinewidth": 2
          }
         }
        },
        "title": {
         "text": "Funil de Vendas"
        }
       }
      }
     },
     "metadata": {},
     "output_type": "display_data"
    }
   ],
   "source": [
    "# Creating the funnel chart\n",
    "fig = go.Figure(go.Funnel(\n",
    "    y = events_grouped['event_name'],\n",
    "    x = events_grouped['user_id'],\n",
    "    textinfo = \"value+percent initial\",\n",
    "    marker = {\"color\": my_palette}\n",
    "))\n",
    "\n",
    "# Adjusting the title and displaying the chart\n",
    "fig.update_layout(title=\"Funil de Vendas\")\n",
    "fig.show()"
   ]
  },
  {
   "cell_type": "markdown",
   "metadata": {},
   "source": [
    "##### Verificando a distribuição de eventos por usuário para cada amostra"
   ]
  },
  {
   "cell_type": "code",
   "execution_count": 327,
   "metadata": {},
   "outputs": [],
   "source": [
    "# Filtering events and users by sample A and B\n",
    "df_A = df_event_group[df_event_group['group'] == 'A']\n",
    "df_B = df_event_group[df_event_group['group'] == 'B']"
   ]
  },
  {
   "cell_type": "code",
   "execution_count": 328,
   "metadata": {},
   "outputs": [],
   "source": [
    "# Counting the number of events per user\n",
    "events_by_user_A = df_A.groupby('user_id',as_index=False, observed=True)['event_name'].nunique()\n",
    "events_by_user_B = df_B.groupby('user_id',as_index=False, observed=True)['event_name'].nunique()"
   ]
  },
  {
   "cell_type": "code",
   "execution_count": 329,
   "metadata": {},
   "outputs": [
    {
     "name": "stdout",
     "output_type": "stream",
     "text": [
      "count    2863.000000\n",
      "mean        2.256025\n",
      "std         0.835392\n",
      "min         1.000000\n",
      "25%         2.000000\n",
      "50%         2.000000\n",
      "75%         3.000000\n",
      "max         4.000000\n",
      "Name: event_name, dtype: float64\n",
      "\n",
      "count    1253.000000\n",
      "mean        2.146848\n",
      "std         0.839795\n",
      "min         1.000000\n",
      "25%         2.000000\n",
      "50%         2.000000\n",
      "75%         3.000000\n",
      "max         4.000000\n",
      "Name: event_name, dtype: float64\n"
     ]
    }
   ],
   "source": [
    "# Displaying descriptive statistics for the counting of events\n",
    "print(events_by_user_A['event_name'].describe())\n",
    "print()\n",
    "print(events_by_user_B['event_name'].describe())"
   ]
  },
  {
   "cell_type": "code",
   "execution_count": 330,
   "metadata": {},
   "outputs": [
    {
     "data": {
      "text/plain": [
       "Text(0.5, 1.0, 'Distribution of Events per User')"
      ]
     },
     "execution_count": 330,
     "metadata": {},
     "output_type": "execute_result"
    },
    {
     "data": {
      "image/png": "[encoded data removed]",
      "text/plain": [
       "<Figure size 640x480 with 1 Axes>"
      ]
     },
     "metadata": {},
     "output_type": "display_data"
    }
   ],
   "source": [
    "# Plotting histograms for the number of events per user in sample A and sample B\n",
    "sns.histplot(events_by_user_A['event_name'], label='Sample A', color=colors[0])\n",
    "sns.histplot(events_by_user_B['event_name'], label='Sample B', color=colors[1])\n",
    "\n",
    "plt.xlabel('Number of Events')\n",
    "plt.ylabel('Number of Users')\n",
    "plt.legend()\n",
    "plt.title('Distribution of Events per User')"
   ]
  },
  {
   "cell_type": "markdown",
   "metadata": {},
   "source": [
    "Aqui, podemos ver com clareza que a distribuição dos eventos está bem semelhante nas duas amostras amostras, inclusive a semelhança se reflete nas principais métricas estatísticas. Uma questão que chama a atenção em uma primeira análise desses dados é a desproporção na quantidade de observações em cada amostra, mas veremos isso mais tarde."
   ]
  },
  {
   "cell_type": "markdown",
   "metadata": {},
   "source": [
    "##### Analisando se os mesmos usuários estão nas duas amostras"
   ]
  },
  {
   "cell_type": "code",
   "execution_count": 331,
   "metadata": {},
   "outputs": [],
   "source": [
    "# Selecting user_ids for each sample and creating sets\n",
    "users_sample_A = set(df_A['user_id'])\n",
    "users_sample_B = set(df_B['user_id'])"
   ]
  },
  {
   "cell_type": "code",
   "execution_count": 332,
   "metadata": {},
   "outputs": [
    {
     "name": "stdout",
     "output_type": "stream",
     "text": [
      "Usuários em comum: 441\n",
      "Usuários apenas na amostra A: 2422\n",
      "Usuários apenas na amostra B: 812\n"
     ]
    }
   ],
   "source": [
    "# Finding the common users between sample A and sample B\n",
    "common_users = users_sample_A.intersection(users_sample_B)\n",
    "\n",
    "# Identifying users unique to sample A and users unique to sample B\n",
    "unique_to_A = users_sample_A - users_sample_B\n",
    "unique_to_B = users_sample_B - users_sample_A\n",
    "\n",
    "# Printing the results\n",
    "print(f\"Usuários em comum: {len(common_users)}\")\n",
    "print(f\"Usuários apenas na amostra A: {len(unique_to_A)}\")\n",
    "print(f\"Usuários apenas na amostra B: {len(unique_to_B)}\")"
   ]
  },
  {
   "cell_type": "code",
   "execution_count": 333,
   "metadata": {},
   "outputs": [],
   "source": [
    "# Identifying the commom users to remove\n",
    "common_users = pd.Series(list(common_users))"
   ]
  },
  {
   "cell_type": "code",
   "execution_count": 334,
   "metadata": {},
   "outputs": [],
   "source": [
    "# Removing the common users\n",
    "df_A = df_A[~df_A['user_id'].isin(common_users)]\n",
    "df_B = df_B[~df_B['user_id'].isin(common_users)]\n",
    "\n",
    "df_event_group = df_event_group[~df_event_group['user_id'].isin(common_users)]"
   ]
  },
  {
   "cell_type": "code",
   "execution_count": 335,
   "metadata": {},
   "outputs": [
    {
     "name": "stdout",
     "output_type": "stream",
     "text": [
      "Usuários em comum: 0\n",
      "Usuários apenas na amostra A: 2422\n",
      "Usuários apenas na amostra B: 812\n"
     ]
    }
   ],
   "source": [
    "# Repeating the process to visualize the results\n",
    "users_sample_A = set(df_A['user_id'])\n",
    "users_sample_B = set(df_B['user_id'])\n",
    "\n",
    "common_users = users_sample_A.intersection(users_sample_B)\n",
    "\n",
    "unique_to_A = users_sample_A - users_sample_B\n",
    "unique_to_B = users_sample_B - users_sample_A\n",
    "\n",
    "print(f\"Usuários em comum: {len(common_users)}\")\n",
    "print(f\"Usuários apenas na amostra A: {len(unique_to_A)}\")\n",
    "print(f\"Usuários apenas na amostra B: {len(unique_to_B)}\")"
   ]
  },
  {
   "cell_type": "markdown",
   "metadata": {},
   "source": [
    "##### Distribuição dos eventos em cada dia"
   ]
  },
  {
   "cell_type": "code",
   "execution_count": 336,
   "metadata": {},
   "outputs": [],
   "source": [
    "# Calculating the number of events per day for each sample\n",
    "event_per_day_A = df_A.groupby('event_day',as_index=False)['event_name'].count()\n",
    "event_per_day_B = df_B.groupby('event_day',as_index=False)['event_name'].count()"
   ]
  },
  {
   "cell_type": "code",
   "execution_count": 337,
   "metadata": {},
   "outputs": [
    {
     "data": {
      "text/plain": [
       "Text(0.5, 1.0, 'Distribution of Events per Date')"
      ]
     },
     "execution_count": 337,
     "metadata": {},
     "output_type": "execute_result"
    },
    {
     "data": {
      "image/png": "[encoded data removed]",
      "text/plain": [
       "<Figure size 640x480 with 1 Axes>"
      ]
     },
     "metadata": {},
     "output_type": "display_data"
    }
   ],
   "source": [
    "# Plotting the distribution of events per day\n",
    "sns.barplot(x=event_per_day_A['event_day'], y=event_per_day_A['event_name'],  label='Sample A', color=colors[0])\n",
    "sns.barplot(x=event_per_day_B['event_day'], y=event_per_day_B['event_name'], label='Sample B', color=colors[1])\n",
    "\n",
    "plt.xlabel('Date')\n",
    "plt.xticks(rotation=90)\n",
    "plt.ylabel('Number of Users')\n",
    "plt.legend()\n",
    "plt.title('Distribution of Events per Date')"
   ]
  },
  {
   "cell_type": "markdown",
   "metadata": {},
   "source": [
    "Neste último gráfico, podemos observar a distribuição de eventos por data, com isso fica mais claro as atividades dos usuários, por dia, do início ao fim do experimento. Vemos que os dois experimentos diferem bastante ao longo dos dias, com um certo pico de eventos entre os dias 14 e 24 de dezembro para o grupo controle, enquanto que o variante permanece sem esse crescimento, e decai depois de ser encerrado o período de cadastro de novos usuários."
   ]
  },
  {
   "cell_type": "markdown",
   "metadata": {},
   "source": [
    "#### Analisando a confiabilidade do experimento:\n",
    "\n",
    "A seguir, vamos analisar a confiabilidade do experimento avaliando a proporção de algumas características relavantes que podem impactar as taxas de conversão e por conta disso devem ser proporcionais no grupo de controle e grupo variante:\n",
    "\n",
    "- device: dispositivo usado para o cadastro. O dispositivo utilizado pode impactar a experiência do usuário e consequentemente a conversão\n",
    "- region: Região do usuário. A região em que o usuário se localiza pode impactar a conversão por motivos econômicos."
   ]
  },
  {
   "cell_type": "markdown",
   "metadata": {},
   "source": [
    "Para avaliar se os dados são independentes será utilizado o teste de hipóteses qui-quadrado, este teste foi escolhido pois é teste ideal para avaliar distribuições de dados categóricos como esses.  \n",
    "\n",
    "O nível de sigificância escolhido foi alpha = 0.05, e serão testadas as hipóteses:  \n",
    "- Hipótese nula (H0): Não há uma diferença significativa nas proporções de usuários.  \n",
    "- Hipótese alternativa (H1): Há uma diferença significativa nas proporções de usuários."
   ]
  },
  {
   "cell_type": "markdown",
   "metadata": {},
   "source": [
    "##### Verificando a distribuição da amostra em relação a região"
   ]
  },
  {
   "cell_type": "code",
   "execution_count": 338,
   "metadata": {},
   "outputs": [],
   "source": [
    "# Merging the events data with user information\n",
    "df_event_group_user = df_event_group.merge(df_new_users, on='user_id', how='left')"
   ]
  },
  {
   "cell_type": "code",
   "execution_count": 339,
   "metadata": {},
   "outputs": [],
   "source": [
    "def distrib_graf(col_caract, col_group, col_user, df):\n",
    "    \"\"\"\n",
    "    Creating a function to group the data by the specified characteristic and group columns, counting unique users, and creating a bar plot after that\n",
    "    \n",
    "    Parameters:\n",
    "    - df: DataFrame containing the data\n",
    "    - col_caract: Column name for the characteristic to analyze\n",
    "    - col_group: Column name for the experiment group\n",
    "    - col_user: Columns name for the user id\n",
    "    \"\"\"\n",
    "    df_distrib = df.groupby([col_caract, col_group], as_index=False, observed=False)[col_user].nunique()\n",
    "\n",
    "    # Creating a bar plot to visualize the distribution\n",
    "    sns.barplot(data=df_distrib, x=col_caract, y=col_user, hue= col_group, palette=my_palette)\n",
    "    plt.xlabel('Feature')\n",
    "    plt.xticks(rotation=90)\n",
    "    plt.ylabel('Number of Users')\n",
    "    plt.legend()\n",
    "    plt.title('Distribution of Events')"
   ]
  },
  {
   "cell_type": "code",
   "execution_count": 340,
   "metadata": {},
   "outputs": [],
   "source": [
    "def qui2(df, col_caract, col_group, alpha=0.05):\n",
    "    \"\"\"\n",
    "    Create a chi-squared test to determine if there is a significant difference\n",
    "    in proportions between groups for a given characteristic.\n",
    "    \n",
    "    Parameters:\n",
    "    - df: DataFrame containing the data\n",
    "    - col_caract: Column name for the characteristic to analyze\n",
    "    - col_group: Column name for the group to compare\n",
    "    - alpha: Significance level for the test - default is 0.05\n",
    "    \"\"\"\n",
    "    contingency_table = pd.crosstab(index=df[col_caract], columns=df[col_group])\n",
    "    chi2, p, dof, expected = st.chi2_contingency(contingency_table)\n",
    "\n",
    "    # Printing the results\n",
    "    print(\"Tabela de Contingência:\")\n",
    "    print(contingency_table)\n",
    "    print(\"P-Valor:\", p)\n",
    "\n",
    "    # Checking if the p-value is less than the alpha\n",
    "    if p < alpha:\n",
    "        print(\"\\nRejeitamos a hipótese nula. Há uma diferença significativa nas proporções de usuários entre as regiões.\")\n",
    "    else:\n",
    "        print(\"\\nNão rejeitamos a hipótese nula. Não há uma diferença significativa nas proporções de usuários entre as regiões.\")"
   ]
  },
  {
   "cell_type": "code",
   "execution_count": 341,
   "metadata": {},
   "outputs": [
    {
     "name": "stderr",
     "output_type": "stream",
     "text": [
      "C:\\Users\\joaoq\\AppData\\Local\\Temp\\ipykernel_13624\\1125614784.py:14: UserWarning:\n",
      "\n",
      "The palette list has more values (6) than needed (2), which may not be intended.\n",
      "\n"
     ]
    },
    {
     "data": {
      "image/png": "[encoded data removed]",
      "text/plain": [
       "<Figure size 640x480 with 1 Axes>"
      ]
     },
     "metadata": {},
     "output_type": "display_data"
    }
   ],
   "source": [
    "# Plotting the distribution of unique users by 'region'\n",
    "distrib_graf('region','group','user_id',df_event_group_user)"
   ]
  },
  {
   "cell_type": "code",
   "execution_count": 342,
   "metadata": {},
   "outputs": [
    {
     "name": "stdout",
     "output_type": "stream",
     "text": [
      "Tabela de Contingência:\n",
      "group          A     B\n",
      "region                \n",
      "APAC         153    72\n",
      "CIS          125    81\n",
      "EU         17922  5085\n",
      "N.America    679   125\n",
      "P-Valor: 9.928610970847564e-15\n",
      "\n",
      "Rejeitamos a hipótese nula. Há uma diferença significativa nas proporções de usuários entre as regiões.\n"
     ]
    }
   ],
   "source": [
    "# Performing thr chi-squared test to the distribution of users between 'region'\n",
    "qui2(df_event_group_user,'region','group')"
   ]
  },
  {
   "cell_type": "markdown",
   "metadata": {},
   "source": [
    "##### Analisando se a proporção de cada amostra em relação ao dispositivo utilizado"
   ]
  },
  {
   "cell_type": "code",
   "execution_count": 343,
   "metadata": {},
   "outputs": [
    {
     "name": "stderr",
     "output_type": "stream",
     "text": [
      "C:\\Users\\joaoq\\AppData\\Local\\Temp\\ipykernel_13624\\1125614784.py:14: UserWarning:\n",
      "\n",
      "The palette list has more values (6) than needed (2), which may not be intended.\n",
      "\n"
     ]
    },
    {
     "data": {
      "image/png": "[encoded data removed]",
      "text/plain": [
       "<Figure size 640x480 with 1 Axes>"
      ]
     },
     "metadata": {},
     "output_type": "display_data"
    }
   ],
   "source": [
    "# Plotting the distribution of unique users by 'device'\n",
    "distrib_graf('device','group','user_id',df_event_group_user)"
   ]
  },
  {
   "cell_type": "code",
   "execution_count": 344,
   "metadata": {},
   "outputs": [
    {
     "name": "stdout",
     "output_type": "stream",
     "text": [
      "Tabela de Contingência:\n",
      "group       A     B\n",
      "device             \n",
      "Android  8145  2457\n",
      "Mac      1899   397\n",
      "PC       4833  1309\n",
      "iPhone   4002  1200\n",
      "P-Valor: 2.503761449396059e-09\n",
      "\n",
      "Rejeitamos a hipótese nula. Há uma diferença significativa nas proporções de usuários entre as regiões.\n"
     ]
    }
   ],
   "source": [
    "# Performing thr chi-squared test to the distribution of users between 'device'\n",
    "qui2(df_event_group_user,'device','group')"
   ]
  },
  {
   "cell_type": "markdown",
   "metadata": {},
   "source": [
    "##### Analisando a distribuição dos dados em relação aos experimentos que os usuários de cada grupo participou"
   ]
  },
  {
   "cell_type": "code",
   "execution_count": 345,
   "metadata": {},
   "outputs": [
    {
     "name": "stdout",
     "output_type": "stream",
     "text": [
      "Usuários do grupo controle que participaram dos dois experimentos: 340\n",
      "Usuários do grupo variante que participaram dos dois experimentos: 106\n"
     ]
    }
   ],
   "source": [
    "# Analisando a quantidade de usuários que participaram dos dois experimentos em cada grupo\n",
    "both_exp_A = df_A.groupby('user_id', as_index=False)['ab_test'].nunique().query('ab_test > 1')\n",
    "both_exp_B = df_B.groupby('user_id', as_index=False)['ab_test'].nunique().query('ab_test > 1')\n",
    "print(\"Usuários do grupo controle que participaram dos dois experimentos: {}\".format(len(both_exp_A)))\n",
    "print(\"Usuários do grupo variante que participaram dos dois experimentos: {}\".format(len(both_exp_B)))"
   ]
  },
  {
   "cell_type": "code",
   "execution_count": 346,
   "metadata": {},
   "outputs": [],
   "source": [
    "# Calcular a proporção de usuários do segundo experimento em cada grupo do primeiro experimento\n",
    "group_a_users = df_A[df_A['ab_test'] == 'recommender_system_test']\n",
    "group_b_users = df_B[df_B['ab_test'] == 'recommender_system_test']"
   ]
  },
  {
   "cell_type": "code",
   "execution_count": 347,
   "metadata": {},
   "outputs": [],
   "source": [
    "# Realizando um teste Z com esses valores\n",
    "# Contagem direta de usuários envolvidos em ambos os experimentos para cada grupo\n",
    "count_a = len(both_exp_A)\n",
    "count_b = len(both_exp_B)\n",
    "\n",
    "# Preparing data for the Z-test\n",
    "count = [count_a, count_b]\n",
    "nobs = [group_a_users.shape[0], group_b_users.shape[0]]\n",
    "\n",
    "# Performing the Z-test for proportions\n",
    "z_stat, p_value = proportions_ztest(count, nobs)\n",
    "\n",
    "# Calculating the proportions for each group\n",
    "prop_A = count_a / group_a_users.shape[0]\n",
    "prop_B = count_b / group_b_users.shape[0]"
   ]
  },
  {
   "cell_type": "code",
   "execution_count": 348,
   "metadata": {},
   "outputs": [
    {
     "name": "stdout",
     "output_type": "stream",
     "text": [
      "Proporção do teste 'interface_eu_test' no grupo A: 0.0205\n",
      "Proporção do teste 'interface_eu_test' no grupo B: 0.0227\n",
      "A variação na proporção dos testes da variante (B) em relação ao controle (A) foi: 10.44%\n",
      "P-Valor: 0.3666\n",
      "Não rejeitamos a hipótese nula. Não há uma diferença significativa na proporção entre os grupos.\n"
     ]
    }
   ],
   "source": [
    "# Printing the results\n",
    "print(f\"Proporção do teste 'interface_eu_test' no grupo A: {prop_A:.4f}\")\n",
    "print(f\"Proporção do teste 'interface_eu_test' no grupo B: {prop_B:.4f}\")\n",
    "print(f\"A variação na proporção dos testes da variante (B) em relação ao controle (A) foi: {((prop_B - prop_A)/prop_A):.2%}\")\n",
    "print(f\"P-Valor: {p_value:.4f}\")\n",
    "\n",
    "# Interpreting the results\n",
    "alpha = 0.05\n",
    "if p_value < alpha:\n",
    "    print(\"Rejeitamos a hipótese nula. Há uma diferença significativa na proporção do experimento 'interface_eu_test' entre os grupos.\")\n",
    "else:\n",
    "    print(\"Não rejeitamos a hipótese nula. Não há uma diferença significativa na proporção entre os grupos.\")"
   ]
  },
  {
   "cell_type": "markdown",
   "metadata": {},
   "source": [
    "Neste último tópico, analisamos a proporção de amostras do experimento 'interface_eu_test' por grupo A e B do experimento em questão (recommender system). Após separar os dados e analisar as proporções vimos que não houve diferença estatisticamente significativa na proporção do segundo experimento nos dois grupos do teste principal."
   ]
  },
  {
   "cell_type": "markdown",
   "metadata": {},
   "source": [
    "##### Particularidades dos dados"
   ]
  },
  {
   "cell_type": "markdown",
   "metadata": {},
   "source": [
    "Em geral, observamos algumas questões importantes a respeito dos dados do experimento que vamos verificar a seguir: os dados parecem estar bem distribuidos em relação ao número de eventos por usuário, ou seja, foram encontratas quantidades semelhantes nas duas amostras, além disso, também se observou estatísticas próximas em relação ao número de eventos (média, quartis, etc.); em relação ao número de eventos por dia, vemos uma grande diferença nos dois grupos, principalmente no volume total por dia, mas também em relação ao movimento de pico no grupo A, que não se observou no grupo B.\n",
    "\n",
    "Um fato que chamou a atenção e foi estatisticamente verificado é a proporção das características nos grupos como observado nos testes acima, pois apesar de a proporção de usuários participantes do segundo teste não serem estatisticamente diferentes nos dois grupos do teste principal, as distribuições entre as amostras não são independentes em relação a região do usuário e nem em relação ao dispositivo utilizado. E isso, por si só, já tornaria o experimento não totalmente confiável, pois essas desproporções podem comprometer os resultados do teste."
   ]
  },
  {
   "cell_type": "markdown",
   "metadata": {},
   "source": [
    "#### Avaliando os resultados do teste AB"
   ]
  },
  {
   "cell_type": "markdown",
   "metadata": {},
   "source": [
    "Para analisar os resultados dos testes, vamos primeiro filtrar os eventos que ocorreram em até 14 dias após o cadastro do usuário que realizou a ação."
   ]
  },
  {
   "cell_type": "code",
   "execution_count": 349,
   "metadata": {},
   "outputs": [],
   "source": [
    "# Filtering date columns\n",
    "df_event_group_user = df_event_group_user[df_event_group_user.apply(\n",
    "    lambda row: row['event_day'] - row['first_date'] < pd.to_timedelta(14, unit='D'), axis=1)]"
   ]
  },
  {
   "cell_type": "code",
   "execution_count": 350,
   "metadata": {},
   "outputs": [],
   "source": [
    "# Splitting filtered data into group A and B\n",
    "df_A_filtered = df_event_group_user[df_event_group_user['group'] == 'A']\n",
    "df_B_filtered = df_event_group_user[df_event_group_user['group'] == 'B']"
   ]
  },
  {
   "cell_type": "markdown",
   "metadata": {},
   "source": [
    "##### Calculando a taxa de conversão dos dois grupos"
   ]
  },
  {
   "cell_type": "code",
   "execution_count": 351,
   "metadata": {},
   "outputs": [
    {
     "name": "stdout",
     "output_type": "stream",
     "text": [
      "Eventos do grupo controle:\n",
      "event_name\n",
      "login           2422\n",
      "product_cart     728\n",
      "product_page    1571\n",
      "purchase         773\n",
      "Name: user_id, dtype: int64\n",
      "\n",
      "Eventos do grupo variante:\n",
      "event_name\n",
      "login           811\n",
      "product_cart    225\n",
      "product_page    461\n",
      "purchase        228\n",
      "Name: user_id, dtype: int64\n"
     ]
    },
    {
     "name": "stderr",
     "output_type": "stream",
     "text": [
      "C:\\Users\\joaoq\\AppData\\Local\\Temp\\ipykernel_13624\\3941279426.py:2: FutureWarning:\n",
      "\n",
      "The default of observed=False is deprecated and will be changed to True in a future version of pandas. Pass observed=False to retain current behavior or observed=True to adopt the future default and silence this warning.\n",
      "\n",
      "C:\\Users\\joaoq\\AppData\\Local\\Temp\\ipykernel_13624\\3941279426.py:3: FutureWarning:\n",
      "\n",
      "The default of observed=False is deprecated and will be changed to True in a future version of pandas. Pass observed=False to retain current behavior or observed=True to adopt the future default and silence this warning.\n",
      "\n"
     ]
    }
   ],
   "source": [
    "# Grouping users in each experiment group by event, and counting the number of unique results\n",
    "event_A = df_A_filtered.groupby('event_name')['user_id'].nunique()\n",
    "event_B = df_B_filtered.groupby('event_name')['user_id'].nunique()\n",
    "\n",
    "# Printing the results\n",
    "print('Eventos do grupo controle:')\n",
    "print(event_A)\n",
    "print()\n",
    "print('Eventos do grupo variante:')\n",
    "print(event_B)"
   ]
  },
  {
   "cell_type": "code",
   "execution_count": 352,
   "metadata": {},
   "outputs": [],
   "source": [
    "def z_value(event, alpha=0.05):\n",
    "    '''\n",
    "    Performs a Z-test to compare the proportions of a specific event.\n",
    "    \n",
    "    Parameters:\n",
    "    - event: The name of the event.\n",
    "    - alpha: Significance level for the test - default is 0.05.\n",
    "    '''\n",
    "    # Counting the number of unique users who performed the event in each group\n",
    "    convert_A = df_A_filtered[df_A_filtered['event_name'] == event]['user_id'].nunique()\n",
    "    convert_B = df_B_filtered[df_B_filtered['event_name'] == event]['user_id'].nunique()\n",
    "\n",
    "    # Counting the total number of unique users in each group\n",
    "    total_users_A = df_A_filtered['user_id'].nunique()\n",
    "    total_users_B = df_B_filtered['user_id'].nunique()\n",
    "\n",
    "    # Preparing data for the Z-test\n",
    "    count = [convert_A, convert_B]\n",
    "    nobs = [total_users_A, total_users_B]\n",
    "\n",
    "    # Performing the Z-test for proportions\n",
    "    z_stat, p_value = proportions_ztest(count, nobs)\n",
    "\n",
    "    # Calculating the proportions for each group\n",
    "    prop_A = convert_A / total_users_A\n",
    "    prop_B = convert_B / total_users_B\n",
    "\n",
    "    # Printing the results\n",
    "    print(f\"Proporção de conversão no grupo A: {prop_A:.4f}\")\n",
    "    print(f\"Proporção de conversão no grupo B: {prop_B:.4f}\")\n",
    "    print(f\"A variação na taxa de conversão da variante (B) em relação ao controle (A) foi: {((prop_B - prop_A)/prop_A):.2%}\")\n",
    "    print(f\"P-Valor: {p_value:.4f}\")\n",
    "\n",
    "    # Interpreting the results\n",
    "    if p_value < alpha:\n",
    "        print(\"Rejeitamos a hipótese nula. Há uma diferença significativa na proporção de conversão entre os grupos.\")\n",
    "    else:\n",
    "        print(\"Não rejeitamos a hipótese nula. Não há uma diferença significativa na proporção de conversão entre os grupos.\")"
   ]
  },
  {
   "cell_type": "code",
   "execution_count": 353,
   "metadata": {},
   "outputs": [
    {
     "name": "stdout",
     "output_type": "stream",
     "text": [
      "Evento:product_page\n",
      "Proporção de conversão no grupo A: 0.6486\n",
      "Proporção de conversão no grupo B: 0.5677\n",
      "A variação na taxa de conversão da variante (B) em relação ao controle (A) foi: -12.47%\n",
      "P-Valor: 0.0000\n",
      "Rejeitamos a hipótese nula. Há uma diferença significativa na proporção de conversão entre os grupos.\n",
      "\n",
      "Evento:product_cart\n",
      "Proporção de conversão no grupo A: 0.3006\n",
      "Proporção de conversão no grupo B: 0.2771\n",
      "A variação na taxa de conversão da variante (B) em relação ao controle (A) foi: -7.81%\n",
      "P-Valor: 0.2040\n",
      "Não rejeitamos a hipótese nula. Não há uma diferença significativa na proporção de conversão entre os grupos.\n",
      "\n",
      "Evento:purchase\n",
      "Proporção de conversão no grupo A: 0.3192\n",
      "Proporção de conversão no grupo B: 0.2808\n",
      "A variação na taxa de conversão da variante (B) em relação ao controle (A) foi: -12.02%\n",
      "P-Valor: 0.0407\n",
      "Rejeitamos a hipótese nula. Há uma diferença significativa na proporção de conversão entre os grupos.\n",
      "\n"
     ]
    }
   ],
   "source": [
    "# Getting a list of unique event from the DataFrame\n",
    "eventos = ['product_page', 'product_cart', 'purchase']\n",
    "\n",
    "# Looping through each event to perform the Z-test\n",
    "for event in eventos:\n",
    "    print('Evento:{}'.format(event))\n",
    "    z_value(event)\n",
    "    print()"
   ]
  },
  {
   "cell_type": "markdown",
   "metadata": {},
   "source": [
    "Para os testes estatísticos acima, foi definido que seria utilizado o teste Z-test para avaliar se a diferença entre as proporções de conversão são ou não estatisticamente significativas, o teste foi escolhido pois vamos comparar apenas duas proporções simultaneamente, e também é mais comum de ser utilizada para comparar taxas de conversão.\n",
    "\n",
    "O nível de sigificância escolhido foi novamente alpha = 0.05, e serão testadas as hipóteses:  \n",
    "- Hipótese nula (H0): Não há uma diferença significativa nas proporções de conversão.  \n",
    "- Hipótese alternativa (H1): Há uma diferença significativa nas proporções de conversão."
   ]
  },
  {
   "cell_type": "markdown",
   "metadata": {},
   "source": [
    "Analisando a proporção de conversões nos três eventos a serem analisados em cada grupo, podemos observar que no grupo variante houve uma conversão menor em relação ao grupo controle, o que indicaria um desempenho pior após as alterações na visualização das páginas."
   ]
  },
  {
   "cell_type": "markdown",
   "metadata": {},
   "source": [
    "##### Calculando o ticket médio das compras de cada grupo"
   ]
  },
  {
   "cell_type": "code",
   "execution_count": 354,
   "metadata": {},
   "outputs": [],
   "source": [
    "# Filtering the DataFrames for 'purchase' events and selecting date and details\n",
    "orders_value_A = df_A_filtered[df_A_filtered['event_name'] == 'purchase'][['event_day','details']]\n",
    "orders_value_B = df_B_filtered[df_B_filtered['event_name'] == 'purchase'][['event_day','details']]"
   ]
  },
  {
   "cell_type": "code",
   "execution_count": 355,
   "metadata": {},
   "outputs": [],
   "source": [
    "# Creating a column for cumulative values\n",
    "orders_value_A['cumulative_sales'] = orders_value_A['details'].cumsum()\n",
    "orders_value_B['cumulative_sales'] = orders_value_B['details'].cumsum()"
   ]
  },
  {
   "cell_type": "code",
   "execution_count": 356,
   "metadata": {},
   "outputs": [
    {
     "data": {
      "image/png": "[encoded data removed]",
      "text/plain": [
       "<Figure size 1200x600 with 1 Axes>"
      ]
     },
     "metadata": {},
     "output_type": "display_data"
    }
   ],
   "source": [
    "# Plotting a bar chart for the comulative values\n",
    "plt.figure(figsize=(12, 6))\n",
    "sns.barplot(data=orders_value_A, x='event_day', y='cumulative_sales', color= my_palette[0], label='Grupo A')\n",
    "sns.barplot(data=orders_value_B, x='event_day', y='cumulative_sales', color= my_palette[1], label='Grupo B')\n",
    "plt.xlabel('Data')\n",
    "plt.ylabel('Vendas Acumuladas')\n",
    "plt.title('Valor Acumulado das Vendas por Data')\n",
    "plt.legend()\n",
    "plt.xticks(rotation=45)\n",
    "plt.tight_layout()\n",
    "\n",
    "# Showing the chart\n",
    "plt.show()"
   ]
  },
  {
   "cell_type": "code",
   "execution_count": 357,
   "metadata": {},
   "outputs": [
    {
     "name": "stdout",
     "output_type": "stream",
     "text": [
      "Ticket médio do grupo controle: 23.254398917665252\n",
      "Ticket médio do grupo variante: 24.63176829268293\n"
     ]
    }
   ],
   "source": [
    "# Printing the average purchases\n",
    "print('Ticket médio do grupo controle:', orders_value_A['details'].mean())\n",
    "print('Ticket médio do grupo variante:', orders_value_B['details'].mean())"
   ]
  },
  {
   "cell_type": "code",
   "execution_count": 358,
   "metadata": {},
   "outputs": [
    {
     "name": "stdout",
     "output_type": "stream",
     "text": [
      "P-Value: 0.8184\n",
      "Não rejeitamos a hipótese nula. Não há uma diferença significativa no ticket médio dos grupos.\n"
     ]
    }
   ],
   "source": [
    "# Performing the Mann-Whitney test to compare the average ticket values\n",
    "results = st.mannwhitneyu(orders_value_A['details'], orders_value_B['details'])\n",
    "\n",
    "# Printing the p-value\n",
    "print(f\"P-Value: {results.pvalue:.4f}\")\n",
    "\n",
    "# Interpreting the results based on the p-value\n",
    "alpha = 0.05\n",
    "if results.pvalue < alpha:\n",
    "    print(\"Rejeitamos a hipótese nula. Há uma diferença significativa no ticket médio dos grupos.\")\n",
    "else:\n",
    "    print(\"Não rejeitamos a hipótese nula. Não há uma diferença significativa no ticket médio dos grupos.\")"
   ]
  },
  {
   "cell_type": "markdown",
   "metadata": {},
   "source": [
    "O teste estatístico utilizado para a comparação dos ticket médios de cada grupo do experimento foi o teste Mann-Whitney U, pois os valores das compras não seguem distribuições normais.\n",
    "\n",
    "O nível de sigificância escolhido foi alpha = 0.05, e serão testadas as hipóteses:  \n",
    "- Hipótese nula (H0): Não há uma diferença significativa no ticket médio dos grupos.\n",
    "- Hipótese alternativa (H1): Há uma diferença significativa no ticket médio dos grupos.\n",
    "\n",
    "Através do teste acima, foi constatado que não há uma diferença significativa no ticket médio entre os grupos."
   ]
  },
  {
   "cell_type": "markdown",
   "metadata": {},
   "source": [
    "#### Conclusão Geral"
   ]
  },
  {
   "cell_type": "markdown",
   "metadata": {},
   "source": [
    "Depois de todas as análises, podemos tirar as seguintes conclusões:\n",
    "\n",
    "##### Resultado:\n",
    "O resultado esperado era de uma conversão 10% maior em todas as etapas do funil, o que não ocorreu, foi identificado inclusive uma conversão menor no segundo grupo.\n",
    "\n",
    "##### Avaliação geral sobre o teste\n",
    "Após avaliar as premissas do teste, além de outros pontos que não foram bem monitorados na seleção das observações do experimento, como a quantidade de usuários no grupo A em relação ao grupo B, e as proporções de usuários distribuídos nas regiões e dispositivos utilizados serem estatísticamente enviesadas, podemos constatar que esses pontos nos permitem constatar que os resultados do experimento não são confiáveis."
   ]
  }
 ],
 "metadata": {
  "kernelspec": {
   "display_name": "myenv",
   "language": "python",
   "name": "python3"
  },
  "language_info": {
   "codemirror_mode": {
    "name": "ipython",
    "version": 3
   },
   "file_extension": ".py",
   "mimetype": "text/x-python",
   "name": "python",
   "nbconvert_exporter": "python",
   "pygments_lexer": "ipython3",
   "version": "3.12.2"
  }
 },
 "nbformat": 4,
 "nbformat_minor": 2
}
